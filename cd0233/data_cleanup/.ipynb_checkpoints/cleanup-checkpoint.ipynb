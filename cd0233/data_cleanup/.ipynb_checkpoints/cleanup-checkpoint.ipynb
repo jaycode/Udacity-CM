{
 "cells": [
  {
   "cell_type": "markdown",
   "id": "cc15f6df-a059-4cd1-b649-cc9a27d8cc03",
   "metadata": {},
   "source": [
    "# Import + Load"
   ]
  },
  {
   "cell_type": "code",
   "execution_count": 1,
   "id": "d4abcdf6-2160-4a49-870c-ddb51d1d4382",
   "metadata": {},
   "outputs": [],
   "source": [
    "import pandas as pd\n",
    "import re\n",
    "import json\n",
    "import numpy as np\n",
    "import ast\n",
    "import time"
   ]
  },
  {
   "cell_type": "code",
   "execution_count": 2,
   "id": "2fb14f90-259f-49c7-8e5c-43d0088c9961",
   "metadata": {},
   "outputs": [
    {
     "name": "stdout",
     "output_type": "stream",
     "text": [
      "<class 'pandas.core.frame.DataFrame'>\n",
      "RangeIndex: 45466 entries, 0 to 45465\n",
      "Data columns (total 24 columns):\n",
      " #   Column                 Non-Null Count  Dtype  \n",
      "---  ------                 --------------  -----  \n",
      " 0   adult                  45466 non-null  object \n",
      " 1   belongs_to_collection  4494 non-null   object \n",
      " 2   budget                 45466 non-null  object \n",
      " 3   genres                 45466 non-null  object \n",
      " 4   homepage               7782 non-null   object \n",
      " 5   id                     45466 non-null  object \n",
      " 6   imdb_id                45449 non-null  object \n",
      " 7   original_language      45455 non-null  object \n",
      " 8   original_title         45466 non-null  object \n",
      " 9   overview               44512 non-null  object \n",
      " 10  popularity             45461 non-null  object \n",
      " 11  poster_path            45080 non-null  object \n",
      " 12  production_companies   45463 non-null  object \n",
      " 13  production_countries   45463 non-null  object \n",
      " 14  release_date           45379 non-null  object \n",
      " 15  revenue                45460 non-null  float64\n",
      " 16  runtime                45203 non-null  float64\n",
      " 17  spoken_languages       45460 non-null  object \n",
      " 18  status                 45379 non-null  object \n",
      " 19  tagline                20412 non-null  object \n",
      " 20  title                  45460 non-null  object \n",
      " 21  video                  45460 non-null  object \n",
      " 22  vote_average           45460 non-null  float64\n",
      " 23  vote_count             45460 non-null  float64\n",
      "dtypes: float64(4), object(20)\n",
      "memory usage: 8.3+ MB\n"
     ]
    },
    {
     "name": "stderr",
     "output_type": "stream",
     "text": [
      "/tmp/ipykernel_41324/3629544706.py:1: DtypeWarning: Columns (10) have mixed types. Specify dtype option on import or set low_memory=False.\n",
      "  df = pd.read_csv(\"movies/movies_metadata.csv\")\n"
     ]
    }
   ],
   "source": [
    "df = pd.read_csv(\"movies/movies_metadata.csv\")\n",
    "df.info()"
   ]
  },
  {
   "cell_type": "code",
   "execution_count": 3,
   "id": "1f275283-37cc-4be8-821e-86d71853532c",
   "metadata": {},
   "outputs": [
    {
     "data": {
      "text/html": [
       "<div>\n",
       "<style scoped>\n",
       "    .dataframe tbody tr th:only-of-type {\n",
       "        vertical-align: middle;\n",
       "    }\n",
       "\n",
       "    .dataframe tbody tr th {\n",
       "        vertical-align: top;\n",
       "    }\n",
       "\n",
       "    .dataframe thead th {\n",
       "        text-align: right;\n",
       "    }\n",
       "</style>\n",
       "<table border=\"1\" class=\"dataframe\">\n",
       "  <thead>\n",
       "    <tr style=\"text-align: right;\">\n",
       "      <th></th>\n",
       "      <th>adult</th>\n",
       "      <th>belongs_to_collection</th>\n",
       "      <th>budget</th>\n",
       "      <th>genres</th>\n",
       "      <th>homepage</th>\n",
       "      <th>id</th>\n",
       "      <th>imdb_id</th>\n",
       "      <th>original_language</th>\n",
       "      <th>original_title</th>\n",
       "      <th>overview</th>\n",
       "      <th>...</th>\n",
       "      <th>release_date</th>\n",
       "      <th>revenue</th>\n",
       "      <th>runtime</th>\n",
       "      <th>spoken_languages</th>\n",
       "      <th>status</th>\n",
       "      <th>tagline</th>\n",
       "      <th>title</th>\n",
       "      <th>video</th>\n",
       "      <th>vote_average</th>\n",
       "      <th>vote_count</th>\n",
       "    </tr>\n",
       "  </thead>\n",
       "  <tbody>\n",
       "    <tr>\n",
       "      <th>0</th>\n",
       "      <td>False</td>\n",
       "      <td>{'id': 10194, 'name': 'Toy Story Collection', ...</td>\n",
       "      <td>30000000</td>\n",
       "      <td>[{'id': 16, 'name': 'Animation'}, {'id': 35, '...</td>\n",
       "      <td>http://toystory.disney.com/toy-story</td>\n",
       "      <td>862</td>\n",
       "      <td>tt0114709</td>\n",
       "      <td>en</td>\n",
       "      <td>Toy Story</td>\n",
       "      <td>Led by Woody, Andy's toys live happily in his ...</td>\n",
       "      <td>...</td>\n",
       "      <td>1995-10-30</td>\n",
       "      <td>373554033.0</td>\n",
       "      <td>81.0</td>\n",
       "      <td>[{'iso_639_1': 'en', 'name': 'English'}]</td>\n",
       "      <td>Released</td>\n",
       "      <td>NaN</td>\n",
       "      <td>Toy Story</td>\n",
       "      <td>False</td>\n",
       "      <td>7.7</td>\n",
       "      <td>5415.0</td>\n",
       "    </tr>\n",
       "    <tr>\n",
       "      <th>1</th>\n",
       "      <td>False</td>\n",
       "      <td>NaN</td>\n",
       "      <td>65000000</td>\n",
       "      <td>[{'id': 12, 'name': 'Adventure'}, {'id': 14, '...</td>\n",
       "      <td>NaN</td>\n",
       "      <td>8844</td>\n",
       "      <td>tt0113497</td>\n",
       "      <td>en</td>\n",
       "      <td>Jumanji</td>\n",
       "      <td>When siblings Judy and Peter discover an encha...</td>\n",
       "      <td>...</td>\n",
       "      <td>1995-12-15</td>\n",
       "      <td>262797249.0</td>\n",
       "      <td>104.0</td>\n",
       "      <td>[{'iso_639_1': 'en', 'name': 'English'}, {'iso...</td>\n",
       "      <td>Released</td>\n",
       "      <td>Roll the dice and unleash the excitement!</td>\n",
       "      <td>Jumanji</td>\n",
       "      <td>False</td>\n",
       "      <td>6.9</td>\n",
       "      <td>2413.0</td>\n",
       "    </tr>\n",
       "    <tr>\n",
       "      <th>2</th>\n",
       "      <td>False</td>\n",
       "      <td>{'id': 119050, 'name': 'Grumpy Old Men Collect...</td>\n",
       "      <td>0</td>\n",
       "      <td>[{'id': 10749, 'name': 'Romance'}, {'id': 35, ...</td>\n",
       "      <td>NaN</td>\n",
       "      <td>15602</td>\n",
       "      <td>tt0113228</td>\n",
       "      <td>en</td>\n",
       "      <td>Grumpier Old Men</td>\n",
       "      <td>A family wedding reignites the ancient feud be...</td>\n",
       "      <td>...</td>\n",
       "      <td>1995-12-22</td>\n",
       "      <td>0.0</td>\n",
       "      <td>101.0</td>\n",
       "      <td>[{'iso_639_1': 'en', 'name': 'English'}]</td>\n",
       "      <td>Released</td>\n",
       "      <td>Still Yelling. Still Fighting. Still Ready for...</td>\n",
       "      <td>Grumpier Old Men</td>\n",
       "      <td>False</td>\n",
       "      <td>6.5</td>\n",
       "      <td>92.0</td>\n",
       "    </tr>\n",
       "    <tr>\n",
       "      <th>3</th>\n",
       "      <td>False</td>\n",
       "      <td>NaN</td>\n",
       "      <td>16000000</td>\n",
       "      <td>[{'id': 35, 'name': 'Comedy'}, {'id': 18, 'nam...</td>\n",
       "      <td>NaN</td>\n",
       "      <td>31357</td>\n",
       "      <td>tt0114885</td>\n",
       "      <td>en</td>\n",
       "      <td>Waiting to Exhale</td>\n",
       "      <td>Cheated on, mistreated and stepped on, the wom...</td>\n",
       "      <td>...</td>\n",
       "      <td>1995-12-22</td>\n",
       "      <td>81452156.0</td>\n",
       "      <td>127.0</td>\n",
       "      <td>[{'iso_639_1': 'en', 'name': 'English'}]</td>\n",
       "      <td>Released</td>\n",
       "      <td>Friends are the people who let you be yourself...</td>\n",
       "      <td>Waiting to Exhale</td>\n",
       "      <td>False</td>\n",
       "      <td>6.1</td>\n",
       "      <td>34.0</td>\n",
       "    </tr>\n",
       "    <tr>\n",
       "      <th>4</th>\n",
       "      <td>False</td>\n",
       "      <td>{'id': 96871, 'name': 'Father of the Bride Col...</td>\n",
       "      <td>0</td>\n",
       "      <td>[{'id': 35, 'name': 'Comedy'}]</td>\n",
       "      <td>NaN</td>\n",
       "      <td>11862</td>\n",
       "      <td>tt0113041</td>\n",
       "      <td>en</td>\n",
       "      <td>Father of the Bride Part II</td>\n",
       "      <td>Just when George Banks has recovered from his ...</td>\n",
       "      <td>...</td>\n",
       "      <td>1995-02-10</td>\n",
       "      <td>76578911.0</td>\n",
       "      <td>106.0</td>\n",
       "      <td>[{'iso_639_1': 'en', 'name': 'English'}]</td>\n",
       "      <td>Released</td>\n",
       "      <td>Just When His World Is Back To Normal... He's ...</td>\n",
       "      <td>Father of the Bride Part II</td>\n",
       "      <td>False</td>\n",
       "      <td>5.7</td>\n",
       "      <td>173.0</td>\n",
       "    </tr>\n",
       "  </tbody>\n",
       "</table>\n",
       "<p>5 rows × 24 columns</p>\n",
       "</div>"
      ],
      "text/plain": [
       "   adult                              belongs_to_collection    budget  \\\n",
       "0  False  {'id': 10194, 'name': 'Toy Story Collection', ...  30000000   \n",
       "1  False                                                NaN  65000000   \n",
       "2  False  {'id': 119050, 'name': 'Grumpy Old Men Collect...         0   \n",
       "3  False                                                NaN  16000000   \n",
       "4  False  {'id': 96871, 'name': 'Father of the Bride Col...         0   \n",
       "\n",
       "                                              genres  \\\n",
       "0  [{'id': 16, 'name': 'Animation'}, {'id': 35, '...   \n",
       "1  [{'id': 12, 'name': 'Adventure'}, {'id': 14, '...   \n",
       "2  [{'id': 10749, 'name': 'Romance'}, {'id': 35, ...   \n",
       "3  [{'id': 35, 'name': 'Comedy'}, {'id': 18, 'nam...   \n",
       "4                     [{'id': 35, 'name': 'Comedy'}]   \n",
       "\n",
       "                               homepage     id    imdb_id original_language  \\\n",
       "0  http://toystory.disney.com/toy-story    862  tt0114709                en   \n",
       "1                                   NaN   8844  tt0113497                en   \n",
       "2                                   NaN  15602  tt0113228                en   \n",
       "3                                   NaN  31357  tt0114885                en   \n",
       "4                                   NaN  11862  tt0113041                en   \n",
       "\n",
       "                original_title  \\\n",
       "0                    Toy Story   \n",
       "1                      Jumanji   \n",
       "2             Grumpier Old Men   \n",
       "3            Waiting to Exhale   \n",
       "4  Father of the Bride Part II   \n",
       "\n",
       "                                            overview  ... release_date  \\\n",
       "0  Led by Woody, Andy's toys live happily in his ...  ...   1995-10-30   \n",
       "1  When siblings Judy and Peter discover an encha...  ...   1995-12-15   \n",
       "2  A family wedding reignites the ancient feud be...  ...   1995-12-22   \n",
       "3  Cheated on, mistreated and stepped on, the wom...  ...   1995-12-22   \n",
       "4  Just when George Banks has recovered from his ...  ...   1995-02-10   \n",
       "\n",
       "       revenue runtime                                   spoken_languages  \\\n",
       "0  373554033.0    81.0           [{'iso_639_1': 'en', 'name': 'English'}]   \n",
       "1  262797249.0   104.0  [{'iso_639_1': 'en', 'name': 'English'}, {'iso...   \n",
       "2          0.0   101.0           [{'iso_639_1': 'en', 'name': 'English'}]   \n",
       "3   81452156.0   127.0           [{'iso_639_1': 'en', 'name': 'English'}]   \n",
       "4   76578911.0   106.0           [{'iso_639_1': 'en', 'name': 'English'}]   \n",
       "\n",
       "     status                                            tagline  \\\n",
       "0  Released                                                NaN   \n",
       "1  Released          Roll the dice and unleash the excitement!   \n",
       "2  Released  Still Yelling. Still Fighting. Still Ready for...   \n",
       "3  Released  Friends are the people who let you be yourself...   \n",
       "4  Released  Just When His World Is Back To Normal... He's ...   \n",
       "\n",
       "                         title  video vote_average vote_count  \n",
       "0                    Toy Story  False          7.7     5415.0  \n",
       "1                      Jumanji  False          6.9     2413.0  \n",
       "2             Grumpier Old Men  False          6.5       92.0  \n",
       "3            Waiting to Exhale  False          6.1       34.0  \n",
       "4  Father of the Bride Part II  False          5.7      173.0  \n",
       "\n",
       "[5 rows x 24 columns]"
      ]
     },
     "execution_count": 3,
     "metadata": {},
     "output_type": "execute_result"
    }
   ],
   "source": [
    "df.head()"
   ]
  },
  {
   "cell_type": "markdown",
   "id": "bf43c57f-69bb-41e0-8613-5b219e54bc98",
   "metadata": {},
   "source": [
    "# Assessments\n",
    "\n",
    "Let's try to find columns with multiple values on each of its rows."
   ]
  },
  {
   "cell_type": "code",
   "execution_count": 4,
   "id": "8904ace3-1871-43b3-8529-a4f541ac5b8e",
   "metadata": {},
   "outputs": [
    {
     "name": "stdout",
     "output_type": "stream",
     "text": [
      "Columns with multiple values: ['belongs_to_collection', 'genres', 'homepage', 'original_title', 'overview', 'production_companies', 'production_countries', 'spoken_languages']\n"
     ]
    }
   ],
   "source": [
    "# Function to identify columns with multiple values\n",
    "def identify_multi_value_columns(df):\n",
    "    multi_value_columns = []\n",
    "    pattern = re.compile(r'{')  # Pattern to match multi-value entries\n",
    "\n",
    "    for column in df.columns:\n",
    "        if df[column].astype(str).apply(lambda x: bool(pattern.search(x))).any():\n",
    "            multi_value_columns.append(column)\n",
    "    \n",
    "    return multi_value_columns\n",
    "\n",
    "multi_value_columns = identify_multi_value_columns(df)\n",
    "print(\"Columns with multiple values:\", multi_value_columns)"
   ]
  },
  {
   "cell_type": "markdown",
   "id": "47ffa668-7593-4894-ae6d-061c13a7c37e",
   "metadata": {},
   "source": [
    "It's odd that we have `belongs_to_collection`, `homepage`, `original_title`, and `overview` in the list. The others are plural so they made sense. Let's analyze them one-by-one."
   ]
  },
  {
   "cell_type": "markdown",
   "id": "163e10ef-55d5-49ff-bdc4-cf3f3581c3b5",
   "metadata": {},
   "source": [
    "## 1. Weird Original Titles\n",
    "\n",
    "Some original_title values are JSON, and they don't have titles."
   ]
  },
  {
   "cell_type": "code",
   "execution_count": 5,
   "id": "1b9735ad-9f21-4168-98d6-23228117949c",
   "metadata": {},
   "outputs": [
    {
     "data": {
      "text/html": [
       "<div>\n",
       "<style scoped>\n",
       "    .dataframe tbody tr th:only-of-type {\n",
       "        vertical-align: middle;\n",
       "    }\n",
       "\n",
       "    .dataframe tbody tr th {\n",
       "        vertical-align: top;\n",
       "    }\n",
       "\n",
       "    .dataframe thead th {\n",
       "        text-align: right;\n",
       "    }\n",
       "</style>\n",
       "<table border=\"1\" class=\"dataframe\">\n",
       "  <thead>\n",
       "    <tr style=\"text-align: right;\">\n",
       "      <th></th>\n",
       "      <th>original_title</th>\n",
       "      <th>title</th>\n",
       "    </tr>\n",
       "  </thead>\n",
       "  <tbody>\n",
       "    <tr>\n",
       "      <th>19730</th>\n",
       "      <td>[{'iso_639_1': 'en', 'name': 'English'}]</td>\n",
       "      <td>NaN</td>\n",
       "    </tr>\n",
       "    <tr>\n",
       "      <th>29503</th>\n",
       "      <td>[{'iso_639_1': 'ja', 'name': '日本語'}]</td>\n",
       "      <td>NaN</td>\n",
       "    </tr>\n",
       "    <tr>\n",
       "      <th>35587</th>\n",
       "      <td>[{'iso_639_1': 'en', 'name': 'English'}]</td>\n",
       "      <td>NaN</td>\n",
       "    </tr>\n",
       "  </tbody>\n",
       "</table>\n",
       "</div>"
      ],
      "text/plain": [
       "                                 original_title title\n",
       "19730  [{'iso_639_1': 'en', 'name': 'English'}]   NaN\n",
       "29503      [{'iso_639_1': 'ja', 'name': '日本語'}]   NaN\n",
       "35587  [{'iso_639_1': 'en', 'name': 'English'}]   NaN"
      ]
     },
     "execution_count": 5,
     "metadata": {},
     "output_type": "execute_result"
    }
   ],
   "source": [
    "df[df['original_title'].str.contains(r'{', regex=True)][['original_title', 'title']]"
   ]
  },
  {
   "cell_type": "markdown",
   "id": "3f6e53f0-6851-43e9-8b2e-93418c6f9ab2",
   "metadata": {},
   "source": [
    "One of the rows looks like this."
   ]
  },
  {
   "cell_type": "code",
   "execution_count": 6,
   "id": "0f0bf185-ee31-4ed4-a2c3-b4814bc45ccb",
   "metadata": {
    "scrolled": true
   },
   "outputs": [
    {
     "data": {
      "text/plain": [
       "adult                                                   - Written by Ørnås\n",
       "belongs_to_collection                                             0.065736\n",
       "budget                                    /ff9qCepilowshEtG2GYWwzt2bs4.jpg\n",
       "genres                   [{'name': 'Carousel Productions', 'id': 11176}...\n",
       "homepage                 [{'iso_3166_1': 'CA', 'name': 'Canada'}, {'iso...\n",
       "id                                                              1997-08-20\n",
       "imdb_id                                                                  0\n",
       "original_language                                                    104.0\n",
       "original_title                    [{'iso_639_1': 'en', 'name': 'English'}]\n",
       "overview                                                          Released\n",
       "popularity                                                             NaN\n",
       "poster_path                                                   Midnight Man\n",
       "production_companies                                                 False\n",
       "production_countries                                                   6.0\n",
       "release_date                                                             1\n",
       "revenue                                                                NaN\n",
       "runtime                                                                NaN\n",
       "spoken_languages                                                       NaN\n",
       "status                                                                 NaN\n",
       "tagline                                                                NaN\n",
       "title                                                                  NaN\n",
       "video                                                                  NaN\n",
       "vote_average                                                           NaN\n",
       "vote_count                                                             NaN\n",
       "Name: 19730, dtype: object"
      ]
     },
     "execution_count": 6,
     "metadata": {},
     "output_type": "execute_result"
    }
   ],
   "source": [
    "df.loc[19730]"
   ]
  },
  {
   "cell_type": "markdown",
   "id": "9d7b9de0-5023-4fb3-bc9a-d8835d46e140",
   "metadata": {},
   "source": [
    "`value_counts()` of `original_title` to get an idea of how it should look like."
   ]
  },
  {
   "cell_type": "code",
   "execution_count": 7,
   "id": "5dce94a7-3ef7-404c-b007-0032739174f8",
   "metadata": {},
   "outputs": [
    {
     "data": {
      "text/plain": [
       "original_title\n",
       "Hamlet                         8\n",
       "Alice in Wonderland            8\n",
       "A Christmas Carol              7\n",
       "Cinderella                     7\n",
       "Les Misérables                 7\n",
       "                              ..\n",
       "Dracula: Dead and Loving It    1\n",
       "The American President         1\n",
       "GoldenEye                      1\n",
       "Sudden Death                   1\n",
       "Tom and Huck                   1\n",
       "Name: count, Length: 43373, dtype: int64"
      ]
     },
     "execution_count": 7,
     "metadata": {},
     "output_type": "execute_result"
    }
   ],
   "source": [
    "df['original_title'].value_counts(dropna=False)"
   ]
  },
  {
   "cell_type": "markdown",
   "id": "3c706a79-ea48-4b88-9129-f04f72735866",
   "metadata": {},
   "source": [
    "How about other titles. Are there any NaNs?"
   ]
  },
  {
   "cell_type": "code",
   "execution_count": 8,
   "id": "48b1905f-2313-49f5-8e3d-7a22287a7380",
   "metadata": {},
   "outputs": [
    {
     "data": {
      "text/html": [
       "<div>\n",
       "<style scoped>\n",
       "    .dataframe tbody tr th:only-of-type {\n",
       "        vertical-align: middle;\n",
       "    }\n",
       "\n",
       "    .dataframe tbody tr th {\n",
       "        vertical-align: top;\n",
       "    }\n",
       "\n",
       "    .dataframe thead th {\n",
       "        text-align: right;\n",
       "    }\n",
       "</style>\n",
       "<table border=\"1\" class=\"dataframe\">\n",
       "  <thead>\n",
       "    <tr style=\"text-align: right;\">\n",
       "      <th></th>\n",
       "      <th>title</th>\n",
       "      <th>original_title</th>\n",
       "      <th>poster_path</th>\n",
       "    </tr>\n",
       "  </thead>\n",
       "  <tbody>\n",
       "    <tr>\n",
       "      <th>19729</th>\n",
       "      <td>NaN</td>\n",
       "      <td>Midnight Man</td>\n",
       "      <td>NaN</td>\n",
       "    </tr>\n",
       "    <tr>\n",
       "      <th>19730</th>\n",
       "      <td>NaN</td>\n",
       "      <td>[{'iso_639_1': 'en', 'name': 'English'}]</td>\n",
       "      <td>Midnight Man</td>\n",
       "    </tr>\n",
       "    <tr>\n",
       "      <th>29502</th>\n",
       "      <td>NaN</td>\n",
       "      <td>マルドゥック・スクランブル 排気</td>\n",
       "      <td>NaN</td>\n",
       "    </tr>\n",
       "    <tr>\n",
       "      <th>29503</th>\n",
       "      <td>NaN</td>\n",
       "      <td>[{'iso_639_1': 'ja', 'name': '日本語'}]</td>\n",
       "      <td>Mardock Scramble: The Third Exhaust</td>\n",
       "    </tr>\n",
       "    <tr>\n",
       "      <th>35586</th>\n",
       "      <td>NaN</td>\n",
       "      <td>Avalanche Sharks</td>\n",
       "      <td>NaN</td>\n",
       "    </tr>\n",
       "    <tr>\n",
       "      <th>35587</th>\n",
       "      <td>NaN</td>\n",
       "      <td>[{'iso_639_1': 'en', 'name': 'English'}]</td>\n",
       "      <td>Avalanche Sharks</td>\n",
       "    </tr>\n",
       "  </tbody>\n",
       "</table>\n",
       "</div>"
      ],
      "text/plain": [
       "      title                            original_title  \\\n",
       "19729   NaN                              Midnight Man   \n",
       "19730   NaN  [{'iso_639_1': 'en', 'name': 'English'}]   \n",
       "29502   NaN                          マルドゥック・スクランブル 排気   \n",
       "29503   NaN      [{'iso_639_1': 'ja', 'name': '日本語'}]   \n",
       "35586   NaN                          Avalanche Sharks   \n",
       "35587   NaN  [{'iso_639_1': 'en', 'name': 'English'}]   \n",
       "\n",
       "                               poster_path  \n",
       "19729                                  NaN  \n",
       "19730                         Midnight Man  \n",
       "29502                                  NaN  \n",
       "29503  Mardock Scramble: The Third Exhaust  \n",
       "35586                                  NaN  \n",
       "35587                     Avalanche Sharks  "
      ]
     },
     "execution_count": 8,
     "metadata": {},
     "output_type": "execute_result"
    }
   ],
   "source": [
    "df[df['title'].isna()][['title', 'original_title', 'poster_path']]"
   ]
  },
  {
   "cell_type": "markdown",
   "id": "049d3070-3b85-4b1e-9cd6-a4737c3803d9",
   "metadata": {},
   "source": [
    "Is there any NaN `original_title`?"
   ]
  },
  {
   "cell_type": "code",
   "execution_count": 9,
   "id": "333f1590-90b7-4985-97bf-a9b433f3c2a6",
   "metadata": {},
   "outputs": [
    {
     "data": {
      "text/plain": [
       "Series([], Name: original_title, dtype: object)"
      ]
     },
     "execution_count": 9,
     "metadata": {},
     "output_type": "execute_result"
    }
   ],
   "source": [
    "df[df['original_title'].isna()]['original_title']"
   ]
  },
  {
   "cell_type": "markdown",
   "id": "818f37af-f757-4ba1-a14f-085b6b55ea84",
   "metadata": {},
   "source": [
    "There is no NaN `original_title`.\n",
    "\n",
    "### Conclusion\n",
    "\n",
    "For all NaN `title`s:\n",
    "\n",
    "- Use the `original_title` if `original_title` does not have JSON text\n",
    "- Use `poster_path` otherwise, and also replace the `original_title` with `poster_path`\n",
    "\n",
    "Issue name: **NaN `title` and invalid `original_title`**"
   ]
  },
  {
   "cell_type": "markdown",
   "id": "91dfeb28-9747-49e4-afb2-70a36e647f3f",
   "metadata": {},
   "source": [
    "## 2. belongs_to_collection\n",
    "\n",
    "Let's first check out its value counts"
   ]
  },
  {
   "cell_type": "code",
   "execution_count": 10,
   "id": "6453dd30-4d83-44cc-839e-12b591096049",
   "metadata": {},
   "outputs": [
    {
     "data": {
      "text/plain": [
       "belongs_to_collection\n",
       "NaN                                                                                                                                                               40972\n",
       "{'id': 415931, 'name': 'The Bowery Boys', 'poster_path': '/q6sA4bzMT9cK7EEmXYwt7PNrL5h.jpg', 'backdrop_path': '/foe3kuiJmg5AklhtD3skWbaTMf2.jpg'}                    29\n",
       "{'id': 421566, 'name': 'Totò Collection', 'poster_path': '/4ayJsjC3djGwU9eCWUokdBWvdLC.jpg', 'backdrop_path': '/jaUuprubvAxXLAY5hUfrNjxccUh.jpg'}                    27\n",
       "{'id': 96887, 'name': 'Zatôichi: The Blind Swordsman', 'poster_path': '/8Q31DAtmFJjhFTwQGXghBUCgWK2.jpg', 'backdrop_path': '/bY8gLImMR5Pr9PaG3ZpobfaAQ8N.jpg'}       26\n",
       "{'id': 645, 'name': 'James Bond Collection', 'poster_path': '/HORpg5CSkmeQlAolx3bKMrKgfi.jpg', 'backdrop_path': '/6VcVl48kNKvdXOZfJPdarlUGOsk.jpg'}                  26\n",
       "                                                                                                                                                                  ...  \n",
       "{'id': 458813, 'name': 'Salt and Pepper Collection', 'poster_path': None, 'backdrop_path': None}                                                                      1\n",
       "{'id': 148603, 'name': 'Ducobu Collection', 'poster_path': '/rd7AWZUy2QFPIblNWToVmdfXQcA.jpg', 'backdrop_path': '/7mzKmoIrvGapvsSbAVlX4HtCnFj.jpg'}                   1\n",
       "{'id': 400500, 'name': 'Чебурашка и крокодил Гена', 'poster_path': '/epKHY3ZHJkTF7U3YAXCrjtmnC99.jpg', 'backdrop_path': '/zBStJBeBsnRMTyCLBSWlhLWB4XW.jpg'}           1\n",
       "{'id': 104774, 'name': 'Tomtar och Trolltyg Collection', 'poster_path': '/5UMq1DmJva3l7wg3VK641Sfn9D.jpg', 'backdrop_path': None}                                     1\n",
       "{'id': 463112, 'name': 'Hailey Dean Mystery Collection', 'poster_path': None, 'backdrop_path': None}                                                                  1\n",
       "Name: count, Length: 1699, dtype: int64"
      ]
     },
     "execution_count": 10,
     "metadata": {},
     "output_type": "execute_result"
    }
   ],
   "source": [
    "df['belongs_to_collection'].value_counts(dropna=False)"
   ]
  },
  {
   "cell_type": "markdown",
   "id": "da759eef-0f2b-42de-84f8-8a7dee7b7bf1",
   "metadata": {},
   "source": [
    "Most of them are NaNs with seemingly the rest of them JSON values. Let's find out.\n",
    "\n",
    "Get all rows where `belongs_to_collection` has JSON-like strings:"
   ]
  },
  {
   "cell_type": "code",
   "execution_count": 11,
   "id": "05fc8b95-54e2-4c31-8155-3d3a78618fe9",
   "metadata": {},
   "outputs": [
    {
     "data": {
      "text/html": [
       "<div>\n",
       "<style scoped>\n",
       "    .dataframe tbody tr th:only-of-type {\n",
       "        vertical-align: middle;\n",
       "    }\n",
       "\n",
       "    .dataframe tbody tr th {\n",
       "        vertical-align: top;\n",
       "    }\n",
       "\n",
       "    .dataframe thead th {\n",
       "        text-align: right;\n",
       "    }\n",
       "</style>\n",
       "<table border=\"1\" class=\"dataframe\">\n",
       "  <thead>\n",
       "    <tr style=\"text-align: right;\">\n",
       "      <th></th>\n",
       "      <th>belongs_to_collection</th>\n",
       "      <th>title</th>\n",
       "    </tr>\n",
       "  </thead>\n",
       "  <tbody>\n",
       "    <tr>\n",
       "      <th>0</th>\n",
       "      <td>{'id': 10194, 'name': 'Toy Story Collection', ...</td>\n",
       "      <td>Toy Story</td>\n",
       "    </tr>\n",
       "    <tr>\n",
       "      <th>2</th>\n",
       "      <td>{'id': 119050, 'name': 'Grumpy Old Men Collect...</td>\n",
       "      <td>Grumpier Old Men</td>\n",
       "    </tr>\n",
       "    <tr>\n",
       "      <th>4</th>\n",
       "      <td>{'id': 96871, 'name': 'Father of the Bride Col...</td>\n",
       "      <td>Father of the Bride Part II</td>\n",
       "    </tr>\n",
       "    <tr>\n",
       "      <th>9</th>\n",
       "      <td>{'id': 645, 'name': 'James Bond Collection', '...</td>\n",
       "      <td>GoldenEye</td>\n",
       "    </tr>\n",
       "    <tr>\n",
       "      <th>12</th>\n",
       "      <td>{'id': 117693, 'name': 'Balto Collection', 'po...</td>\n",
       "      <td>Balto</td>\n",
       "    </tr>\n",
       "    <tr>\n",
       "      <th>...</th>\n",
       "      <td>...</td>\n",
       "      <td>...</td>\n",
       "    </tr>\n",
       "    <tr>\n",
       "      <th>45355</th>\n",
       "      <td>{'id': 37261, 'name': 'The Carry On Collection...</td>\n",
       "      <td>Carry On Follow That Camel</td>\n",
       "    </tr>\n",
       "    <tr>\n",
       "      <th>45358</th>\n",
       "      <td>{'id': 37261, 'name': 'The Carry On Collection...</td>\n",
       "      <td>Carry On Camping</td>\n",
       "    </tr>\n",
       "    <tr>\n",
       "      <th>45369</th>\n",
       "      <td>{'id': 37261, 'name': 'The Carry On Collection...</td>\n",
       "      <td>Carry On England</td>\n",
       "    </tr>\n",
       "    <tr>\n",
       "      <th>45371</th>\n",
       "      <td>{'id': 477208, 'name': 'DC Super Hero Girls Co...</td>\n",
       "      <td>LEGO DC Super Hero Girls: Brain Drain</td>\n",
       "    </tr>\n",
       "    <tr>\n",
       "      <th>45382</th>\n",
       "      <td>{'id': 200641, 'name': 'Red Lotus Collection',...</td>\n",
       "      <td>The Twin Swords</td>\n",
       "    </tr>\n",
       "  </tbody>\n",
       "</table>\n",
       "<p>4491 rows × 2 columns</p>\n",
       "</div>"
      ],
      "text/plain": [
       "                                   belongs_to_collection  \\\n",
       "0      {'id': 10194, 'name': 'Toy Story Collection', ...   \n",
       "2      {'id': 119050, 'name': 'Grumpy Old Men Collect...   \n",
       "4      {'id': 96871, 'name': 'Father of the Bride Col...   \n",
       "9      {'id': 645, 'name': 'James Bond Collection', '...   \n",
       "12     {'id': 117693, 'name': 'Balto Collection', 'po...   \n",
       "...                                                  ...   \n",
       "45355  {'id': 37261, 'name': 'The Carry On Collection...   \n",
       "45358  {'id': 37261, 'name': 'The Carry On Collection...   \n",
       "45369  {'id': 37261, 'name': 'The Carry On Collection...   \n",
       "45371  {'id': 477208, 'name': 'DC Super Hero Girls Co...   \n",
       "45382  {'id': 200641, 'name': 'Red Lotus Collection',...   \n",
       "\n",
       "                                       title  \n",
       "0                                  Toy Story  \n",
       "2                           Grumpier Old Men  \n",
       "4                Father of the Bride Part II  \n",
       "9                                  GoldenEye  \n",
       "12                                     Balto  \n",
       "...                                      ...  \n",
       "45355             Carry On Follow That Camel  \n",
       "45358                       Carry On Camping  \n",
       "45369                       Carry On England  \n",
       "45371  LEGO DC Super Hero Girls: Brain Drain  \n",
       "45382                        The Twin Swords  \n",
       "\n",
       "[4491 rows x 2 columns]"
      ]
     },
     "execution_count": 11,
     "metadata": {},
     "output_type": "execute_result"
    }
   ],
   "source": [
    "df[df['belongs_to_collection'].fillna('').str.contains(r'{', regex=True)][['belongs_to_collection', 'title']]"
   ]
  },
  {
   "cell_type": "markdown",
   "id": "2d4fe64c-feea-4829-a998-7a213d116196",
   "metadata": {},
   "source": [
    "And now, get all rows where `belongs_to_collection` is not JSON and not NaN either:"
   ]
  },
  {
   "cell_type": "code",
   "execution_count": 12,
   "id": "170f3012-5b43-4f5c-8fbb-e6962df515fd",
   "metadata": {},
   "outputs": [
    {
     "data": {
      "text/html": [
       "<div>\n",
       "<style scoped>\n",
       "    .dataframe tbody tr th:only-of-type {\n",
       "        vertical-align: middle;\n",
       "    }\n",
       "\n",
       "    .dataframe tbody tr th {\n",
       "        vertical-align: top;\n",
       "    }\n",
       "\n",
       "    .dataframe thead th {\n",
       "        text-align: right;\n",
       "    }\n",
       "</style>\n",
       "<table border=\"1\" class=\"dataframe\">\n",
       "  <thead>\n",
       "    <tr style=\"text-align: right;\">\n",
       "      <th></th>\n",
       "      <th>belongs_to_collection</th>\n",
       "      <th>title</th>\n",
       "      <th>original_title</th>\n",
       "      <th>poster_path</th>\n",
       "    </tr>\n",
       "  </thead>\n",
       "  <tbody>\n",
       "    <tr>\n",
       "      <th>19730</th>\n",
       "      <td>0.065736</td>\n",
       "      <td>NaN</td>\n",
       "      <td>[{'iso_639_1': 'en', 'name': 'English'}]</td>\n",
       "      <td>Midnight Man</td>\n",
       "    </tr>\n",
       "    <tr>\n",
       "      <th>29503</th>\n",
       "      <td>1.931659</td>\n",
       "      <td>NaN</td>\n",
       "      <td>[{'iso_639_1': 'ja', 'name': '日本語'}]</td>\n",
       "      <td>Mardock Scramble: The Third Exhaust</td>\n",
       "    </tr>\n",
       "    <tr>\n",
       "      <th>35587</th>\n",
       "      <td>2.185485</td>\n",
       "      <td>NaN</td>\n",
       "      <td>[{'iso_639_1': 'en', 'name': 'English'}]</td>\n",
       "      <td>Avalanche Sharks</td>\n",
       "    </tr>\n",
       "  </tbody>\n",
       "</table>\n",
       "</div>"
      ],
      "text/plain": [
       "      belongs_to_collection title                            original_title  \\\n",
       "19730              0.065736   NaN  [{'iso_639_1': 'en', 'name': 'English'}]   \n",
       "29503              1.931659   NaN      [{'iso_639_1': 'ja', 'name': '日本語'}]   \n",
       "35587              2.185485   NaN  [{'iso_639_1': 'en', 'name': 'English'}]   \n",
       "\n",
       "                               poster_path  \n",
       "19730                         Midnight Man  \n",
       "29503  Mardock Scramble: The Third Exhaust  \n",
       "35587                     Avalanche Sharks  "
      ]
     },
     "execution_count": 12,
     "metadata": {},
     "output_type": "execute_result"
    }
   ],
   "source": [
    "filled = df['belongs_to_collection'].fillna('')\n",
    "df[(filled.fillna('') != '') & (~filled.str.contains(r'{', regex=True))] \\\n",
    "  [['belongs_to_collection', 'title', 'original_title', 'poster_path']]"
   ]
  },
  {
   "cell_type": "markdown",
   "id": "ce2402ea-9956-40fd-9d09-dc0f28aeff4a",
   "metadata": {},
   "source": [
    "That's interesting. Apparently, there are `belongs_to_collection` values that are floating numbers, and they all have titles in their `poster_path` field. Let's see if there's another field that contains the correct `belongs_to_collection` value."
   ]
  },
  {
   "cell_type": "code",
   "execution_count": 13,
   "id": "fff74cf9-828a-4bd6-b8c7-902240667a15",
   "metadata": {},
   "outputs": [
    {
     "data": {
      "text/plain": [
       "adult                                                   - Written by Ørnås\n",
       "belongs_to_collection                                             0.065736\n",
       "budget                                    /ff9qCepilowshEtG2GYWwzt2bs4.jpg\n",
       "genres                   [{'name': 'Carousel Productions', 'id': 11176}...\n",
       "homepage                 [{'iso_3166_1': 'CA', 'name': 'Canada'}, {'iso...\n",
       "id                                                              1997-08-20\n",
       "imdb_id                                                                  0\n",
       "original_language                                                    104.0\n",
       "original_title                    [{'iso_639_1': 'en', 'name': 'English'}]\n",
       "overview                                                          Released\n",
       "popularity                                                             NaN\n",
       "poster_path                                                   Midnight Man\n",
       "production_companies                                                 False\n",
       "production_countries                                                   6.0\n",
       "release_date                                                             1\n",
       "revenue                                                                NaN\n",
       "runtime                                                                NaN\n",
       "spoken_languages                                                       NaN\n",
       "status                                                                 NaN\n",
       "tagline                                                                NaN\n",
       "title                                                                  NaN\n",
       "video                                                                  NaN\n",
       "vote_average                                                           NaN\n",
       "vote_count                                                             NaN\n",
       "Name: 19730, dtype: object"
      ]
     },
     "execution_count": 13,
     "metadata": {},
     "output_type": "execute_result"
    }
   ],
   "source": [
    "df.loc[19730]"
   ]
  },
  {
   "cell_type": "markdown",
   "id": "65cd3188-4362-4c6b-9bbd-990db8239987",
   "metadata": {},
   "source": [
    "Looks like there isn't any.\n",
    "\n",
    "Now, finally, let's get a typical value for the JSON-like `belongs_to_collection`."
   ]
  },
  {
   "cell_type": "code",
   "execution_count": 14,
   "id": "ddf1bee3-fc01-4b0b-9a76-b879e92b9924",
   "metadata": {},
   "outputs": [
    {
     "data": {
      "text/plain": [
       "\"{'id': 37261, 'name': 'The Carry On Collection', 'poster_path': '/2P0HNrYgKDvirV8RCdT1rBSJdbJ.jpg', 'backdrop_path': '/38tF1LJN7ULeZAuAfP7beaPMfcl.jpg'}\""
      ]
     },
     "execution_count": 14,
     "metadata": {},
     "output_type": "execute_result"
    }
   ],
   "source": [
    "df.loc[45355]['belongs_to_collection']"
   ]
  },
  {
   "cell_type": "markdown",
   "id": "30e56cac-ab30-4984-bfd2-c743033c6864",
   "metadata": {},
   "source": [
    "Looks like we need to get the \"name\" property.\n",
    "\n",
    "### Conclusion\n",
    "\n",
    "- For rows with `belongs_to_collection` containing JSON values, replace `belongs_to_collection` with its \"name\" property.\n",
    "- For rows with `belongs_to_collection` containing floating numbers, replace them with NaN.\n",
    "\n",
    "Issue name: **Invalid `belongs_to_collection`**"
   ]
  },
  {
   "cell_type": "markdown",
   "id": "61781484-2c35-4ba0-b61f-62e6c751125c",
   "metadata": {},
   "source": [
    "## 3. `homepage`\n",
    "\n",
    "Same drill as before. Do value_counts, and then find json values."
   ]
  },
  {
   "cell_type": "code",
   "execution_count": 15,
   "id": "7180a048-cd0b-4176-a6b9-dbe262261f4f",
   "metadata": {},
   "outputs": [
    {
     "data": {
      "text/plain": [
       "homepage\n",
       "NaN                                                  37684\n",
       "http://www.georgecarlin.com                             12\n",
       "http://www.wernerherzog.com/films-by.html                7\n",
       "http://breakblade.jp/                                    6\n",
       "http://www.crownintlpictures.com/tztitles.html           4\n",
       "                                                     ...  \n",
       "http://www.arthurchristmas.com/                          1\n",
       "http://happyfeettwo.warnerbros.com/index.html            1\n",
       "http://rampartmovie.com/                                 1\n",
       "http://singyoursongthemovie.com/                         1\n",
       "http://www.cinemadpresents.com/2011/04/shit-year/        1\n",
       "Name: count, Length: 7674, dtype: int64"
      ]
     },
     "execution_count": 15,
     "metadata": {},
     "output_type": "execute_result"
    }
   ],
   "source": [
    "df['homepage'].value_counts(dropna=False)"
   ]
  },
  {
   "cell_type": "code",
   "execution_count": 16,
   "id": "f6ec65c0-7511-4cba-b8bb-a19555bda10b",
   "metadata": {},
   "outputs": [
    {
     "data": {
      "text/html": [
       "<div>\n",
       "<style scoped>\n",
       "    .dataframe tbody tr th:only-of-type {\n",
       "        vertical-align: middle;\n",
       "    }\n",
       "\n",
       "    .dataframe tbody tr th {\n",
       "        vertical-align: top;\n",
       "    }\n",
       "\n",
       "    .dataframe thead th {\n",
       "        text-align: right;\n",
       "    }\n",
       "</style>\n",
       "<table border=\"1\" class=\"dataframe\">\n",
       "  <thead>\n",
       "    <tr style=\"text-align: right;\">\n",
       "      <th></th>\n",
       "      <th>homepage</th>\n",
       "      <th>title</th>\n",
       "      <th>poster_path</th>\n",
       "    </tr>\n",
       "  </thead>\n",
       "  <tbody>\n",
       "    <tr>\n",
       "      <th>4635</th>\n",
       "      <td>http://tartanvideo.com/film.asp?ProjectID={C66...</td>\n",
       "      <td>L.I.E.</td>\n",
       "      <td>/ck5Tkq17M6khEN7JQlQznoYl37L.jpg</td>\n",
       "    </tr>\n",
       "    <tr>\n",
       "      <th>19730</th>\n",
       "      <td>[{'iso_3166_1': 'CA', 'name': 'Canada'}, {'iso...</td>\n",
       "      <td>NaN</td>\n",
       "      <td>Midnight Man</td>\n",
       "    </tr>\n",
       "    <tr>\n",
       "      <th>29503</th>\n",
       "      <td>[{'iso_3166_1': 'US', 'name': 'United States o...</td>\n",
       "      <td>NaN</td>\n",
       "      <td>Mardock Scramble: The Third Exhaust</td>\n",
       "    </tr>\n",
       "    <tr>\n",
       "      <th>35587</th>\n",
       "      <td>[{'iso_3166_1': 'CA', 'name': 'Canada'}]</td>\n",
       "      <td>NaN</td>\n",
       "      <td>Avalanche Sharks</td>\n",
       "    </tr>\n",
       "  </tbody>\n",
       "</table>\n",
       "</div>"
      ],
      "text/plain": [
       "                                                homepage   title  \\\n",
       "4635   http://tartanvideo.com/film.asp?ProjectID={C66...  L.I.E.   \n",
       "19730  [{'iso_3166_1': 'CA', 'name': 'Canada'}, {'iso...     NaN   \n",
       "29503  [{'iso_3166_1': 'US', 'name': 'United States o...     NaN   \n",
       "35587           [{'iso_3166_1': 'CA', 'name': 'Canada'}]     NaN   \n",
       "\n",
       "                               poster_path  \n",
       "4635      /ck5Tkq17M6khEN7JQlQznoYl37L.jpg  \n",
       "19730                         Midnight Man  \n",
       "29503  Mardock Scramble: The Third Exhaust  \n",
       "35587                     Avalanche Sharks  "
      ]
     },
     "execution_count": 16,
     "metadata": {},
     "output_type": "execute_result"
    }
   ],
   "source": [
    "df[df['homepage'].fillna('').str.contains(r'{', regex=True)][['homepage', 'title', 'poster_path']]"
   ]
  },
  {
   "cell_type": "markdown",
   "id": "5f1102f5-cd4a-464e-baa1-123b969587c7",
   "metadata": {},
   "source": [
    "![three](three.jpg)"
   ]
  },
  {
   "cell_type": "code",
   "execution_count": 17,
   "id": "c585e4c6-7e48-45ba-870e-c2ec5e128b88",
   "metadata": {},
   "outputs": [
    {
     "data": {
      "text/plain": [
       "\"[{'iso_3166_1': 'CA', 'name': 'Canada'}, {'iso_3166_1': 'LU', 'name': 'Luxembourg'}, {'iso_3166_1': 'GB', 'name': 'United Kingdom'}, {'iso_3166_1': 'US', 'name': 'United States of America'}]\""
      ]
     },
     "metadata": {},
     "output_type": "display_data"
    },
    {
     "data": {
      "text/plain": [
       "adult                                                   - Written by Ørnås\n",
       "belongs_to_collection                                             0.065736\n",
       "budget                                    /ff9qCepilowshEtG2GYWwzt2bs4.jpg\n",
       "genres                   [{'name': 'Carousel Productions', 'id': 11176}...\n",
       "homepage                 [{'iso_3166_1': 'CA', 'name': 'Canada'}, {'iso...\n",
       "id                                                              1997-08-20\n",
       "imdb_id                                                                  0\n",
       "original_language                                                    104.0\n",
       "original_title                    [{'iso_639_1': 'en', 'name': 'English'}]\n",
       "overview                                                          Released\n",
       "popularity                                                             NaN\n",
       "poster_path                                                   Midnight Man\n",
       "production_companies                                                 False\n",
       "production_countries                                                   6.0\n",
       "release_date                                                             1\n",
       "revenue                                                                NaN\n",
       "runtime                                                                NaN\n",
       "spoken_languages                                                       NaN\n",
       "status                                                                 NaN\n",
       "tagline                                                                NaN\n",
       "title                                                                  NaN\n",
       "video                                                                  NaN\n",
       "vote_average                                                           NaN\n",
       "vote_count                                                             NaN\n",
       "Name: 19730, dtype: object"
      ]
     },
     "execution_count": 17,
     "metadata": {},
     "output_type": "execute_result"
    }
   ],
   "source": [
    "display(df.loc[19730]['homepage'])\n",
    "df.loc[19730]"
   ]
  },
  {
   "cell_type": "markdown",
   "id": "4fa09e1d-1adb-4c05-8be3-8b46c7998062",
   "metadata": {},
   "source": [
    "### Conclusion\n",
    "\n",
    "- For `homepage` that **starts** with \"[{\", replace with NaN.\n",
    "- Otherwise keep them\n",
    "\n",
    "Issue name: **Invalid `homepage`**"
   ]
  },
  {
   "cell_type": "markdown",
   "id": "c3899548-aaec-4883-8b6b-461fa724897d",
   "metadata": {},
   "source": [
    "## 4. `overview`"
   ]
  },
  {
   "cell_type": "code",
   "execution_count": 18,
   "id": "d113702f-e47e-459e-99a8-d5acfee542c8",
   "metadata": {
    "scrolled": true
   },
   "outputs": [
    {
     "data": {
      "text/plain": [
       "overview\n",
       "NaN                                                                                                                                                                                                                                                                                                                                                                                                                                                                                                                                                                                                                                                                                                                                                                                                                                                                                    954\n",
       "No overview found.                                                                                                                                                                                                                                                                                                                                                                                                                                                                                                                                                                                                                                                                                                                                                                                                                                                                     133\n",
       "No Overview                                                                                                                                                                                                                                                                                                                                                                                                                                                                                                                                                                                                                                                                                                                                                                                                                                                                              7\n",
       "                                                                                                                                                                                                                                                                                                                                                                                                                                                                                                                                                                                                                                                                                                                                                                                                                                                                                         5\n",
       "King Lear, old and tired, divides his kingdom among his daughters, giving great importance to their protestations of love for him. When Cordelia, youngest and most honest, refuses to idly flatter the old man in return for favor, he banishes her and turns for support to his remaining daughters. But Goneril and Regan have no love for him and instead plot to take all his power from him. In a parallel, Lear's loyal courtier Gloucester favors his illegitimate son Edmund after being told lies about his faithful son Edgar. Madness and tragedy befall both ill-starred fathers.                                                                                                                                                                                                                                                                                           3\n",
       "                                                                                                                                                                                                                                                                                                                                                                                                                                                                                                                                                                                                                                                                                                                                                                                                                                                                                      ... \n",
       "A kindergarten director Troshkin is a dead ringer for a criminal nicknamed \"Docent\" who stole the priceless...                                                                                                                                                                                                                                                                                                                                                                                                                                                                                                                                                                                                                                                                                                                                                                           1\n",
       "A man wakes up deep inside a cave. Suffering amnesia, he has no recollection of how he came to be here or of what happened to the man whose body he finds beside him. Tailed by a mysterious creature, he must continue through this strange and fantastic world. Enclosed, Tolbiac has no other option to reach the surface than to use REZO ZERO, secret observing cells in this cemetery-like abandoned mine.                                                                                                                                                                                                                                                                                                                                                                                                                                                                         1\n",
       "After Amy convinces Nicole to kill her abusive husband, Nicole travels to her on-line friend's home -- only to find Amy's own abused spouse, Chandler. And he's got blood on his hands, too. TRAP is a painfully funny look inside love, marriage, and body disposal.                                                                                                                                                                                                                                                                                                                                                                                                                                                                                                                                                                                                                    1\n",
       "On a remote Irish farm, five people become unwilling participants in an experiment that goes nightmarishly wrong.                                                                                                                                                                                                                                                                                                                                                                                                                                                                                                                                                                                                                                                                                                                                                                        1\n",
       "Mike Bassett: England Manager is an hilarious British Comedy that stars Ricky Thomlinson. Featuring Cameos from Barry Venison, Gabby Yorath, Atomic Kitten and Pele.When the England manager has a heart attack, footballs' top brass turn to Mike Bassett (basically no one else wanted the job). England lose Mike's first two games in charge. His team struggles to a goal-less draw in the final qualifying match but, thanks to a fluke result elsewhere, England qualify for the finals in Brazil.In South America things go from bad to worse. Pressure is mounting for Mike. An embarrassing drunken performance caught by a new photographer seals his fate as the most unpopular Englishman ever.However, Mike makes an impassioned plea for the country to get behind him - fans, press, players.... even his wife. Can Mike turn the tide and bring football home ? ..      1\n",
       "Name: count, Length: 44308, dtype: int64"
      ]
     },
     "execution_count": 18,
     "metadata": {},
     "output_type": "execute_result"
    }
   ],
   "source": [
    "df['overview'].value_counts(dropna=False)"
   ]
  },
  {
   "cell_type": "code",
   "execution_count": 19,
   "id": "86b0801f-15b4-4438-a1e3-a889e05a58a8",
   "metadata": {},
   "outputs": [
    {
     "data": {
      "text/html": [
       "<div>\n",
       "<style scoped>\n",
       "    .dataframe tbody tr th:only-of-type {\n",
       "        vertical-align: middle;\n",
       "    }\n",
       "\n",
       "    .dataframe tbody tr th {\n",
       "        vertical-align: top;\n",
       "    }\n",
       "\n",
       "    .dataframe thead th {\n",
       "        text-align: right;\n",
       "    }\n",
       "</style>\n",
       "<table border=\"1\" class=\"dataframe\">\n",
       "  <thead>\n",
       "    <tr style=\"text-align: right;\">\n",
       "      <th></th>\n",
       "      <th>overview</th>\n",
       "      <th>title</th>\n",
       "      <th>poster_path</th>\n",
       "    </tr>\n",
       "  </thead>\n",
       "  <tbody>\n",
       "    <tr>\n",
       "      <th>19588</th>\n",
       "      <td>\"Volumen\" collects every video from Bjork's ca...</td>\n",
       "      <td>Björk: Volumen</td>\n",
       "      <td>/uEfwqT0vIA31SPyfEihNRmBpQ1C.jpg</td>\n",
       "    </tr>\n",
       "    <tr>\n",
       "      <th>39350</th>\n",
       "      <td>In Africa, many years ago, Slim and Tom don't ...</td>\n",
       "      <td>I'm for the Hippopotamus</td>\n",
       "      <td>/5fMQdIGO5tncCa7sH26xXOSzAFa.jpg</td>\n",
       "    </tr>\n",
       "  </tbody>\n",
       "</table>\n",
       "</div>"
      ],
      "text/plain": [
       "                                                overview  \\\n",
       "19588  \"Volumen\" collects every video from Bjork's ca...   \n",
       "39350  In Africa, many years ago, Slim and Tom don't ...   \n",
       "\n",
       "                          title                       poster_path  \n",
       "19588            Björk: Volumen  /uEfwqT0vIA31SPyfEihNRmBpQ1C.jpg  \n",
       "39350  I'm for the Hippopotamus  /5fMQdIGO5tncCa7sH26xXOSzAFa.jpg  "
      ]
     },
     "execution_count": 19,
     "metadata": {},
     "output_type": "execute_result"
    }
   ],
   "source": [
    "df[df['overview'].fillna('').str.contains(r'{', regex=True)][['overview', 'title', 'poster_path']]"
   ]
  },
  {
   "cell_type": "markdown",
   "id": "c53a7054-3e32-42a5-a58c-745d8591daa1",
   "metadata": {},
   "source": [
    "### Conclusion\n",
    "\n",
    "For `overview`, we can just keep the values as they are. This is not an issue."
   ]
  },
  {
   "cell_type": "markdown",
   "id": "e3de47a3-1288-44f2-83d4-db0b64c1d147",
   "metadata": {},
   "source": [
    "## 5. Other columns with multiple values (`genres`, `production_companies`, `production_countries`, `spoken_languages`)"
   ]
  },
  {
   "cell_type": "code",
   "execution_count": 20,
   "id": "1a6e7e13-f356-4a03-aca1-73b6e5c33125",
   "metadata": {},
   "outputs": [
    {
     "data": {
      "text/plain": [
       "0        [{'id': 16, 'name': 'Animation'}, {'id': 35, '...\n",
       "1        [{'id': 12, 'name': 'Adventure'}, {'id': 14, '...\n",
       "2        [{'id': 10749, 'name': 'Romance'}, {'id': 35, ...\n",
       "3        [{'id': 35, 'name': 'Comedy'}, {'id': 18, 'nam...\n",
       "4                           [{'id': 35, 'name': 'Comedy'}]\n",
       "                               ...                        \n",
       "45461    [{'id': 18, 'name': 'Drama'}, {'id': 10751, 'n...\n",
       "45462                        [{'id': 18, 'name': 'Drama'}]\n",
       "45463    [{'id': 28, 'name': 'Action'}, {'id': 18, 'nam...\n",
       "45464                                                   []\n",
       "45465                                                   []\n",
       "Name: genres, Length: 45466, dtype: object"
      ]
     },
     "execution_count": 20,
     "metadata": {},
     "output_type": "execute_result"
    }
   ],
   "source": [
    "df['genres']"
   ]
  },
  {
   "cell_type": "code",
   "execution_count": 21,
   "id": "b0af5a66-f7ce-4073-a38d-daffc19aeed7",
   "metadata": {
    "scrolled": true
   },
   "outputs": [
    {
     "data": {
      "text/plain": [
       "production_companies\n",
       "[]                                                                                                                                                                                      11875\n",
       "[{'name': 'Metro-Goldwyn-Mayer (MGM)', 'id': 8411}]                                                                                                                                       742\n",
       "[{'name': 'Warner Bros.', 'id': 6194}]                                                                                                                                                    540\n",
       "[{'name': 'Paramount Pictures', 'id': 4}]                                                                                                                                                 505\n",
       "[{'name': 'Twentieth Century Fox Film Corporation', 'id': 306}]                                                                                                                           439\n",
       "                                                                                                                                                                                        ...  \n",
       "[{'name': 'Dune Entertainment', 'id': 444}, {'name': 'Cold Spring Pictures', 'id': 2363}, {'name': 'The Montecito Picture Company', 'id': 2364}, {'name': 'Fox Atomic', 'id': 2890}]        1\n",
       "[{'name': 'Metro-Goldwyn-Mayer (MGM)', 'id': 8411}, {'name': 'John Ford Productions', 'id': 10698}, {'name': 'Bernard Smith Productions', 'id': 12440}]                                     1\n",
       "[{'name': 'Panthéon Productions', 'id': 44715}]                                                                                                                                             1\n",
       "[{'name': 'Mandalay Television', 'id': 3996}, {'name': 'Lifetime Television', 'id': 6530}]                                                                                                  1\n",
       "[{'name': 'Dimension Films', 'id': 7405}, {'name': 'Spectacle Entertainment Group', 'id': 10370}, {'name': 'Trancas International Films', 'id': 15822}]                                     1\n",
       "Name: count, Length: 22709, dtype: int64"
      ]
     },
     "execution_count": 21,
     "metadata": {},
     "output_type": "execute_result"
    }
   ],
   "source": [
    "df['production_companies'].value_counts(dropna=False)"
   ]
  },
  {
   "cell_type": "markdown",
   "id": "1acae37b-5d7f-4356-a3bb-db7430b910b2",
   "metadata": {},
   "source": [
    "Notice from the `df.loc[19730]` result above that we also have rows with `production_companies=='False'`."
   ]
  },
  {
   "cell_type": "code",
   "execution_count": 22,
   "id": "a49d5ac5-fb7f-444c-a564-0666b78bfdc2",
   "metadata": {},
   "outputs": [
    {
     "data": {
      "text/html": [
       "<div>\n",
       "<style scoped>\n",
       "    .dataframe tbody tr th:only-of-type {\n",
       "        vertical-align: middle;\n",
       "    }\n",
       "\n",
       "    .dataframe tbody tr th {\n",
       "        vertical-align: top;\n",
       "    }\n",
       "\n",
       "    .dataframe thead th {\n",
       "        text-align: right;\n",
       "    }\n",
       "</style>\n",
       "<table border=\"1\" class=\"dataframe\">\n",
       "  <thead>\n",
       "    <tr style=\"text-align: right;\">\n",
       "      <th></th>\n",
       "      <th>adult</th>\n",
       "      <th>belongs_to_collection</th>\n",
       "      <th>budget</th>\n",
       "      <th>genres</th>\n",
       "      <th>homepage</th>\n",
       "      <th>id</th>\n",
       "      <th>imdb_id</th>\n",
       "      <th>original_language</th>\n",
       "      <th>original_title</th>\n",
       "      <th>overview</th>\n",
       "      <th>...</th>\n",
       "      <th>release_date</th>\n",
       "      <th>revenue</th>\n",
       "      <th>runtime</th>\n",
       "      <th>spoken_languages</th>\n",
       "      <th>status</th>\n",
       "      <th>tagline</th>\n",
       "      <th>title</th>\n",
       "      <th>video</th>\n",
       "      <th>vote_average</th>\n",
       "      <th>vote_count</th>\n",
       "    </tr>\n",
       "  </thead>\n",
       "  <tbody>\n",
       "    <tr>\n",
       "      <th>19730</th>\n",
       "      <td>- Written by Ørnås</td>\n",
       "      <td>0.065736</td>\n",
       "      <td>/ff9qCepilowshEtG2GYWwzt2bs4.jpg</td>\n",
       "      <td>[{'name': 'Carousel Productions', 'id': 11176}...</td>\n",
       "      <td>[{'iso_3166_1': 'CA', 'name': 'Canada'}, {'iso...</td>\n",
       "      <td>1997-08-20</td>\n",
       "      <td>0</td>\n",
       "      <td>104.0</td>\n",
       "      <td>[{'iso_639_1': 'en', 'name': 'English'}]</td>\n",
       "      <td>Released</td>\n",
       "      <td>...</td>\n",
       "      <td>1</td>\n",
       "      <td>NaN</td>\n",
       "      <td>NaN</td>\n",
       "      <td>NaN</td>\n",
       "      <td>NaN</td>\n",
       "      <td>NaN</td>\n",
       "      <td>NaN</td>\n",
       "      <td>NaN</td>\n",
       "      <td>NaN</td>\n",
       "      <td>NaN</td>\n",
       "    </tr>\n",
       "    <tr>\n",
       "      <th>29503</th>\n",
       "      <td>Rune Balot goes to a casino connected to the ...</td>\n",
       "      <td>1.931659</td>\n",
       "      <td>/zV8bHuSL6WXoD6FWogP9j4x80bL.jpg</td>\n",
       "      <td>[{'name': 'Aniplex', 'id': 2883}, {'name': 'Go...</td>\n",
       "      <td>[{'iso_3166_1': 'US', 'name': 'United States o...</td>\n",
       "      <td>2012-09-29</td>\n",
       "      <td>0</td>\n",
       "      <td>68.0</td>\n",
       "      <td>[{'iso_639_1': 'ja', 'name': '日本語'}]</td>\n",
       "      <td>Released</td>\n",
       "      <td>...</td>\n",
       "      <td>12</td>\n",
       "      <td>NaN</td>\n",
       "      <td>NaN</td>\n",
       "      <td>NaN</td>\n",
       "      <td>NaN</td>\n",
       "      <td>NaN</td>\n",
       "      <td>NaN</td>\n",
       "      <td>NaN</td>\n",
       "      <td>NaN</td>\n",
       "      <td>NaN</td>\n",
       "    </tr>\n",
       "    <tr>\n",
       "      <th>35587</th>\n",
       "      <td>Avalanche Sharks tells the story of a bikini ...</td>\n",
       "      <td>2.185485</td>\n",
       "      <td>/zaSf5OG7V8X8gqFvly88zDdRm46.jpg</td>\n",
       "      <td>[{'name': 'Odyssey Media', 'id': 17161}, {'nam...</td>\n",
       "      <td>[{'iso_3166_1': 'CA', 'name': 'Canada'}]</td>\n",
       "      <td>2014-01-01</td>\n",
       "      <td>0</td>\n",
       "      <td>82.0</td>\n",
       "      <td>[{'iso_639_1': 'en', 'name': 'English'}]</td>\n",
       "      <td>Released</td>\n",
       "      <td>...</td>\n",
       "      <td>22</td>\n",
       "      <td>NaN</td>\n",
       "      <td>NaN</td>\n",
       "      <td>NaN</td>\n",
       "      <td>NaN</td>\n",
       "      <td>NaN</td>\n",
       "      <td>NaN</td>\n",
       "      <td>NaN</td>\n",
       "      <td>NaN</td>\n",
       "      <td>NaN</td>\n",
       "    </tr>\n",
       "  </tbody>\n",
       "</table>\n",
       "<p>3 rows × 24 columns</p>\n",
       "</div>"
      ],
      "text/plain": [
       "                                                   adult  \\\n",
       "19730                                 - Written by Ørnås   \n",
       "29503   Rune Balot goes to a casino connected to the ...   \n",
       "35587   Avalanche Sharks tells the story of a bikini ...   \n",
       "\n",
       "      belongs_to_collection                            budget  \\\n",
       "19730              0.065736  /ff9qCepilowshEtG2GYWwzt2bs4.jpg   \n",
       "29503              1.931659  /zV8bHuSL6WXoD6FWogP9j4x80bL.jpg   \n",
       "35587              2.185485  /zaSf5OG7V8X8gqFvly88zDdRm46.jpg   \n",
       "\n",
       "                                                  genres  \\\n",
       "19730  [{'name': 'Carousel Productions', 'id': 11176}...   \n",
       "29503  [{'name': 'Aniplex', 'id': 2883}, {'name': 'Go...   \n",
       "35587  [{'name': 'Odyssey Media', 'id': 17161}, {'nam...   \n",
       "\n",
       "                                                homepage          id imdb_id  \\\n",
       "19730  [{'iso_3166_1': 'CA', 'name': 'Canada'}, {'iso...  1997-08-20       0   \n",
       "29503  [{'iso_3166_1': 'US', 'name': 'United States o...  2012-09-29       0   \n",
       "35587           [{'iso_3166_1': 'CA', 'name': 'Canada'}]  2014-01-01       0   \n",
       "\n",
       "      original_language                            original_title  overview  \\\n",
       "19730             104.0  [{'iso_639_1': 'en', 'name': 'English'}]  Released   \n",
       "29503              68.0      [{'iso_639_1': 'ja', 'name': '日本語'}]  Released   \n",
       "35587              82.0  [{'iso_639_1': 'en', 'name': 'English'}]  Released   \n",
       "\n",
       "       ... release_date revenue runtime spoken_languages status  tagline  \\\n",
       "19730  ...            1     NaN     NaN              NaN    NaN      NaN   \n",
       "29503  ...           12     NaN     NaN              NaN    NaN      NaN   \n",
       "35587  ...           22     NaN     NaN              NaN    NaN      NaN   \n",
       "\n",
       "       title video vote_average vote_count  \n",
       "19730    NaN   NaN          NaN        NaN  \n",
       "29503    NaN   NaN          NaN        NaN  \n",
       "35587    NaN   NaN          NaN        NaN  \n",
       "\n",
       "[3 rows x 24 columns]"
      ]
     },
     "execution_count": 22,
     "metadata": {},
     "output_type": "execute_result"
    }
   ],
   "source": [
    "df[df['production_companies'] == 'False']"
   ]
  },
  {
   "cell_type": "markdown",
   "id": "26c997bb-3264-4d11-aa6a-fc2abc9d8aae",
   "metadata": {},
   "source": [
    "The \"False\" strings need to be replaced by NaN."
   ]
  },
  {
   "cell_type": "code",
   "execution_count": 23,
   "id": "835b7435-c85c-49df-a660-0eb840d034ab",
   "metadata": {},
   "outputs": [
    {
     "data": {
      "text/plain": [
       "production_countries\n",
       "[{'iso_3166_1': 'US', 'name': 'United States of America'}]                                                                                                                                     17851\n",
       "[]                                                                                                                                                                                              6282\n",
       "[{'iso_3166_1': 'GB', 'name': 'United Kingdom'}]                                                                                                                                                2238\n",
       "[{'iso_3166_1': 'FR', 'name': 'France'}]                                                                                                                                                        1654\n",
       "[{'iso_3166_1': 'JP', 'name': 'Japan'}]                                                                                                                                                         1356\n",
       "                                                                                                                                                                                               ...  \n",
       "[{'iso_3166_1': 'BE', 'name': 'Belgium'}, {'iso_3166_1': 'LU', 'name': 'Luxembourg'}, {'iso_3166_1': 'DE', 'name': 'Germany'}, {'iso_3166_1': 'NO', 'name': 'Norway'}]                             1\n",
       "[{'iso_3166_1': 'US', 'name': 'United States of America'}, {'iso_3166_1': 'CA', 'name': 'Canada'}, {'iso_3166_1': 'LU', 'name': 'Luxembourg'}]                                                     1\n",
       "[{'iso_3166_1': 'IE', 'name': 'Ireland'}, {'iso_3166_1': 'CA', 'name': 'Canada'}]                                                                                                                  1\n",
       "[{'iso_3166_1': 'BE', 'name': 'Belgium'}, {'iso_3166_1': 'FR', 'name': 'France'}, {'iso_3166_1': 'GB', 'name': 'United Kingdom'}, {'iso_3166_1': 'US', 'name': 'United States of America'}]        1\n",
       "[{'iso_3166_1': 'SE', 'name': 'Sweden'}, {'iso_3166_1': 'US', 'name': 'United States of America'}, {'iso_3166_1': 'DE', 'name': 'Germany'}]                                                        1\n",
       "Name: count, Length: 2394, dtype: int64"
      ]
     },
     "execution_count": 23,
     "metadata": {},
     "output_type": "execute_result"
    }
   ],
   "source": [
    "df['production_countries'].value_counts(dropna=False)"
   ]
  },
  {
   "cell_type": "markdown",
   "id": "319d58ec-bd77-4787-80c6-2d6ab0295add",
   "metadata": {},
   "source": [
    "Use both the \"iso_3166_1\" and \"name\" properties to replace `production_countries`."
   ]
  },
  {
   "cell_type": "code",
   "execution_count": 24,
   "id": "e820717f-c05e-481f-a9ee-5529e5c81176",
   "metadata": {},
   "outputs": [
    {
     "data": {
      "text/plain": [
       "spoken_languages\n",
       "[{'iso_639_1': 'en', 'name': 'English'}]                                                                                                                                                                     22395\n",
       "[]                                                                                                                                                                                                            3829\n",
       "[{'iso_639_1': 'fr', 'name': 'Français'}]                                                                                                                                                                     1853\n",
       "[{'iso_639_1': 'ja', 'name': '日本語'}]                                                                                                                                                                          1289\n",
       "[{'iso_639_1': 'it', 'name': 'Italiano'}]                                                                                                                                                                     1218\n",
       "                                                                                                                                                                                                             ...  \n",
       "[{'iso_639_1': 'en', 'name': 'English'}, {'iso_639_1': 'is', 'name': 'Íslenska'}, {'iso_639_1': 'it', 'name': 'Italiano'}]                                                                                       1\n",
       "[{'iso_639_1': 'da', 'name': 'Dansk'}, {'iso_639_1': 'de', 'name': 'Deutsch'}, {'iso_639_1': 'hu', 'name': 'Magyar'}]                                                                                            1\n",
       "[{'iso_639_1': 'ar', 'name': 'العربية'}, {'iso_639_1': 'en', 'name': 'English'}, {'iso_639_1': 'fr', 'name': 'Français'}, {'iso_639_1': 'ru', 'name': 'Pусский'}, {'iso_639_1': 'es', 'name': 'Español'}]        1\n",
       "[{'iso_639_1': 'ar', 'name': 'العربية'}, {'iso_639_1': 'en', 'name': 'English'}, {'iso_639_1': 'fr', 'name': 'Français'}, {'iso_639_1': 'it', 'name': 'Italiano'}, {'iso_639_1': 'la', 'name': 'Latin'}]         1\n",
       "[{'iso_639_1': 'en', 'name': 'English'}, {'iso_639_1': 'fa', 'name': 'فارسی'}, {'iso_639_1': 'ur', 'name': 'اردو'}, {'iso_639_1': 'ar', 'name': 'العربية'}]                                                      1\n",
       "Name: count, Length: 1932, dtype: int64"
      ]
     },
     "execution_count": 24,
     "metadata": {},
     "output_type": "execute_result"
    }
   ],
   "source": [
    "df['spoken_languages'].value_counts(dropna=False)"
   ]
  },
  {
   "cell_type": "markdown",
   "id": "9c65df19-c06e-4f94-92c3-057fe68c2a6f",
   "metadata": {},
   "source": [
    "Use both the \"iso_639_1\" and \"name\" properties to replace `spoken_languages`."
   ]
  },
  {
   "cell_type": "markdown",
   "id": "7e4bfdcb-00c9-4ba7-b3ea-051141ca9363",
   "metadata": {},
   "source": [
    "### Conclusion\n",
    "\n",
    "Issues found:\n",
    "\n",
    "1. **`genres` need to be unrolled. \"name\" property should be used for each `genre`.**\n",
    "2. **\"False\" (string) in `production_companies`**\n",
    "3. **`production_companies` need to be unrolled. \"name\" property should be used for each `production_company`.**\n",
    "4. **`production_countries` need to be unrolled. \"iso_3166_1\" and \"name\" property should be used for each `production_country`.**\n",
    "5. **`spoken_languages` need to be unrolled. \"iso_639_1\" and \"name\" property should be used for each `spoken_language`.**"
   ]
  },
  {
   "cell_type": "markdown",
   "id": "f7b6c9cb-6014-49f1-b294-7a7ec04b0d48",
   "metadata": {
    "jp-MarkdownHeadingCollapsed": true
   },
   "source": [
    "# List of issues\n",
    "\n",
    "1. NaN `title` and invalid `original_title`\n",
    "2. Invalid `belongs_to_collection`\n",
    "3. Invalid `homepage`\n",
    "4. `genres` need to be unrolled. \"name\" property should be used for each `genre`.\n",
    "5. \"False\" (string) in `production_companies`\n",
    "6. `production_companies` need to be unrolled. \"name\" property should be used for each `production_company`.\n",
    "7. `production_countries` need to be unrolled. \"iso_3166_1\" and \"name\" properties should be used for each `production_country`.\n",
    "8. `spoken_languages` need to be unrolled. \"iso_639_1\" and \"name\" properties should be used for each `spoken_language`.\n",
    "9. Drop unneeded columns"
   ]
  },
  {
   "cell_type": "markdown",
   "id": "688464ce-80c6-430d-9300-4d728ff47075",
   "metadata": {},
   "source": [
    "# Clean-ups"
   ]
  },
  {
   "cell_type": "code",
   "execution_count": 25,
   "id": "75642060-f35c-4a7c-b347-d4bd0b004af6",
   "metadata": {},
   "outputs": [],
   "source": [
    "dfc = df.copy()"
   ]
  },
  {
   "cell_type": "markdown",
   "id": "acc83fec-e8d0-48a6-b366-b35e14e40287",
   "metadata": {},
   "source": [
    "## 1. NaN `title` and invalid `original_title`\n",
    "\n",
    "For all NaN `title`s:\n",
    "\n",
    "- Use the `original_title` if `original_title` does not have JSON text\n",
    "- Use `poster_path` otherwise, and also replace the `original_title` with `poster_path`"
   ]
  },
  {
   "cell_type": "code",
   "execution_count": 26,
   "id": "0032066e-ce50-4017-bc8f-29cd19c0ad9e",
   "metadata": {},
   "outputs": [],
   "source": [
    "# Fill NaN titles using original_title if it does not contain '{', else use poster_path\n",
    "# Create a mask for rows where title is NaN\n",
    "nan_title_mask = dfc['title'].isna()\n",
    "\n",
    "# Create a mask for original_title containing '{'\n",
    "original_title_json_mask = dfc['original_title'].str.contains(r'{', regex=True)\n",
    "\n",
    "# Apply conditions to fill NaN titles\n",
    "dfc.loc[nan_title_mask & ~original_title_json_mask, 'title'] = dfc['original_title']\n",
    "dfc.loc[nan_title_mask & original_title_json_mask, 'title'] = dfc['poster_path']\n",
    "\n",
    "# Replace original_title with poster_path where original_title contains '{' and title was NaN\n",
    "dfc.loc[nan_title_mask & original_title_json_mask, 'original_title'] = dfc['poster_path']"
   ]
  },
  {
   "cell_type": "markdown",
   "id": "ce126049-8a23-47fe-8102-bf438a47fc14",
   "metadata": {},
   "source": [
    "### Test\n",
    "\n",
    "Let's run the same code as we had in the Assessment section. When correct, should return empty rows (meaning there's no empty `title` and no `original_title` with JSON content)."
   ]
  },
  {
   "cell_type": "code",
   "execution_count": 27,
   "id": "9bfdd24c-dd4f-482a-b32b-1dbfa5fdfc08",
   "metadata": {},
   "outputs": [
    {
     "data": {
      "text/html": [
       "<div>\n",
       "<style scoped>\n",
       "    .dataframe tbody tr th:only-of-type {\n",
       "        vertical-align: middle;\n",
       "    }\n",
       "\n",
       "    .dataframe tbody tr th {\n",
       "        vertical-align: top;\n",
       "    }\n",
       "\n",
       "    .dataframe thead th {\n",
       "        text-align: right;\n",
       "    }\n",
       "</style>\n",
       "<table border=\"1\" class=\"dataframe\">\n",
       "  <thead>\n",
       "    <tr style=\"text-align: right;\">\n",
       "      <th></th>\n",
       "      <th>title</th>\n",
       "      <th>original_title</th>\n",
       "      <th>poster_path</th>\n",
       "    </tr>\n",
       "  </thead>\n",
       "  <tbody>\n",
       "  </tbody>\n",
       "</table>\n",
       "</div>"
      ],
      "text/plain": [
       "Empty DataFrame\n",
       "Columns: [title, original_title, poster_path]\n",
       "Index: []"
      ]
     },
     "execution_count": 27,
     "metadata": {},
     "output_type": "execute_result"
    }
   ],
   "source": [
    "dfc[dfc['title'].isna()][['title', 'original_title', 'poster_path']]"
   ]
  },
  {
   "cell_type": "code",
   "execution_count": 28,
   "id": "2e83539c-4fc2-4eee-bfe2-40d34cdb6e72",
   "metadata": {},
   "outputs": [
    {
     "data": {
      "text/html": [
       "<div>\n",
       "<style scoped>\n",
       "    .dataframe tbody tr th:only-of-type {\n",
       "        vertical-align: middle;\n",
       "    }\n",
       "\n",
       "    .dataframe tbody tr th {\n",
       "        vertical-align: top;\n",
       "    }\n",
       "\n",
       "    .dataframe thead th {\n",
       "        text-align: right;\n",
       "    }\n",
       "</style>\n",
       "<table border=\"1\" class=\"dataframe\">\n",
       "  <thead>\n",
       "    <tr style=\"text-align: right;\">\n",
       "      <th></th>\n",
       "      <th>original_title</th>\n",
       "      <th>title</th>\n",
       "    </tr>\n",
       "  </thead>\n",
       "  <tbody>\n",
       "  </tbody>\n",
       "</table>\n",
       "</div>"
      ],
      "text/plain": [
       "Empty DataFrame\n",
       "Columns: [original_title, title]\n",
       "Index: []"
      ]
     },
     "execution_count": 28,
     "metadata": {},
     "output_type": "execute_result"
    }
   ],
   "source": [
    "dfc[dfc['original_title'].str.contains(r'{', regex=True)][['original_title', 'title']]"
   ]
  },
  {
   "cell_type": "markdown",
   "id": "81bdca55-4f05-4689-b430-3d722b0e4919",
   "metadata": {},
   "source": [
    "## 2. Invalid `belongs_to_collection`\n",
    "\n",
    "- For rows with `belongs_to_collection` containing JSON values, replace `belongs_to_collection` with its \"name\" property.\n",
    "- For rows with `belongs_to_collection` containing floating numbers, replace them with NaN."
   ]
  },
  {
   "cell_type": "code",
   "execution_count": 29,
   "id": "70ba1a6b-d11b-4f4d-b887-4511dd679d3a",
   "metadata": {},
   "outputs": [
    {
     "data": {
      "text/plain": [
       "'{\"id\": 118221, \"name\": \"Weekend at Bernie\\'s Collection\", \"poster_path\": \"/gJVBXVetIkgVVMbzODQ3dJwvQkV.jpg\", \"backdrop_path\": \"/khVvskKc4VzAHbHtQMhKGeKWDxC.jpg\"}'"
      ]
     },
     "execution_count": 29,
     "metadata": {},
     "output_type": "execute_result"
    }
   ],
   "source": [
    "input_str = \"{'id': 118221, 'name': 'Weekend at Bernie\\'s Collection', 'poster_path': '/gJVBXVetIkgVVMbzODQ3dJwvQkV.jpg', 'backdrop_path': '/khVvskKc4VzAHbHtQMhKGeKWDxC.jpg'}\"\n",
    "\n",
    "def fix_json_string(json_str):\n",
    "    json_str = json_str.replace(\"None\", \"null\")\n",
    "    \n",
    "    # Replace single quotes around keys and values with double quotes, but preserve single quotes within values\n",
    "    json_str = re.sub(r\"'(?P<key>[^']+?)':\", r'\"\\g<key>\":', json_str)  # Keys\n",
    "    json_str = re.sub(r\":\\s*'(.*?)'(,|})\", r': \"\\g<1>\"\\2', json_str) # Values\n",
    "    return json_str\n",
    "\n",
    "fix_json_string(input_str)"
   ]
  },
  {
   "cell_type": "code",
   "execution_count": 30,
   "id": "ba2bf881-8e0f-472d-aeda-2cb116db401d",
   "metadata": {
    "scrolled": true
   },
   "outputs": [],
   "source": [
    "# Create masks for JSON-like strings and floating numbers\n",
    "json_mask = dfc['belongs_to_collection'].fillna('').str.contains(r'{', regex=True)\n",
    "float_mask = ~dfc['belongs_to_collection'].isna() & dfc['belongs_to_collection'].apply(lambda x: isinstance(x, float))\n",
    "\n",
    "# Extract the \"name\" property from JSON strings\n",
    "\n",
    "def fix_json_string(json_str):\n",
    "    json_str = json_str.replace(\"None\", \"null\")\n",
    "    \n",
    "    # Replace single quotes around keys and values with double quotes, but preserve single quotes within values\n",
    "    json_str = re.sub(r\"'(?P<key>[^']+?)':\", r'\"\\g<key>\":', json_str)  # Keys\n",
    "    json_str = re.sub(r\":\\s*'(.*?)'(,|})\", r': \"\\g<1>\"\\2', json_str) # Values\n",
    "    return json_str\n",
    "    \n",
    "def load_json(v):\n",
    "    fixed_str = fix_json_string(v)\n",
    "    return json.loads(fixed_str)\n",
    "\n",
    "dfc.loc[json_mask, 'belongs_to_collection'] = dfc.loc[json_mask, 'belongs_to_collection'].apply(lambda x: load_json(x)['name'])\n",
    "\n",
    "# Replace floating numbers with NaN\n",
    "dfc.loc[float_mask, 'belongs_to_collection'] = np.nan"
   ]
  },
  {
   "cell_type": "markdown",
   "id": "24182a9f-5dbb-47cf-880d-79807b91dff5",
   "metadata": {},
   "source": [
    "### Test\n",
    "\n",
    "1. Check if the JSON values were updated correctly\n",
    "2. Check if there is no longer JSON values\n",
    "3. Check if values of rows that were previously floating numbers no longer existed"
   ]
  },
  {
   "cell_type": "code",
   "execution_count": 31,
   "id": "24158d46-d97f-4cd9-96ca-b9d9151086e5",
   "metadata": {},
   "outputs": [
    {
     "data": {
      "text/plain": [
       "belongs_to_collection\n",
       "The Bowery Boys                   29\n",
       "Totò Collection                   27\n",
       "Zatôichi: The Blind Swordsman     26\n",
       "James Bond Collection             26\n",
       "The Carry On Collection           25\n",
       "                                  ..\n",
       "Salt and Pepper Collection         1\n",
       "Ducobu Collection                  1\n",
       "Чебурашка и крокодил Гена          1\n",
       "Tomtar och Trolltyg Collection     1\n",
       "Hailey Dean Mystery Collection     1\n",
       "Name: count, Length: 1698, dtype: int64"
      ]
     },
     "execution_count": 31,
     "metadata": {},
     "output_type": "execute_result"
    }
   ],
   "source": [
    "# Check if the JSON values were updated correctly\n",
    "dfc['belongs_to_collection'].value_counts()"
   ]
  },
  {
   "cell_type": "code",
   "execution_count": 32,
   "id": "3cc3e8e4-6e24-4ff0-8465-13faf65ebdb9",
   "metadata": {},
   "outputs": [
    {
     "data": {
      "text/html": [
       "<div>\n",
       "<style scoped>\n",
       "    .dataframe tbody tr th:only-of-type {\n",
       "        vertical-align: middle;\n",
       "    }\n",
       "\n",
       "    .dataframe tbody tr th {\n",
       "        vertical-align: top;\n",
       "    }\n",
       "\n",
       "    .dataframe thead th {\n",
       "        text-align: right;\n",
       "    }\n",
       "</style>\n",
       "<table border=\"1\" class=\"dataframe\">\n",
       "  <thead>\n",
       "    <tr style=\"text-align: right;\">\n",
       "      <th></th>\n",
       "      <th>belongs_to_collection</th>\n",
       "      <th>title</th>\n",
       "    </tr>\n",
       "  </thead>\n",
       "  <tbody>\n",
       "  </tbody>\n",
       "</table>\n",
       "</div>"
      ],
      "text/plain": [
       "Empty DataFrame\n",
       "Columns: [belongs_to_collection, title]\n",
       "Index: []"
      ]
     },
     "metadata": {},
     "output_type": "display_data"
    }
   ],
   "source": [
    "# Check if there is no longer JSON values (should return 0 rows)\n",
    "display(dfc[dfc['belongs_to_collection'].fillna('').str.contains(r'{', regex=True)][['belongs_to_collection', 'title']])"
   ]
  },
  {
   "cell_type": "code",
   "execution_count": 33,
   "id": "62ca9a02-3c9f-4192-927c-6da1aecc99e3",
   "metadata": {},
   "outputs": [
    {
     "data": {
      "text/html": [
       "<div>\n",
       "<style scoped>\n",
       "    .dataframe tbody tr th:only-of-type {\n",
       "        vertical-align: middle;\n",
       "    }\n",
       "\n",
       "    .dataframe tbody tr th {\n",
       "        vertical-align: top;\n",
       "    }\n",
       "\n",
       "    .dataframe thead th {\n",
       "        text-align: right;\n",
       "    }\n",
       "</style>\n",
       "<table border=\"1\" class=\"dataframe\">\n",
       "  <thead>\n",
       "    <tr style=\"text-align: right;\">\n",
       "      <th></th>\n",
       "      <th>belongs_to_collection</th>\n",
       "      <th>title</th>\n",
       "    </tr>\n",
       "  </thead>\n",
       "  <tbody>\n",
       "  </tbody>\n",
       "</table>\n",
       "</div>"
      ],
      "text/plain": [
       "Empty DataFrame\n",
       "Columns: [belongs_to_collection, title]\n",
       "Index: []"
      ]
     },
     "execution_count": 33,
     "metadata": {},
     "output_type": "execute_result"
    }
   ],
   "source": [
    "# Check if values of rows that were previously floating numbers no longer existed (should return 0 rows)\n",
    "float_mask = ~dfc['belongs_to_collection'].isna() & dfc['belongs_to_collection'].apply(lambda x: isinstance(x, float))\n",
    "dfc.loc[float_mask][['belongs_to_collection', 'title']]"
   ]
  },
  {
   "cell_type": "markdown",
   "id": "015264a9-b28c-443e-94c4-76b1fedfc0d2",
   "metadata": {},
   "source": [
    "## 3. Invalid `homepage`\n",
    "\n",
    "- For `homepage` that **starts** with \"[{\", replace with NaN.\n",
    "- Otherwise keep them"
   ]
  },
  {
   "cell_type": "code",
   "execution_count": 34,
   "id": "88803dd7-544f-4a9a-a5ee-fceb1d3e232a",
   "metadata": {},
   "outputs": [],
   "source": [
    "# Create a mask to identify rows where homepage starts with \"[{\"\n",
    "homepage_mask = dfc['homepage'].fillna('').str.startswith('[{')\n",
    "\n",
    "# Replace those values with NaN\n",
    "dfc.loc[homepage_mask, 'homepage'] = np.nan"
   ]
  },
  {
   "cell_type": "markdown",
   "id": "861e19e0-cfc2-4fdf-9a3d-f4a88e2ab435",
   "metadata": {},
   "source": [
    "### Test"
   ]
  },
  {
   "cell_type": "code",
   "execution_count": 35,
   "id": "15ca654b-0a44-4cdd-aaa8-a052c7a10aee",
   "metadata": {},
   "outputs": [
    {
     "data": {
      "text/plain": [
       "homepage\n",
       "http://www.georgecarlin.com                               12\n",
       "http://www.wernerherzog.com/films-by.html                  7\n",
       "http://breakblade.jp/                                      6\n",
       "http://www.kungfupanda.com/                                4\n",
       "http://www.missionimpossible.com/                          4\n",
       "                                                          ..\n",
       "http://happyfeettwo.warnerbros.com/index.html              1\n",
       "http://rampartmovie.com/                                   1\n",
       "http://singyoursongthemovie.com/                           1\n",
       "http://extremelyloudandincrediblyclose.warnerbros.com/     1\n",
       "http://www.promnightinmississippi.com/                     1\n",
       "Name: count, Length: 7670, dtype: int64"
      ]
     },
     "execution_count": 35,
     "metadata": {},
     "output_type": "execute_result"
    }
   ],
   "source": [
    "dfc['homepage'].value_counts()"
   ]
  },
  {
   "cell_type": "markdown",
   "id": "e9786725-93aa-4716-82f0-0f152511029e",
   "metadata": {},
   "source": [
    "## 4. `genres` need to be exploded. \"name\" property should be used for each `genre`."
   ]
  },
  {
   "cell_type": "code",
   "execution_count": 36,
   "id": "87bda4bd-937b-4a67-8fe3-3f72b0137855",
   "metadata": {},
   "outputs": [
    {
     "data": {
      "text/plain": [
       "'Animation|Comedy|Family'"
      ]
     },
     "execution_count": 36,
     "metadata": {},
     "output_type": "execute_result"
    }
   ],
   "source": [
    "test_str = \"[{'id': 16, 'name': 'Animation'}, {'id': 35, 'name': 'Comedy'}, {'id': 10751, 'name': 'Family'}]\"\n",
    "def str_separate(json_text, prop, separator='|'):\n",
    "    obj = load_json(json_text)\n",
    "    return separator.join([x['name'] for x in obj])\n",
    "\n",
    "str_separate(test_str, 'name')"
   ]
  },
  {
   "cell_type": "code",
   "execution_count": 37,
   "id": "0dcd189f-0fec-4ed5-92d9-9a32c6ce7533",
   "metadata": {},
   "outputs": [
    {
     "name": "stdout",
     "output_type": "stream",
     "text": [
      "time: 0.2637336254119873\n"
     ]
    }
   ],
   "source": [
    "def split_var(_df, varname, new_varname, property='name'):\n",
    "    \"\"\" Split a dataframe where a variable with multiple values is unrolled into multiple rows.\n",
    "    \n",
    "    Args:\n",
    "    - df: The DataFrame object\n",
    "    - varname: Current variable name\n",
    "    - new_varname: New variable name that contains the singular item\n",
    "    - property: The property name to get from each JSON object\n",
    "    \"\"\"\n",
    "    temp_varname = \"_{}_temp\".format(varname)\n",
    "    \n",
    "    # Convert the JSON-like strings to lists of names\n",
    "    s = _df[varname].apply(lambda x: str_separate(x, 'name', '|'))\n",
    "\n",
    "    _df[temp_varname] = s.str.split('|')\n",
    "    df1 = _df.explode(temp_varname).reset_index(drop=True)\n",
    "    df1.rename(columns={temp_varname: new_varname}, inplace=True)\n",
    "    _df.drop(columns=[temp_varname], inplace=True)\n",
    "    return df1\n",
    "\n",
    "start_time = time.time()\n",
    "df_genres = split_var(dfc, 'genres', 'genre', property='name')[['id', 'genre']]\n",
    "df_genres.rename(columns={'id': 'movie_id'}, inplace=True)\n",
    "\n",
    "literal_eval_time = time.time() - start_time\n",
    "print(\"time: {}\".format(literal_eval_time))"
   ]
  },
  {
   "cell_type": "markdown",
   "id": "f6a54909-a86b-4725-b349-9d1bc68bc41a",
   "metadata": {},
   "source": [
    "### Test\n",
    "\n",
    "Take a quick look at the produced dataset."
   ]
  },
  {
   "cell_type": "code",
   "execution_count": 38,
   "id": "df58d5f9-ee98-4042-affc-cadbccbef5a6",
   "metadata": {},
   "outputs": [
    {
     "data": {
      "text/html": [
       "<div>\n",
       "<style scoped>\n",
       "    .dataframe tbody tr th:only-of-type {\n",
       "        vertical-align: middle;\n",
       "    }\n",
       "\n",
       "    .dataframe tbody tr th {\n",
       "        vertical-align: top;\n",
       "    }\n",
       "\n",
       "    .dataframe thead th {\n",
       "        text-align: right;\n",
       "    }\n",
       "</style>\n",
       "<table border=\"1\" class=\"dataframe\">\n",
       "  <thead>\n",
       "    <tr style=\"text-align: right;\">\n",
       "      <th></th>\n",
       "      <th>movie_id</th>\n",
       "      <th>genre</th>\n",
       "    </tr>\n",
       "  </thead>\n",
       "  <tbody>\n",
       "    <tr>\n",
       "      <th>0</th>\n",
       "      <td>862</td>\n",
       "      <td>Animation</td>\n",
       "    </tr>\n",
       "    <tr>\n",
       "      <th>1</th>\n",
       "      <td>862</td>\n",
       "      <td>Comedy</td>\n",
       "    </tr>\n",
       "    <tr>\n",
       "      <th>2</th>\n",
       "      <td>862</td>\n",
       "      <td>Family</td>\n",
       "    </tr>\n",
       "    <tr>\n",
       "      <th>3</th>\n",
       "      <td>8844</td>\n",
       "      <td>Adventure</td>\n",
       "    </tr>\n",
       "    <tr>\n",
       "      <th>4</th>\n",
       "      <td>8844</td>\n",
       "      <td>Fantasy</td>\n",
       "    </tr>\n",
       "    <tr>\n",
       "      <th>5</th>\n",
       "      <td>8844</td>\n",
       "      <td>Family</td>\n",
       "    </tr>\n",
       "    <tr>\n",
       "      <th>6</th>\n",
       "      <td>15602</td>\n",
       "      <td>Romance</td>\n",
       "    </tr>\n",
       "    <tr>\n",
       "      <th>7</th>\n",
       "      <td>15602</td>\n",
       "      <td>Comedy</td>\n",
       "    </tr>\n",
       "    <tr>\n",
       "      <th>8</th>\n",
       "      <td>31357</td>\n",
       "      <td>Comedy</td>\n",
       "    </tr>\n",
       "    <tr>\n",
       "      <th>9</th>\n",
       "      <td>31357</td>\n",
       "      <td>Drama</td>\n",
       "    </tr>\n",
       "  </tbody>\n",
       "</table>\n",
       "</div>"
      ],
      "text/plain": [
       "  movie_id      genre\n",
       "0      862  Animation\n",
       "1      862     Comedy\n",
       "2      862     Family\n",
       "3     8844  Adventure\n",
       "4     8844    Fantasy\n",
       "5     8844     Family\n",
       "6    15602    Romance\n",
       "7    15602     Comedy\n",
       "8    31357     Comedy\n",
       "9    31357      Drama"
      ]
     },
     "execution_count": 38,
     "metadata": {},
     "output_type": "execute_result"
    }
   ],
   "source": [
    "df_genres.head(10)"
   ]
  },
  {
   "cell_type": "markdown",
   "id": "6590fa02-7fe9-4033-a4be-39713fb819bb",
   "metadata": {},
   "source": [
    "### 5. \"False\" (string) in `production_companies`"
   ]
  },
  {
   "cell_type": "code",
   "execution_count": 39,
   "id": "5bfcbac3-d0b1-4efa-b1f2-35d0016142b6",
   "metadata": {},
   "outputs": [],
   "source": [
    "dfc.loc[dfc['production_companies'] == 'False', 'production_companies'] = np.nan"
   ]
  },
  {
   "cell_type": "markdown",
   "id": "eb046689-4f44-424b-a9ef-3e0380fa4029",
   "metadata": {},
   "source": [
    "### Test\n",
    "Do we still have the value \"False\" in `production_companies`?"
   ]
  },
  {
   "cell_type": "code",
   "execution_count": 40,
   "id": "13f74668-dbdb-46c9-9564-74784f56d02e",
   "metadata": {},
   "outputs": [
    {
     "data": {
      "text/html": [
       "<div>\n",
       "<style scoped>\n",
       "    .dataframe tbody tr th:only-of-type {\n",
       "        vertical-align: middle;\n",
       "    }\n",
       "\n",
       "    .dataframe tbody tr th {\n",
       "        vertical-align: top;\n",
       "    }\n",
       "\n",
       "    .dataframe thead th {\n",
       "        text-align: right;\n",
       "    }\n",
       "</style>\n",
       "<table border=\"1\" class=\"dataframe\">\n",
       "  <thead>\n",
       "    <tr style=\"text-align: right;\">\n",
       "      <th></th>\n",
       "      <th>adult</th>\n",
       "      <th>belongs_to_collection</th>\n",
       "      <th>budget</th>\n",
       "      <th>genres</th>\n",
       "      <th>homepage</th>\n",
       "      <th>id</th>\n",
       "      <th>imdb_id</th>\n",
       "      <th>original_language</th>\n",
       "      <th>original_title</th>\n",
       "      <th>overview</th>\n",
       "      <th>...</th>\n",
       "      <th>release_date</th>\n",
       "      <th>revenue</th>\n",
       "      <th>runtime</th>\n",
       "      <th>spoken_languages</th>\n",
       "      <th>status</th>\n",
       "      <th>tagline</th>\n",
       "      <th>title</th>\n",
       "      <th>video</th>\n",
       "      <th>vote_average</th>\n",
       "      <th>vote_count</th>\n",
       "    </tr>\n",
       "  </thead>\n",
       "  <tbody>\n",
       "  </tbody>\n",
       "</table>\n",
       "<p>0 rows × 24 columns</p>\n",
       "</div>"
      ],
      "text/plain": [
       "Empty DataFrame\n",
       "Columns: [adult, belongs_to_collection, budget, genres, homepage, id, imdb_id, original_language, original_title, overview, popularity, poster_path, production_companies, production_countries, release_date, revenue, runtime, spoken_languages, status, tagline, title, video, vote_average, vote_count]\n",
       "Index: []\n",
       "\n",
       "[0 rows x 24 columns]"
      ]
     },
     "execution_count": 40,
     "metadata": {},
     "output_type": "execute_result"
    }
   ],
   "source": [
    "dfc[dfc['production_companies'] == 'False']"
   ]
  },
  {
   "cell_type": "markdown",
   "id": "7828f3f7-561d-46b9-82b3-94d33bd62bf9",
   "metadata": {},
   "source": [
    "## 6. `production_companies` need to be unrolled. \"name\" property should be used for each `production_company`."
   ]
  },
  {
   "cell_type": "code",
   "execution_count": 42,
   "id": "4ac20ace-29d5-4d8b-9836-5d0b629bae09",
   "metadata": {},
   "outputs": [
    {
     "ename": "JSONDecodeError",
     "evalue": "Expecting ',' delimiter: line 1 column 60 (char 59)",
     "output_type": "error",
     "traceback": [
      "\u001b[0;31m---------------------------------------------------------------------------\u001b[0m",
      "\u001b[0;31mJSONDecodeError\u001b[0m                           Traceback (most recent call last)",
      "Cell \u001b[0;32mIn[42], line 33\u001b[0m\n\u001b[1;32m     28\u001b[0m     \u001b[38;5;28;01mreturn\u001b[39;00m df1\n\u001b[1;32m     31\u001b[0m start_time \u001b[38;5;241m=\u001b[39m time\u001b[38;5;241m.\u001b[39mtime()\n\u001b[0;32m---> 33\u001b[0m df_production_companies \u001b[38;5;241m=\u001b[39m \u001b[43msplit_vars\u001b[49m\u001b[43m(\u001b[49m\u001b[43mdfc\u001b[49m\u001b[43m,\u001b[49m\u001b[43m \u001b[49m\u001b[38;5;124;43m'\u001b[39;49m\u001b[38;5;124;43mproduction_companies\u001b[39;49m\u001b[38;5;124;43m'\u001b[39;49m\u001b[43m,\u001b[49m\n\u001b[1;32m     34\u001b[0m \u001b[43m                \u001b[49m\u001b[43mproperties\u001b[49m\u001b[38;5;241;43m=\u001b[39;49m\u001b[43m[\u001b[49m\u001b[38;5;124;43m'\u001b[39;49m\u001b[38;5;124;43mname\u001b[39;49m\u001b[38;5;124;43m'\u001b[39;49m\u001b[43m]\u001b[49m\u001b[43m,\u001b[49m\n\u001b[1;32m     35\u001b[0m \u001b[43m                \u001b[49m\u001b[43mnew_varnames\u001b[49m\u001b[38;5;241;43m=\u001b[39;49m\u001b[43m[\u001b[49m\u001b[38;5;124;43m'\u001b[39;49m\u001b[38;5;124;43mname\u001b[39;49m\u001b[38;5;124;43m'\u001b[39;49m\u001b[43m]\u001b[49m\n\u001b[1;32m     36\u001b[0m \u001b[43m               \u001b[49m\u001b[43m)\u001b[49m[[\u001b[38;5;124m'\u001b[39m\u001b[38;5;124mid\u001b[39m\u001b[38;5;124m'\u001b[39m, \u001b[38;5;124m'\u001b[39m\u001b[38;5;124mname\u001b[39m\u001b[38;5;124m'\u001b[39m]]\n\u001b[1;32m     37\u001b[0m df_production_companies\u001b[38;5;241m.\u001b[39mrename(columns\u001b[38;5;241m=\u001b[39m{\u001b[38;5;124m'\u001b[39m\u001b[38;5;124mid\u001b[39m\u001b[38;5;124m'\u001b[39m: \u001b[38;5;124m'\u001b[39m\u001b[38;5;124mmovie_id\u001b[39m\u001b[38;5;124m'\u001b[39m}, inplace\u001b[38;5;241m=\u001b[39m\u001b[38;5;28;01mTrue\u001b[39;00m)\n\u001b[1;32m     39\u001b[0m literal_eval_time \u001b[38;5;241m=\u001b[39m time\u001b[38;5;241m.\u001b[39mtime() \u001b[38;5;241m-\u001b[39m start_time\n",
      "Cell \u001b[0;32mIn[42], line 12\u001b[0m, in \u001b[0;36msplit_vars\u001b[0;34m(_df, varname, properties, new_varnames)\u001b[0m\n\u001b[1;32m      2\u001b[0m \u001b[38;5;250m\u001b[39m\u001b[38;5;124;03m\"\"\" Split a dataframe where a variable with multiple values is unrolled into multiple rows.\u001b[39;00m\n\u001b[1;32m      3\u001b[0m \u001b[38;5;124;03m\u001b[39;00m\n\u001b[1;32m      4\u001b[0m \u001b[38;5;124;03mArgs:\u001b[39;00m\n\u001b[0;32m   (...)\u001b[0m\n\u001b[1;32m      9\u001b[0m \u001b[38;5;124;03m- separator: Separator in the variable\u001b[39;00m\n\u001b[1;32m     10\u001b[0m \u001b[38;5;124;03m\"\"\"\u001b[39;00m\n\u001b[1;32m     11\u001b[0m temp_varname \u001b[38;5;241m=\u001b[39m \u001b[38;5;124m\"\u001b[39m\u001b[38;5;124m_\u001b[39m\u001b[38;5;132;01m{}\u001b[39;00m\u001b[38;5;124m_temp\u001b[39m\u001b[38;5;124m\"\u001b[39m\u001b[38;5;241m.\u001b[39mformat(varname)\n\u001b[0;32m---> 12\u001b[0m _df[temp_varname] \u001b[38;5;241m=\u001b[39m \u001b[43m_df\u001b[49m\u001b[43m[\u001b[49m\u001b[43mvarname\u001b[49m\u001b[43m]\u001b[49m\u001b[38;5;241;43m.\u001b[39;49m\u001b[43mapply\u001b[49m\u001b[43m(\u001b[49m\u001b[38;5;28;43;01mlambda\u001b[39;49;00m\u001b[43m \u001b[49m\u001b[43mx\u001b[49m\u001b[43m:\u001b[49m\u001b[43m \u001b[49m\u001b[43mload_json\u001b[49m\u001b[43m(\u001b[49m\u001b[43mx\u001b[49m\u001b[43m)\u001b[49m\u001b[43m)\u001b[49m\n\u001b[1;32m     13\u001b[0m df1 \u001b[38;5;241m=\u001b[39m _df\u001b[38;5;241m.\u001b[39mexplode(temp_varname)\n\u001b[1;32m     15\u001b[0m \u001b[38;5;66;03m# Generalized function to extract specified properties from a dictionary\u001b[39;00m\n",
      "File \u001b[0;32m~/.virtualenvs/py3.12/lib/python3.12/site-packages/pandas/core/series.py:4924\u001b[0m, in \u001b[0;36mSeries.apply\u001b[0;34m(self, func, convert_dtype, args, by_row, **kwargs)\u001b[0m\n\u001b[1;32m   4789\u001b[0m \u001b[38;5;28;01mdef\u001b[39;00m \u001b[38;5;21mapply\u001b[39m(\n\u001b[1;32m   4790\u001b[0m     \u001b[38;5;28mself\u001b[39m,\n\u001b[1;32m   4791\u001b[0m     func: AggFuncType,\n\u001b[0;32m   (...)\u001b[0m\n\u001b[1;32m   4796\u001b[0m     \u001b[38;5;241m*\u001b[39m\u001b[38;5;241m*\u001b[39mkwargs,\n\u001b[1;32m   4797\u001b[0m ) \u001b[38;5;241m-\u001b[39m\u001b[38;5;241m>\u001b[39m DataFrame \u001b[38;5;241m|\u001b[39m Series:\n\u001b[1;32m   4798\u001b[0m \u001b[38;5;250m    \u001b[39m\u001b[38;5;124;03m\"\"\"\u001b[39;00m\n\u001b[1;32m   4799\u001b[0m \u001b[38;5;124;03m    Invoke function on values of Series.\u001b[39;00m\n\u001b[1;32m   4800\u001b[0m \n\u001b[0;32m   (...)\u001b[0m\n\u001b[1;32m   4915\u001b[0m \u001b[38;5;124;03m    dtype: float64\u001b[39;00m\n\u001b[1;32m   4916\u001b[0m \u001b[38;5;124;03m    \"\"\"\u001b[39;00m\n\u001b[1;32m   4917\u001b[0m     \u001b[38;5;28;01mreturn\u001b[39;00m \u001b[43mSeriesApply\u001b[49m\u001b[43m(\u001b[49m\n\u001b[1;32m   4918\u001b[0m \u001b[43m        \u001b[49m\u001b[38;5;28;43mself\u001b[39;49m\u001b[43m,\u001b[49m\n\u001b[1;32m   4919\u001b[0m \u001b[43m        \u001b[49m\u001b[43mfunc\u001b[49m\u001b[43m,\u001b[49m\n\u001b[1;32m   4920\u001b[0m \u001b[43m        \u001b[49m\u001b[43mconvert_dtype\u001b[49m\u001b[38;5;241;43m=\u001b[39;49m\u001b[43mconvert_dtype\u001b[49m\u001b[43m,\u001b[49m\n\u001b[1;32m   4921\u001b[0m \u001b[43m        \u001b[49m\u001b[43mby_row\u001b[49m\u001b[38;5;241;43m=\u001b[39;49m\u001b[43mby_row\u001b[49m\u001b[43m,\u001b[49m\n\u001b[1;32m   4922\u001b[0m \u001b[43m        \u001b[49m\u001b[43margs\u001b[49m\u001b[38;5;241;43m=\u001b[39;49m\u001b[43margs\u001b[49m\u001b[43m,\u001b[49m\n\u001b[1;32m   4923\u001b[0m \u001b[43m        \u001b[49m\u001b[43mkwargs\u001b[49m\u001b[38;5;241;43m=\u001b[39;49m\u001b[43mkwargs\u001b[49m\u001b[43m,\u001b[49m\n\u001b[0;32m-> 4924\u001b[0m \u001b[43m    \u001b[49m\u001b[43m)\u001b[49m\u001b[38;5;241;43m.\u001b[39;49m\u001b[43mapply\u001b[49m\u001b[43m(\u001b[49m\u001b[43m)\u001b[49m\n",
      "File \u001b[0;32m~/.virtualenvs/py3.12/lib/python3.12/site-packages/pandas/core/apply.py:1427\u001b[0m, in \u001b[0;36mSeriesApply.apply\u001b[0;34m(self)\u001b[0m\n\u001b[1;32m   1424\u001b[0m     \u001b[38;5;28;01mreturn\u001b[39;00m \u001b[38;5;28mself\u001b[39m\u001b[38;5;241m.\u001b[39mapply_compat()\n\u001b[1;32m   1426\u001b[0m \u001b[38;5;66;03m# self.func is Callable\u001b[39;00m\n\u001b[0;32m-> 1427\u001b[0m \u001b[38;5;28;01mreturn\u001b[39;00m \u001b[38;5;28;43mself\u001b[39;49m\u001b[38;5;241;43m.\u001b[39;49m\u001b[43mapply_standard\u001b[49m\u001b[43m(\u001b[49m\u001b[43m)\u001b[49m\n",
      "File \u001b[0;32m~/.virtualenvs/py3.12/lib/python3.12/site-packages/pandas/core/apply.py:1507\u001b[0m, in \u001b[0;36mSeriesApply.apply_standard\u001b[0;34m(self)\u001b[0m\n\u001b[1;32m   1501\u001b[0m \u001b[38;5;66;03m# row-wise access\u001b[39;00m\n\u001b[1;32m   1502\u001b[0m \u001b[38;5;66;03m# apply doesn't have a `na_action` keyword and for backward compat reasons\u001b[39;00m\n\u001b[1;32m   1503\u001b[0m \u001b[38;5;66;03m# we need to give `na_action=\"ignore\"` for categorical data.\u001b[39;00m\n\u001b[1;32m   1504\u001b[0m \u001b[38;5;66;03m# TODO: remove the `na_action=\"ignore\"` when that default has been changed in\u001b[39;00m\n\u001b[1;32m   1505\u001b[0m \u001b[38;5;66;03m#  Categorical (GH51645).\u001b[39;00m\n\u001b[1;32m   1506\u001b[0m action \u001b[38;5;241m=\u001b[39m \u001b[38;5;124m\"\u001b[39m\u001b[38;5;124mignore\u001b[39m\u001b[38;5;124m\"\u001b[39m \u001b[38;5;28;01mif\u001b[39;00m \u001b[38;5;28misinstance\u001b[39m(obj\u001b[38;5;241m.\u001b[39mdtype, CategoricalDtype) \u001b[38;5;28;01melse\u001b[39;00m \u001b[38;5;28;01mNone\u001b[39;00m\n\u001b[0;32m-> 1507\u001b[0m mapped \u001b[38;5;241m=\u001b[39m \u001b[43mobj\u001b[49m\u001b[38;5;241;43m.\u001b[39;49m\u001b[43m_map_values\u001b[49m\u001b[43m(\u001b[49m\n\u001b[1;32m   1508\u001b[0m \u001b[43m    \u001b[49m\u001b[43mmapper\u001b[49m\u001b[38;5;241;43m=\u001b[39;49m\u001b[43mcurried\u001b[49m\u001b[43m,\u001b[49m\u001b[43m \u001b[49m\u001b[43mna_action\u001b[49m\u001b[38;5;241;43m=\u001b[39;49m\u001b[43maction\u001b[49m\u001b[43m,\u001b[49m\u001b[43m \u001b[49m\u001b[43mconvert\u001b[49m\u001b[38;5;241;43m=\u001b[39;49m\u001b[38;5;28;43mself\u001b[39;49m\u001b[38;5;241;43m.\u001b[39;49m\u001b[43mconvert_dtype\u001b[49m\n\u001b[1;32m   1509\u001b[0m \u001b[43m\u001b[49m\u001b[43m)\u001b[49m\n\u001b[1;32m   1511\u001b[0m \u001b[38;5;28;01mif\u001b[39;00m \u001b[38;5;28mlen\u001b[39m(mapped) \u001b[38;5;129;01mand\u001b[39;00m \u001b[38;5;28misinstance\u001b[39m(mapped[\u001b[38;5;241m0\u001b[39m], ABCSeries):\n\u001b[1;32m   1512\u001b[0m     \u001b[38;5;66;03m# GH#43986 Need to do list(mapped) in order to get treated as nested\u001b[39;00m\n\u001b[1;32m   1513\u001b[0m     \u001b[38;5;66;03m#  See also GH#25959 regarding EA support\u001b[39;00m\n\u001b[1;32m   1514\u001b[0m     \u001b[38;5;28;01mreturn\u001b[39;00m obj\u001b[38;5;241m.\u001b[39m_constructor_expanddim(\u001b[38;5;28mlist\u001b[39m(mapped), index\u001b[38;5;241m=\u001b[39mobj\u001b[38;5;241m.\u001b[39mindex)\n",
      "File \u001b[0;32m~/.virtualenvs/py3.12/lib/python3.12/site-packages/pandas/core/base.py:921\u001b[0m, in \u001b[0;36mIndexOpsMixin._map_values\u001b[0;34m(self, mapper, na_action, convert)\u001b[0m\n\u001b[1;32m    918\u001b[0m \u001b[38;5;28;01mif\u001b[39;00m \u001b[38;5;28misinstance\u001b[39m(arr, ExtensionArray):\n\u001b[1;32m    919\u001b[0m     \u001b[38;5;28;01mreturn\u001b[39;00m arr\u001b[38;5;241m.\u001b[39mmap(mapper, na_action\u001b[38;5;241m=\u001b[39mna_action)\n\u001b[0;32m--> 921\u001b[0m \u001b[38;5;28;01mreturn\u001b[39;00m \u001b[43malgorithms\u001b[49m\u001b[38;5;241;43m.\u001b[39;49m\u001b[43mmap_array\u001b[49m\u001b[43m(\u001b[49m\u001b[43marr\u001b[49m\u001b[43m,\u001b[49m\u001b[43m \u001b[49m\u001b[43mmapper\u001b[49m\u001b[43m,\u001b[49m\u001b[43m \u001b[49m\u001b[43mna_action\u001b[49m\u001b[38;5;241;43m=\u001b[39;49m\u001b[43mna_action\u001b[49m\u001b[43m,\u001b[49m\u001b[43m \u001b[49m\u001b[43mconvert\u001b[49m\u001b[38;5;241;43m=\u001b[39;49m\u001b[43mconvert\u001b[49m\u001b[43m)\u001b[49m\n",
      "File \u001b[0;32m~/.virtualenvs/py3.12/lib/python3.12/site-packages/pandas/core/algorithms.py:1743\u001b[0m, in \u001b[0;36mmap_array\u001b[0;34m(arr, mapper, na_action, convert)\u001b[0m\n\u001b[1;32m   1741\u001b[0m values \u001b[38;5;241m=\u001b[39m arr\u001b[38;5;241m.\u001b[39mastype(\u001b[38;5;28mobject\u001b[39m, copy\u001b[38;5;241m=\u001b[39m\u001b[38;5;28;01mFalse\u001b[39;00m)\n\u001b[1;32m   1742\u001b[0m \u001b[38;5;28;01mif\u001b[39;00m na_action \u001b[38;5;129;01mis\u001b[39;00m \u001b[38;5;28;01mNone\u001b[39;00m:\n\u001b[0;32m-> 1743\u001b[0m     \u001b[38;5;28;01mreturn\u001b[39;00m \u001b[43mlib\u001b[49m\u001b[38;5;241;43m.\u001b[39;49m\u001b[43mmap_infer\u001b[49m\u001b[43m(\u001b[49m\u001b[43mvalues\u001b[49m\u001b[43m,\u001b[49m\u001b[43m \u001b[49m\u001b[43mmapper\u001b[49m\u001b[43m,\u001b[49m\u001b[43m \u001b[49m\u001b[43mconvert\u001b[49m\u001b[38;5;241;43m=\u001b[39;49m\u001b[43mconvert\u001b[49m\u001b[43m)\u001b[49m\n\u001b[1;32m   1744\u001b[0m \u001b[38;5;28;01melse\u001b[39;00m:\n\u001b[1;32m   1745\u001b[0m     \u001b[38;5;28;01mreturn\u001b[39;00m lib\u001b[38;5;241m.\u001b[39mmap_infer_mask(\n\u001b[1;32m   1746\u001b[0m         values, mapper, mask\u001b[38;5;241m=\u001b[39misna(values)\u001b[38;5;241m.\u001b[39mview(np\u001b[38;5;241m.\u001b[39muint8), convert\u001b[38;5;241m=\u001b[39mconvert\n\u001b[1;32m   1747\u001b[0m     )\n",
      "File \u001b[0;32mlib.pyx:2972\u001b[0m, in \u001b[0;36mpandas._libs.lib.map_infer\u001b[0;34m()\u001b[0m\n",
      "Cell \u001b[0;32mIn[42], line 12\u001b[0m, in \u001b[0;36msplit_vars.<locals>.<lambda>\u001b[0;34m(x)\u001b[0m\n\u001b[1;32m      2\u001b[0m \u001b[38;5;250m\u001b[39m\u001b[38;5;124;03m\"\"\" Split a dataframe where a variable with multiple values is unrolled into multiple rows.\u001b[39;00m\n\u001b[1;32m      3\u001b[0m \u001b[38;5;124;03m\u001b[39;00m\n\u001b[1;32m      4\u001b[0m \u001b[38;5;124;03mArgs:\u001b[39;00m\n\u001b[0;32m   (...)\u001b[0m\n\u001b[1;32m      9\u001b[0m \u001b[38;5;124;03m- separator: Separator in the variable\u001b[39;00m\n\u001b[1;32m     10\u001b[0m \u001b[38;5;124;03m\"\"\"\u001b[39;00m\n\u001b[1;32m     11\u001b[0m temp_varname \u001b[38;5;241m=\u001b[39m \u001b[38;5;124m\"\u001b[39m\u001b[38;5;124m_\u001b[39m\u001b[38;5;132;01m{}\u001b[39;00m\u001b[38;5;124m_temp\u001b[39m\u001b[38;5;124m\"\u001b[39m\u001b[38;5;241m.\u001b[39mformat(varname)\n\u001b[0;32m---> 12\u001b[0m _df[temp_varname] \u001b[38;5;241m=\u001b[39m _df[varname]\u001b[38;5;241m.\u001b[39mapply(\u001b[38;5;28;01mlambda\u001b[39;00m x: \u001b[43mload_json\u001b[49m\u001b[43m(\u001b[49m\u001b[43mx\u001b[49m\u001b[43m)\u001b[49m)\n\u001b[1;32m     13\u001b[0m df1 \u001b[38;5;241m=\u001b[39m _df\u001b[38;5;241m.\u001b[39mexplode(temp_varname)\n\u001b[1;32m     15\u001b[0m \u001b[38;5;66;03m# Generalized function to extract specified properties from a dictionary\u001b[39;00m\n",
      "Cell \u001b[0;32mIn[30], line 17\u001b[0m, in \u001b[0;36mload_json\u001b[0;34m(v)\u001b[0m\n\u001b[1;32m     15\u001b[0m \u001b[38;5;28;01mdef\u001b[39;00m \u001b[38;5;21mload_json\u001b[39m(v):\n\u001b[1;32m     16\u001b[0m     fixed_str \u001b[38;5;241m=\u001b[39m fix_json_string(v)\n\u001b[0;32m---> 17\u001b[0m     \u001b[38;5;28;01mreturn\u001b[39;00m \u001b[43mjson\u001b[49m\u001b[38;5;241;43m.\u001b[39;49m\u001b[43mloads\u001b[49m\u001b[43m(\u001b[49m\u001b[43mfixed_str\u001b[49m\u001b[43m)\u001b[49m\n",
      "File \u001b[0;32m/usr/lib/python3.12/json/__init__.py:346\u001b[0m, in \u001b[0;36mloads\u001b[0;34m(s, cls, object_hook, parse_float, parse_int, parse_constant, object_pairs_hook, **kw)\u001b[0m\n\u001b[1;32m    341\u001b[0m     s \u001b[38;5;241m=\u001b[39m s\u001b[38;5;241m.\u001b[39mdecode(detect_encoding(s), \u001b[38;5;124m'\u001b[39m\u001b[38;5;124msurrogatepass\u001b[39m\u001b[38;5;124m'\u001b[39m)\n\u001b[1;32m    343\u001b[0m \u001b[38;5;28;01mif\u001b[39;00m (\u001b[38;5;28mcls\u001b[39m \u001b[38;5;129;01mis\u001b[39;00m \u001b[38;5;28;01mNone\u001b[39;00m \u001b[38;5;129;01mand\u001b[39;00m object_hook \u001b[38;5;129;01mis\u001b[39;00m \u001b[38;5;28;01mNone\u001b[39;00m \u001b[38;5;129;01mand\u001b[39;00m\n\u001b[1;32m    344\u001b[0m         parse_int \u001b[38;5;129;01mis\u001b[39;00m \u001b[38;5;28;01mNone\u001b[39;00m \u001b[38;5;129;01mand\u001b[39;00m parse_float \u001b[38;5;129;01mis\u001b[39;00m \u001b[38;5;28;01mNone\u001b[39;00m \u001b[38;5;129;01mand\u001b[39;00m\n\u001b[1;32m    345\u001b[0m         parse_constant \u001b[38;5;129;01mis\u001b[39;00m \u001b[38;5;28;01mNone\u001b[39;00m \u001b[38;5;129;01mand\u001b[39;00m object_pairs_hook \u001b[38;5;129;01mis\u001b[39;00m \u001b[38;5;28;01mNone\u001b[39;00m \u001b[38;5;129;01mand\u001b[39;00m \u001b[38;5;129;01mnot\u001b[39;00m kw):\n\u001b[0;32m--> 346\u001b[0m     \u001b[38;5;28;01mreturn\u001b[39;00m \u001b[43m_default_decoder\u001b[49m\u001b[38;5;241;43m.\u001b[39;49m\u001b[43mdecode\u001b[49m\u001b[43m(\u001b[49m\u001b[43ms\u001b[49m\u001b[43m)\u001b[49m\n\u001b[1;32m    347\u001b[0m \u001b[38;5;28;01mif\u001b[39;00m \u001b[38;5;28mcls\u001b[39m \u001b[38;5;129;01mis\u001b[39;00m \u001b[38;5;28;01mNone\u001b[39;00m:\n\u001b[1;32m    348\u001b[0m     \u001b[38;5;28mcls\u001b[39m \u001b[38;5;241m=\u001b[39m JSONDecoder\n",
      "File \u001b[0;32m/usr/lib/python3.12/json/decoder.py:337\u001b[0m, in \u001b[0;36mJSONDecoder.decode\u001b[0;34m(self, s, _w)\u001b[0m\n\u001b[1;32m    332\u001b[0m \u001b[38;5;28;01mdef\u001b[39;00m \u001b[38;5;21mdecode\u001b[39m(\u001b[38;5;28mself\u001b[39m, s, _w\u001b[38;5;241m=\u001b[39mWHITESPACE\u001b[38;5;241m.\u001b[39mmatch):\n\u001b[1;32m    333\u001b[0m \u001b[38;5;250m    \u001b[39m\u001b[38;5;124;03m\"\"\"Return the Python representation of ``s`` (a ``str`` instance\u001b[39;00m\n\u001b[1;32m    334\u001b[0m \u001b[38;5;124;03m    containing a JSON document).\u001b[39;00m\n\u001b[1;32m    335\u001b[0m \n\u001b[1;32m    336\u001b[0m \u001b[38;5;124;03m    \"\"\"\u001b[39;00m\n\u001b[0;32m--> 337\u001b[0m     obj, end \u001b[38;5;241m=\u001b[39m \u001b[38;5;28;43mself\u001b[39;49m\u001b[38;5;241;43m.\u001b[39;49m\u001b[43mraw_decode\u001b[49m\u001b[43m(\u001b[49m\u001b[43ms\u001b[49m\u001b[43m,\u001b[49m\u001b[43m \u001b[49m\u001b[43midx\u001b[49m\u001b[38;5;241;43m=\u001b[39;49m\u001b[43m_w\u001b[49m\u001b[43m(\u001b[49m\u001b[43ms\u001b[49m\u001b[43m,\u001b[49m\u001b[43m \u001b[49m\u001b[38;5;241;43m0\u001b[39;49m\u001b[43m)\u001b[49m\u001b[38;5;241;43m.\u001b[39;49m\u001b[43mend\u001b[49m\u001b[43m(\u001b[49m\u001b[43m)\u001b[49m\u001b[43m)\u001b[49m\n\u001b[1;32m    338\u001b[0m     end \u001b[38;5;241m=\u001b[39m _w(s, end)\u001b[38;5;241m.\u001b[39mend()\n\u001b[1;32m    339\u001b[0m     \u001b[38;5;28;01mif\u001b[39;00m end \u001b[38;5;241m!=\u001b[39m \u001b[38;5;28mlen\u001b[39m(s):\n",
      "File \u001b[0;32m/usr/lib/python3.12/json/decoder.py:353\u001b[0m, in \u001b[0;36mJSONDecoder.raw_decode\u001b[0;34m(self, s, idx)\u001b[0m\n\u001b[1;32m    344\u001b[0m \u001b[38;5;250m\u001b[39m\u001b[38;5;124;03m\"\"\"Decode a JSON document from ``s`` (a ``str`` beginning with\u001b[39;00m\n\u001b[1;32m    345\u001b[0m \u001b[38;5;124;03ma JSON document) and return a 2-tuple of the Python\u001b[39;00m\n\u001b[1;32m    346\u001b[0m \u001b[38;5;124;03mrepresentation and the index in ``s`` where the document ended.\u001b[39;00m\n\u001b[0;32m   (...)\u001b[0m\n\u001b[1;32m    350\u001b[0m \n\u001b[1;32m    351\u001b[0m \u001b[38;5;124;03m\"\"\"\u001b[39;00m\n\u001b[1;32m    352\u001b[0m \u001b[38;5;28;01mtry\u001b[39;00m:\n\u001b[0;32m--> 353\u001b[0m     obj, end \u001b[38;5;241m=\u001b[39m \u001b[38;5;28;43mself\u001b[39;49m\u001b[38;5;241;43m.\u001b[39;49m\u001b[43mscan_once\u001b[49m\u001b[43m(\u001b[49m\u001b[43ms\u001b[49m\u001b[43m,\u001b[49m\u001b[43m \u001b[49m\u001b[43midx\u001b[49m\u001b[43m)\u001b[49m\n\u001b[1;32m    354\u001b[0m \u001b[38;5;28;01mexcept\u001b[39;00m \u001b[38;5;167;01mStopIteration\u001b[39;00m \u001b[38;5;28;01mas\u001b[39;00m err:\n\u001b[1;32m    355\u001b[0m     \u001b[38;5;28;01mraise\u001b[39;00m JSONDecodeError(\u001b[38;5;124m\"\u001b[39m\u001b[38;5;124mExpecting value\u001b[39m\u001b[38;5;124m\"\u001b[39m, s, err\u001b[38;5;241m.\u001b[39mvalue) \u001b[38;5;28;01mfrom\u001b[39;00m \u001b[38;5;28;01mNone\u001b[39;00m\n",
      "\u001b[0;31mJSONDecodeError\u001b[0m: Expecting ',' delimiter: line 1 column 60 (char 59)"
     ]
    }
   ],
   "source": [
    "def quick_load_json(v):\n",
    "    \"\"\" Load JSON with literal eval \"\"\"\n",
    "    if type(v) != str and (v is None or np.isnan(v)):\n",
    "        return []\n",
    "    return ast.literal_eval(v)\n",
    "def split_vars(_df, varname, properties=[\"name\"], new_varnames=[\"_name\"]):\n",
    "    \"\"\" Split a dataframe where a variable with multiple values is unrolled into multiple rows.\n",
    "    \n",
    "    Args:\n",
    "    - df: The DataFrame object\n",
    "    - varname: Current variable name\n",
    "    - properties: Properties to extract\n",
    "    - new_varnames: New variable names that will contain each singular property value\n",
    "    - separator: Separator in the variable\n",
    "    \"\"\"\n",
    "    temp_varname = \"_{}_temp\".format(varname)\n",
    "    _df[temp_varname] = _df[varname].apply(lambda x: quick_load_json(x))\n",
    "    df1 = _df.explode(temp_varname)\n",
    "\n",
    "    # Generalized function to extract specified properties from a dictionary\n",
    "    def extract_properties(data_dict, properties):\n",
    "        if pd.isna(data_dict):\n",
    "            return pd.Series([None] * len(properties))\n",
    "        try:\n",
    "            # Extract the specified properties\n",
    "            return pd.Series([data_dict.get(prop, None) for prop in properties])\n",
    "        except (ValueError, SyntaxError, AttributeError):\n",
    "            return pd.Series([None] * len(properties))\n",
    "            \n",
    "    df1[new_varnames] = df1[temp_varname].apply(extract_properties, properties=properties)\n",
    "    df1.drop(columns=[temp_varname], inplace=True)\n",
    "    _df.drop(columns=[temp_varname], inplace=True)\n",
    "    return df1\n",
    "\n",
    "\n",
    "start_time = time.time()\n",
    "\n",
    "df_production_companies = split_vars(dfc, 'production_companies',\n",
    "                properties=['name'],\n",
    "                new_varnames=['name']\n",
    "               )[['id', 'name']]\n",
    "df_production_companies.rename(columns={'id': 'movie_id'}, inplace=True)\n",
    "\n",
    "literal_eval_time = time.time() - start_time\n",
    "print(\"time: {}\".format(literal_eval_time))"
   ]
  },
  {
   "cell_type": "markdown",
   "id": "59974fe6-d2f6-4e17-ac9f-a3f0acffacfc",
   "metadata": {},
   "source": [
    "### Test"
   ]
  },
  {
   "cell_type": "code",
   "execution_count": null,
   "id": "b07f8e9c-ffdd-4474-b3e7-a6c95f5e7d90",
   "metadata": {},
   "outputs": [],
   "source": [
    "df_production_companies"
   ]
  },
  {
   "cell_type": "markdown",
   "id": "f195306d-63cd-4138-9b5a-c5dd778a5b73",
   "metadata": {},
   "source": [
    "## 7. `production_countries` need to be unrolled. \"iso_3166_1\" and \"name\" properties should be used for each `production_country`."
   ]
  },
  {
   "cell_type": "code",
   "execution_count": null,
   "id": "24d1b2c1-c103-4e92-8a35-1552fe13f277",
   "metadata": {},
   "outputs": [],
   "source": [
    "dfc.loc[0]['production_countries']"
   ]
  },
  {
   "cell_type": "code",
   "execution_count": null,
   "id": "27f2a8cb-ee13-4b08-8be3-9654baa48e4d",
   "metadata": {},
   "outputs": [],
   "source": [
    "test_str = \"[{'iso_3166_1': 'US', 'name': 'United States of America'}, {'iso_3166_1': 'CA', 'name': 'Canada'}, {'iso_3166_1': 'LU', 'name': 'Luxembourg'}]\"\n",
    "ast.literal_eval(test_str)"
   ]
  },
  {
   "cell_type": "code",
   "execution_count": null,
   "id": "cdd8c6bb-b68f-4f42-a113-3a0a2c0cc5dd",
   "metadata": {},
   "outputs": [],
   "source": [
    "test_str = \"[{'iso_3166_1': 'US', 'name': None}, {'iso_3166_1': 'CA', 'name': 'Canada'}, {'iso_3166_1': 'LU', 'name': 'Luxembourg'}]\"\n",
    "ast.literal_eval(test_str)"
   ]
  },
  {
   "cell_type": "code",
   "execution_count": null,
   "id": "ca67ad96-a358-4a79-ad5e-ec9ea5ea44c0",
   "metadata": {},
   "outputs": [],
   "source": [
    "# Split the var\n",
    "start_time = time.time()\n",
    "df_production_countries = split_vars(dfc, 'production_countries',\n",
    "                properties=['iso_3166_1', 'name'],\n",
    "                new_varnames=['iso_3166_1', 'name']\n",
    "               )[['id', 'iso_3166_1', 'name']]\n",
    "df_production_countries.rename(columns={'id': 'movie_id'}, inplace=True)\n",
    "\n",
    "literal_eval_time = time.time() - start_time\n",
    "print(\"time: {}\".format(literal_eval_time))"
   ]
  },
  {
   "cell_type": "markdown",
   "id": "8b1b5f53-dc6e-42d2-b156-289e99d1eea6",
   "metadata": {},
   "source": [
    "### Test\n",
    "Let's see some produced values."
   ]
  },
  {
   "cell_type": "code",
   "execution_count": null,
   "id": "dfcc0d3d-781d-4939-96d2-3c1faeac8243",
   "metadata": {
    "scrolled": true
   },
   "outputs": [],
   "source": [
    "df_production_countries.iloc[20:30]"
   ]
  },
  {
   "cell_type": "markdown",
   "id": "346257a1-ea2f-4ccb-99df-e9a0f86ed227",
   "metadata": {},
   "source": [
    "## 8. `spoken_languages` need to be unrolled. \"iso_639_1\" and \"name\" properties should be used for each `spoken_language`."
   ]
  },
  {
   "cell_type": "code",
   "execution_count": null,
   "id": "98bd3ebc-d9fb-4680-9806-885bd9275d5c",
   "metadata": {},
   "outputs": [],
   "source": [
    "start_time = time.time()\n",
    "df_spoken_languages = split_vars(dfc, 'spoken_languages',\n",
    "                properties=['iso_639_1', 'name'],\n",
    "                new_varnames=['iso_639_1', 'name']\n",
    "               )[['id', 'iso_639_1', 'name']]\n",
    "df_spoken_languages.rename(columns={'id': 'movie_id'}, inplace=True)\n",
    "\n",
    "literal_eval_time = time.time() - start_time\n",
    "print(\"time: {}\".format(literal_eval_time))"
   ]
  },
  {
   "cell_type": "markdown",
   "id": "b1401783-552a-47db-bcc2-fd919e22a03c",
   "metadata": {},
   "source": [
    "### Test"
   ]
  },
  {
   "cell_type": "code",
   "execution_count": null,
   "id": "9ab06e80-6fc1-40df-b259-1c18e83a27fe",
   "metadata": {},
   "outputs": [],
   "source": [
    "df_spoken_languages.iloc[20:30]"
   ]
  },
  {
   "cell_type": "markdown",
   "id": "945c63da-1f5b-4ff5-b3c7-fed87b07bbac",
   "metadata": {},
   "source": [
    "## 9. Drop unneeded columns"
   ]
  },
  {
   "cell_type": "code",
   "execution_count": null,
   "id": "b9716d90-0e88-4ba1-8193-9dd431aa1b38",
   "metadata": {},
   "outputs": [],
   "source": [
    "dfc.drop(columns=['genres', 'production_companies', 'production_countries', 'spoken_languages'], inplace=True)"
   ]
  },
  {
   "cell_type": "markdown",
   "id": "050e5523-e654-4ad7-b0e6-2f14bb0338ad",
   "metadata": {},
   "source": [
    "# Save the final dataset"
   ]
  },
  {
   "cell_type": "code",
   "execution_count": null,
   "id": "73fd826e-eecb-4cd8-9017-58ef80fa2557",
   "metadata": {},
   "outputs": [],
   "source": [
    "dfc.to_csv('movies_cleaned/movies_metadata.csv', index=False)\n",
    "df_genres.to_csv('movies_cleaned/genres.csv', index=False)\n",
    "df_production_companies.to_csv('movies_cleaned/production_companies.csv', index=False)\n",
    "df_spoken_languages.to_csv('movies_cleaned/spoken_languages.csv', index=False)"
   ]
  },
  {
   "cell_type": "markdown",
   "id": "0d7a4d06-0768-4fcf-a503-cff1f79d828a",
   "metadata": {},
   "source": [
    "# Appendix 1. Flattening a Table with Multiple Columns Containing Multiple Values\n",
    "\n",
    "The example below demonstrates how to flatten a table with multiple columns that contain multiple values. The goal is to avoid creating a Cartesian product of the columns. We provide two approaches: a straightforward looping approach and a more efficient vectorized approach.\n",
    "\n",
    "**However, flattening columns still present another issue: We can no longer accurately calculate aggregated numeric columns. Therefore, we decided to create relational tables instead.**\n",
    "\n",
    "## Looping Approach (Slower)\n",
    "\n",
    "The first code block uses the straightforward looping approach, which, while intuitive, can be slow for large datasets."
   ]
  },
  {
   "cell_type": "code",
   "execution_count": null,
   "id": "48efc0c2-e898-472b-85f2-16b90df22f92",
   "metadata": {},
   "outputs": [],
   "source": [
    "# Example DataFrame with multiple fields having multiple values\n",
    "_df = pd.DataFrame({\n",
    "    'ID': [1, 2, 3],\n",
    "    'Name': ['Alice', 'Bob', 'Charlie'],\n",
    "    'Hobbies': [['Reading', 'Swimming'], ['Cycling'], ['Running', 'Cycling', 'Reading']],\n",
    "    'Skills': [['Python', 'SQL'], ['Excel'], ['Python', 'Tableau']]\n",
    "})\n",
    "\n",
    "# Flatten the DataFrame\n",
    "flattened_data = []\n",
    "\n",
    "for _, row in _df.iterrows():\n",
    "    max_len = max(len(row['Hobbies']), len(row['Skills']))\n",
    "    hobbies = row['Hobbies'] + [None] * (max_len - len(row['Hobbies']))\n",
    "    skills = row['Skills'] + [None] * (max_len - len(row['Skills']))\n",
    "    \n",
    "    for hobby, skill in zip(hobbies, skills):\n",
    "        flattened_data.append([row['ID'], row['Name'], hobby, skill])\n",
    "\n",
    "# Create a new flattened DataFrame\n",
    "flattened_df = pd.DataFrame(flattened_data, columns=['ID', 'Name', 'Hobby', 'Skill'])\n",
    "\n",
    "flattened_df"
   ]
  },
  {
   "cell_type": "markdown",
   "id": "bc41f205-59e0-4e43-b30e-70359706aed6",
   "metadata": {},
   "source": [
    "## Vectorized Approach (Faster)\n",
    "The second code block demonstrates a more efficient, vectorized approach that avoids the pitfalls of the Cartesian product while maintaining performance."
   ]
  },
  {
   "cell_type": "code",
   "execution_count": null,
   "id": "dba1dc32-3ba8-4eeb-b367-64ca0b20d77d",
   "metadata": {
    "scrolled": true
   },
   "outputs": [],
   "source": [
    "# Example DataFrame with multiple fields having multiple values\n",
    "_df = pd.DataFrame({\n",
    "    'ID': [1, 2, 3],\n",
    "    'Name': ['Alice', 'Bob', 'Charlie'],\n",
    "    'Hobbies': [['Reading', 'Swimming'], ['Cycling'], ['Running', 'Cycling', 'Reading']],\n",
    "    'Skills': [['Python', 'SQL'], ['Excel'], ['Python', 'Tableau']]\n",
    "})\n",
    "\n",
    "# Explode each column individually\n",
    "hobbies_exploded = _df.explode('Hobbies').reset_index(drop=True)\n",
    "skills_exploded = _df.explode('Skills').reset_index(drop=True)\n",
    "\n",
    "# Ensure the length of both exploded dataframes match\n",
    "max_len = max(len(hobbies_exploded), len(skills_exploded))\n",
    "hobbies_exploded = hobbies_exploded.reindex(range(max_len)).reset_index(drop=True)\n",
    "skills_exploded = skills_exploded.reindex(range(max_len)).reset_index(drop=True)\n",
    "\n",
    "# Combine the exploded columns\n",
    "flattened_df = hobbies_exploded[['ID', 'Name', 'Hobbies']].combine_first(skills_exploded[['ID', 'Name', 'Skills']])\n",
    "\n",
    "# Rename columns for clarity\n",
    "flattened_df = flattened_df.rename(columns={'Hobbies': 'Hobby', 'Skills': 'Skill'})\n",
    "\n",
    "flattened_df"
   ]
  },
  {
   "cell_type": "code",
   "execution_count": null,
   "id": "5cbe0b91-2ca8-4f39-be9a-b2ae98bd5dc0",
   "metadata": {},
   "outputs": [],
   "source": []
  },
  {
   "cell_type": "code",
   "execution_count": null,
   "id": "f3497c90-6374-42b1-b3e1-77b034e022cc",
   "metadata": {},
   "outputs": [],
   "source": []
  },
  {
   "cell_type": "code",
   "execution_count": null,
   "id": "23d1b3f0-003b-459b-bae5-2d36b8eeb631",
   "metadata": {},
   "outputs": [],
   "source": []
  },
  {
   "cell_type": "code",
   "execution_count": null,
   "id": "04998ef7-a1f0-4a72-934e-aee5f58b0f05",
   "metadata": {},
   "outputs": [],
   "source": []
  }
 ],
 "metadata": {
  "kernelspec": {
   "display_name": "Python 3 (ipykernel)",
   "language": "python",
   "name": "python3"
  },
  "language_info": {
   "codemirror_mode": {
    "name": "ipython",
    "version": 3
   },
   "file_extension": ".py",
   "mimetype": "text/x-python",
   "name": "python",
   "nbconvert_exporter": "python",
   "pygments_lexer": "ipython3",
   "version": "3.12.4"
  }
 },
 "nbformat": 4,
 "nbformat_minor": 5
}
