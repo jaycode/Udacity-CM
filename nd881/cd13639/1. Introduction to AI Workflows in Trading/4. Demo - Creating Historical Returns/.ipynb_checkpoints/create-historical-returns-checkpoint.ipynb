{
 "cells": [
  {
   "cell_type": "code",
   "execution_count": 1,
   "id": "915f2167-7b9d-4e74-b47f-3c71589e48d9",
   "metadata": {},
   "outputs": [],
   "source": [
    "import yfinance as yf"
   ]
  },
  {
   "cell_type": "code",
   "execution_count": 5,
   "id": "42401d92-5dc6-46a4-a0f2-208e429b585d",
   "metadata": {},
   "outputs": [
    {
     "name": "stderr",
     "output_type": "stream",
     "text": [
      "[*********************100%***********************]  1 of 1 completed"
     ]
    },
    {
     "name": "stdout",
     "output_type": "stream",
     "text": [
      "Price            Close        High         Low        Open    Volume\n",
      "Ticker            AAPL        AAPL        AAPL        AAPL      AAPL\n",
      "Date                                                                \n",
      "2024-01-02  184.532074  187.315366  182.792518  186.033057  82488700\n",
      "2024-01-03  183.150375  184.770652  182.335262  183.120556  58414500\n",
      "2024-01-04  180.824356  181.997307  179.800504  181.062914  71983600\n",
      "2024-01-05  180.098709  181.669281  179.094742  180.903888  62303300\n",
      "2024-01-08  184.452560  184.492330  180.416793  181.003268  59144500\n"
     ]
    },
    {
     "name": "stderr",
     "output_type": "stream",
     "text": [
      "\n"
     ]
    }
   ],
   "source": [
    "tickers = \"AAPL\"\n",
    "\n",
    "stock_data = yf.download(ticker, start=\"2024-01-01\", end=\"2025-01-01\")\n",
    "\n",
    "print(stock_data.head())"
   ]
  }
 ],
 "metadata": {
  "kernelspec": {
   "display_name": "Python 3 (ipykernel)",
   "language": "python",
   "name": "python3"
  },
  "language_info": {
   "codemirror_mode": {
    "name": "ipython",
    "version": 3
   },
   "file_extension": ".py",
   "mimetype": "text/x-python",
   "name": "python",
   "nbconvert_exporter": "python",
   "pygments_lexer": "ipython3",
   "version": "3.13.1"
  }
 },
 "nbformat": 4,
 "nbformat_minor": 5
}
