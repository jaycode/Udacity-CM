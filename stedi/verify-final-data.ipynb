{
 "cells": [
  {
   "cell_type": "markdown",
   "id": "1c2ddef4-7d55-41a6-96a5-c75e32bf6ab3",
   "metadata": {},
   "source": [
    "# Verify Tables in the STEDI Human Balance Analytics Project\n",
    "\n",
    "In this notebook, we are going to verify the number of rows in all stages of the tables in this project.\n",
    "\n",
    "The rubric requires you to have the tables at various stages to have the following number of rows:\n",
    "\n",
    "- Landing\n",
    "  - Customer: 956\n",
    "  - Accelerometer: 81273\n",
    "  - Step Trainer: 28680\n",
    "- Trusted\n",
    "  - Customer: 482\n",
    "  - Accelerometer: 40981\n",
    "  - Step Trainer: 14460\n",
    "- Curated\n",
    "  - Customer: 482\n",
    "  - Machine Learning: 38403\n",
    " \n",
    "Let's now see if the numbers of rows are correct when combined via pandas."
   ]
  },
  {
   "cell_type": "code",
   "execution_count": 12,
   "id": "af27d81c-b73b-4036-b4d2-f3f17b4e6ab0",
   "metadata": {},
   "outputs": [],
   "source": [
    "import os\n",
    "import pandas as pd\n",
    "import numpy as np\n",
    "\n",
    "cust_dir = \"starter/customer/landing\"\n",
    "acc_dir = \"starter/accelerometer/landing\"\n",
    "st_dir = \"starter/step_trainer/landing\"\n",
    "\n",
    "def load(path):\n",
    "    df = pd.DataFrame()'int64'\n",
    "    for filename in os.listdir(path):\n",
    "        if filename.endswith('.json'):\n",
    "            file_path = os.path.join(path, filename)\n",
    "            df_ = pd.read_json(file_path, lines=True)\n",
    "            df = pd.concat([df, df_], ignore_index=True)\n",
    "    return df\n",
    "cdf = load(cust_dir)\n",
    "adf = load(acc_dir)\n",
    "sdf = load(st_dir)"
   ]
  },
  {
   "cell_type": "code",
   "execution_count": 2,
   "id": "3e89868f-0021-46bf-bf88-a5c8fcdb6c82",
   "metadata": {},
   "outputs": [
    {
     "data": {
      "text/html": [
       "<div>\n",
       "<style scoped>\n",
       "    .dataframe tbody tr th:only-of-type {\n",
       "        vertical-align: middle;\n",
       "    }\n",
       "\n",
       "    .dataframe tbody tr th {\n",
       "        vertical-align: top;\n",
       "    }\n",
       "\n",
       "    .dataframe thead th {\n",
       "        text-align: right;\n",
       "    }\n",
       "</style>\n",
       "<table border=\"1\" class=\"dataframe\">\n",
       "  <thead>\n",
       "    <tr style=\"text-align: right;\">\n",
       "      <th></th>\n",
       "      <th>user</th>\n",
       "      <th>timestamp</th>\n",
       "      <th>x</th>\n",
       "      <th>y</th>\n",
       "      <th>z</th>\n",
       "    </tr>\n",
       "  </thead>\n",
       "  <tbody>\n",
       "    <tr>\n",
       "      <th>0</th>\n",
       "      <td>Craig.Wu@test.com</td>\n",
       "      <td>2022-06-18 15:00:55.341</td>\n",
       "      <td>1</td>\n",
       "      <td>1</td>\n",
       "      <td>0</td>\n",
       "    </tr>\n",
       "    <tr>\n",
       "      <th>1</th>\n",
       "      <td>Craig.Wu@test.com</td>\n",
       "      <td>2022-06-18 15:00:34.143</td>\n",
       "      <td>0</td>\n",
       "      <td>-1</td>\n",
       "      <td>-1</td>\n",
       "    </tr>\n",
       "    <tr>\n",
       "      <th>2</th>\n",
       "      <td>Craig.Wu@test.com</td>\n",
       "      <td>2022-06-18 15:00:12.945</td>\n",
       "      <td>1</td>\n",
       "      <td>0</td>\n",
       "      <td>0</td>\n",
       "    </tr>\n",
       "    <tr>\n",
       "      <th>3</th>\n",
       "      <td>Craig.Staples@test.com</td>\n",
       "      <td>2022-06-18 15:01:02.272</td>\n",
       "      <td>-1</td>\n",
       "      <td>0</td>\n",
       "      <td>0</td>\n",
       "    </tr>\n",
       "    <tr>\n",
       "      <th>4</th>\n",
       "      <td>Craig.Staples@test.com</td>\n",
       "      <td>2022-06-18 15:00:59.006</td>\n",
       "      <td>-1</td>\n",
       "      <td>0</td>\n",
       "      <td>0</td>\n",
       "    </tr>\n",
       "  </tbody>\n",
       "</table>\n",
       "</div>"
      ],
      "text/plain": [
       "                     user               timestamp  x  y  z\n",
       "0       Craig.Wu@test.com 2022-06-18 15:00:55.341  1  1  0\n",
       "1       Craig.Wu@test.com 2022-06-18 15:00:34.143  0 -1 -1\n",
       "2       Craig.Wu@test.com 2022-06-18 15:00:12.945  1  0  0\n",
       "3  Craig.Staples@test.com 2022-06-18 15:01:02.272 -1  0  0\n",
       "4  Craig.Staples@test.com 2022-06-18 15:00:59.006 -1  0  0"
      ]
     },
     "metadata": {},
     "output_type": "display_data"
    },
    {
     "name": "stdout",
     "output_type": "stream",
     "text": [
      "<class 'pandas.core.frame.DataFrame'>\n",
      "RangeIndex: 81273 entries, 0 to 81272\n",
      "Data columns (total 5 columns):\n",
      " #   Column     Non-Null Count  Dtype         \n",
      "---  ------     --------------  -----         \n",
      " 0   user       81273 non-null  object        \n",
      " 1   timestamp  81273 non-null  datetime64[ns]\n",
      " 2   x          81273 non-null  int64         \n",
      " 3   y          81273 non-null  int64         \n",
      " 4   z          81273 non-null  int64         \n",
      "dtypes: datetime64[ns](1), int64(3), object(1)\n",
      "memory usage: 3.1+ MB\n"
     ]
    }
   ],
   "source": [
    "display(adf.head())\n",
    "adf.info()"
   ]
  },
  {
   "cell_type": "code",
   "execution_count": 3,
   "id": "887125e6-5088-49c5-aa9c-5957c112a7a3",
   "metadata": {},
   "outputs": [
    {
     "name": "stdout",
     "output_type": "stream",
     "text": [
      "Number of customer landing rows: 956\n",
      "Number of accelerometer landing rows: 81273\n",
      "Number of step trainer landing rows: 28680\n"
     ]
    }
   ],
   "source": [
    "print(\"Number of customer landing rows:\", cdf.shape[0])\n",
    "print(\"Number of accelerometer landing rows:\", adf.shape[0])\n",
    "print(\"Number of step trainer landing rows:\", sdf.shape[0])"
   ]
  },
  {
   "cell_type": "code",
   "execution_count": 4,
   "id": "ec0b1ae9-edfd-40a9-9865-eaff851103af",
   "metadata": {},
   "outputs": [
    {
     "name": "stdout",
     "output_type": "stream",
     "text": [
      "Number of customer trusted rows: 482\n"
     ]
    }
   ],
   "source": [
    "# customer trusted\n",
    "cdf_t = cdf[~cdf['shareWithResearchAsOfDate'].isna()]\n",
    "print(\"Number of customer trusted rows:\", cdf_t.shape[0])"
   ]
  },
  {
   "cell_type": "code",
   "execution_count": 5,
   "id": "236e3a3d-85b5-4129-b217-86e66395e160",
   "metadata": {},
   "outputs": [
    {
     "name": "stdout",
     "output_type": "stream",
     "text": [
      "Number of accelerometer trusted rows: 40981\n"
     ]
    }
   ],
   "source": [
    "# accelerometer trusted\n",
    "adf_t = adf.merge(cdf_t, how='inner', left_on='user', right_on='email')\n",
    "adf_t = adf_t[adf.columns]\n",
    "print(\"Number of accelerometer trusted rows:\", adf_t.shape[0])"
   ]
  },
  {
   "cell_type": "code",
   "execution_count": 6,
   "id": "f45a93c1-4393-4d67-aac1-dfadf55fd679",
   "metadata": {},
   "outputs": [
    {
     "name": "stdout",
     "output_type": "stream",
     "text": [
      "Number of customer curated rows: 482\n"
     ]
    }
   ],
   "source": [
    "# customer curated\n",
    "cdf_c = cdf_t.merge(adf_t, how='inner', left_on='email', right_on='user')\n",
    "cdf_c = cdf_c[cdf.columns].drop_duplicates()\n",
    "print(\"Number of customer curated rows:\", cdf_c.shape[0])"
   ]
  },
  {
   "cell_type": "code",
   "execution_count": 7,
   "id": "1e9e004e-64cc-4731-bf6c-1e9ba42fa388",
   "metadata": {},
   "outputs": [
    {
     "name": "stdout",
     "output_type": "stream",
     "text": [
      "Number of step trainer trusted rows: 14460\n"
     ]
    }
   ],
   "source": [
    "# step trainer trusted\n",
    "sdf_t = sdf.merge(cdf_c, how='inner', left_on='serialNumber', right_on='serialNumber')\n",
    "sdf_t = sdf_t[sdf.columns]\n",
    "sdf_t = sdf_t.drop_duplicates()\n",
    "print(\"Number of step trainer trusted rows:\", sdf_t.shape[0])"
   ]
  },
  {
   "cell_type": "code",
   "execution_count": 23,
   "id": "77d08694-f886-47a3-ba54-81acaa5e193e",
   "metadata": {},
   "outputs": [
    {
     "name": "stdout",
     "output_type": "stream",
     "text": [
      "Number of accelerometer trusted rows: 40981\n"
     ]
    }
   ],
   "source": [
    "adf_t = adf.merge(cdf_t, how='inner', left_on='user', right_on='email')\n",
    "adf_t = adf_t[adf.columns]\n",
    "print(\"Number of accelerometer trusted rows:\", adf_t.shape[0])"
   ]
  },
  {
   "cell_type": "code",
   "execution_count": 24,
   "id": "5377167e-c3ca-457c-8d10-f3c70c82e5bb",
   "metadata": {},
   "outputs": [
    {
     "name": "stdout",
     "output_type": "stream",
     "text": [
      "Number of machine learning curated rows: 38403\n"
     ]
    }
   ],
   "source": [
    "# machine learning curated\n",
    "adf_t['timestamp1'] = (adf_t['timestamp'].astype(np.int64)/1000000).astype(np.int64)\n",
    "mdf = sdf_t.merge(adf_t, how='inner', left_on='sensorReadingTime', right_on='timestamp1')\n",
    "print(\"Number of machine learning curated rows:\", mdf.shape[0])"
   ]
  },
  {
   "cell_type": "code",
   "execution_count": 25,
   "id": "ebad7563-3d52-402b-baca-e358f40863b8",
   "metadata": {},
   "outputs": [
    {
     "name": "stdout",
     "output_type": "stream",
     "text": [
      "<class 'pandas.core.frame.DataFrame'>\n",
      "RangeIndex: 14460 entries, 0 to 14459\n",
      "Data columns (total 3 columns):\n",
      " #   Column              Non-Null Count  Dtype \n",
      "---  ------              --------------  ----- \n",
      " 0   sensorReadingTime   14460 non-null  int64 \n",
      " 1   serialNumber        14460 non-null  object\n",
      " 2   distanceFromObject  14460 non-null  int64 \n",
      "dtypes: int64(2), object(1)\n",
      "memory usage: 339.0+ KB\n"
     ]
    }
   ],
   "source": [
    "sdf_t.info()"
   ]
  },
  {
   "cell_type": "code",
   "execution_count": 26,
   "id": "2432e111-d3db-48ae-a9bc-4159f0c36901",
   "metadata": {},
   "outputs": [
    {
     "name": "stdout",
     "output_type": "stream",
     "text": [
      "<class 'pandas.core.frame.DataFrame'>\n",
      "RangeIndex: 40981 entries, 0 to 40980\n",
      "Data columns (total 6 columns):\n",
      " #   Column      Non-Null Count  Dtype         \n",
      "---  ------      --------------  -----         \n",
      " 0   user        40981 non-null  object        \n",
      " 1   timestamp   40981 non-null  datetime64[ns]\n",
      " 2   x           40981 non-null  int64         \n",
      " 3   y           40981 non-null  int64         \n",
      " 4   z           40981 non-null  int64         \n",
      " 5   timestamp1  40981 non-null  int64         \n",
      "dtypes: datetime64[ns](1), int64(4), object(1)\n",
      "memory usage: 1.9+ MB\n"
     ]
    }
   ],
   "source": [
    "adf_t.info()"
   ]
  },
  {
   "cell_type": "code",
   "execution_count": 27,
   "id": "6fe5e3d4-2ff7-4fb7-9f8d-4050551a7b2e",
   "metadata": {},
   "outputs": [
    {
     "name": "stdout",
     "output_type": "stream",
     "text": [
      "<class 'pandas.core.frame.DataFrame'>\n",
      "Index: 14005 entries, 0 to 40971\n",
      "Data columns (total 6 columns):\n",
      " #   Column      Non-Null Count  Dtype         \n",
      "---  ------      --------------  -----         \n",
      " 0   user        14005 non-null  object        \n",
      " 1   timestamp   14005 non-null  datetime64[ns]\n",
      " 2   x           14005 non-null  int64         \n",
      " 3   y           14005 non-null  int64         \n",
      " 4   z           14005 non-null  int64         \n",
      " 5   timestamp1  14005 non-null  int64         \n",
      "dtypes: datetime64[ns](1), int64(4), object(1)\n",
      "memory usage: 765.9+ KB\n"
     ]
    }
   ],
   "source": [
    "adf_t.drop_duplicates('timestamp').info()"
   ]
  },
  {
   "cell_type": "code",
   "execution_count": 29,
   "id": "cd6c2668-d2d5-4707-b844-b5cf0945a402",
   "metadata": {},
   "outputs": [
    {
     "name": "stdout",
     "output_type": "stream",
     "text": [
      "<class 'pandas.core.frame.DataFrame'>\n",
      "Index: 14005 entries, 0 to 14459\n",
      "Data columns (total 3 columns):\n",
      " #   Column              Non-Null Count  Dtype \n",
      "---  ------              --------------  ----- \n",
      " 0   sensorReadingTime   14005 non-null  int64 \n",
      " 1   serialNumber        14005 non-null  object\n",
      " 2   distanceFromObject  14005 non-null  int64 \n",
      "dtypes: int64(2), object(1)\n",
      "memory usage: 437.7+ KB\n"
     ]
    }
   ],
   "source": [
    "sdf_t.drop_duplicates('sensorReadingTime').info()"
   ]
  },
  {
   "cell_type": "code",
   "execution_count": 30,
   "id": "2e11ae69-abbd-41d1-93d5-361bb4c1ff31",
   "metadata": {},
   "outputs": [
    {
     "data": {
      "text/html": [
       "<div>\n",
       "<style scoped>\n",
       "    .dataframe tbody tr th:only-of-type {\n",
       "        vertical-align: middle;\n",
       "    }\n",
       "\n",
       "    .dataframe tbody tr th {\n",
       "        vertical-align: top;\n",
       "    }\n",
       "\n",
       "    .dataframe thead th {\n",
       "        text-align: right;\n",
       "    }\n",
       "</style>\n",
       "<table border=\"1\" class=\"dataframe\">\n",
       "  <thead>\n",
       "    <tr style=\"text-align: right;\">\n",
       "      <th></th>\n",
       "      <th>sensorReadingTime</th>\n",
       "      <th>serialNumber</th>\n",
       "      <th>distanceFromObject</th>\n",
       "      <th>user</th>\n",
       "      <th>timestamp</th>\n",
       "      <th>x</th>\n",
       "      <th>y</th>\n",
       "      <th>z</th>\n",
       "      <th>timestamp1</th>\n",
       "    </tr>\n",
       "  </thead>\n",
       "  <tbody>\n",
       "    <tr>\n",
       "      <th>0</th>\n",
       "      <td>1655564172120</td>\n",
       "      <td>98ec1419-44b7-4016-a584-777f96115cce</td>\n",
       "      <td>246</td>\n",
       "      <td>Ben.Davis@test.com</td>\n",
       "      <td>2022-06-18 14:56:12.120</td>\n",
       "      <td>1</td>\n",
       "      <td>0</td>\n",
       "      <td>-1</td>\n",
       "      <td>1655564172120</td>\n",
       "    </tr>\n",
       "    <tr>\n",
       "      <th>1</th>\n",
       "      <td>1655564157056</td>\n",
       "      <td>98ec1419-44b7-4016-a584-777f96115cce</td>\n",
       "      <td>230</td>\n",
       "      <td>Ben.Davis@test.com</td>\n",
       "      <td>2022-06-18 14:55:57.056</td>\n",
       "      <td>1</td>\n",
       "      <td>-1</td>\n",
       "      <td>-1</td>\n",
       "      <td>1655564157056</td>\n",
       "    </tr>\n",
       "    <tr>\n",
       "      <th>2</th>\n",
       "      <td>1655564115630</td>\n",
       "      <td>98ec1419-44b7-4016-a584-777f96115cce</td>\n",
       "      <td>237</td>\n",
       "      <td>Ben.Davis@test.com</td>\n",
       "      <td>2022-06-18 14:55:15.630</td>\n",
       "      <td>0</td>\n",
       "      <td>0</td>\n",
       "      <td>0</td>\n",
       "      <td>1655564115630</td>\n",
       "    </tr>\n",
       "    <tr>\n",
       "      <th>3</th>\n",
       "      <td>1655564209780</td>\n",
       "      <td>98ec1419-44b7-4016-a584-777f96115cce</td>\n",
       "      <td>273</td>\n",
       "      <td>Ben.Davis@test.com</td>\n",
       "      <td>2022-06-18 14:56:49.780</td>\n",
       "      <td>1</td>\n",
       "      <td>-1</td>\n",
       "      <td>-1</td>\n",
       "      <td>1655564209780</td>\n",
       "    </tr>\n",
       "    <tr>\n",
       "      <th>4</th>\n",
       "      <td>1655564202248</td>\n",
       "      <td>98ec1419-44b7-4016-a584-777f96115cce</td>\n",
       "      <td>255</td>\n",
       "      <td>Ben.Davis@test.com</td>\n",
       "      <td>2022-06-18 14:56:42.248</td>\n",
       "      <td>1</td>\n",
       "      <td>0</td>\n",
       "      <td>-1</td>\n",
       "      <td>1655564202248</td>\n",
       "    </tr>\n",
       "    <tr>\n",
       "      <th>...</th>\n",
       "      <td>...</td>\n",
       "      <td>...</td>\n",
       "      <td>...</td>\n",
       "      <td>...</td>\n",
       "      <td>...</td>\n",
       "      <td>...</td>\n",
       "      <td>...</td>\n",
       "      <td>...</td>\n",
       "      <td>...</td>\n",
       "    </tr>\n",
       "    <tr>\n",
       "      <th>12314</th>\n",
       "      <td>1655564417351</td>\n",
       "      <td>de5eb3c3-0c41-41f4-b2d3-1ced6c233327</td>\n",
       "      <td>219</td>\n",
       "      <td>Jacob.Davis@test.com</td>\n",
       "      <td>2022-06-18 15:00:17.351</td>\n",
       "      <td>0</td>\n",
       "      <td>1</td>\n",
       "      <td>-1</td>\n",
       "      <td>1655564417351</td>\n",
       "    </tr>\n",
       "    <tr>\n",
       "      <th>12315</th>\n",
       "      <td>1655564485244</td>\n",
       "      <td>de5eb3c3-0c41-41f4-b2d3-1ced6c233327</td>\n",
       "      <td>282</td>\n",
       "      <td>Jacob.Davis@test.com</td>\n",
       "      <td>2022-06-18 15:01:25.244</td>\n",
       "      <td>-1</td>\n",
       "      <td>-1</td>\n",
       "      <td>-1</td>\n",
       "      <td>1655564485244</td>\n",
       "    </tr>\n",
       "    <tr>\n",
       "      <th>12316</th>\n",
       "      <td>1655564436749</td>\n",
       "      <td>de5eb3c3-0c41-41f4-b2d3-1ced6c233327</td>\n",
       "      <td>266</td>\n",
       "      <td>Jacob.Davis@test.com</td>\n",
       "      <td>2022-06-18 15:00:36.749</td>\n",
       "      <td>1</td>\n",
       "      <td>1</td>\n",
       "      <td>0</td>\n",
       "      <td>1655564436749</td>\n",
       "    </tr>\n",
       "    <tr>\n",
       "      <th>12317</th>\n",
       "      <td>1655564475545</td>\n",
       "      <td>de5eb3c3-0c41-41f4-b2d3-1ced6c233327</td>\n",
       "      <td>219</td>\n",
       "      <td>Jacob.Davis@test.com</td>\n",
       "      <td>2022-06-18 15:01:15.545</td>\n",
       "      <td>1</td>\n",
       "      <td>1</td>\n",
       "      <td>0</td>\n",
       "      <td>1655564475545</td>\n",
       "    </tr>\n",
       "    <tr>\n",
       "      <th>12318</th>\n",
       "      <td>1655564462613</td>\n",
       "      <td>de5eb3c3-0c41-41f4-b2d3-1ced6c233327</td>\n",
       "      <td>223</td>\n",
       "      <td>Jacob.Davis@test.com</td>\n",
       "      <td>2022-06-18 15:01:02.613</td>\n",
       "      <td>0</td>\n",
       "      <td>1</td>\n",
       "      <td>0</td>\n",
       "      <td>1655564462613</td>\n",
       "    </tr>\n",
       "  </tbody>\n",
       "</table>\n",
       "<p>12319 rows × 9 columns</p>\n",
       "</div>"
      ],
      "text/plain": [
       "       sensorReadingTime                          serialNumber  \\\n",
       "0          1655564172120  98ec1419-44b7-4016-a584-777f96115cce   \n",
       "1          1655564157056  98ec1419-44b7-4016-a584-777f96115cce   \n",
       "2          1655564115630  98ec1419-44b7-4016-a584-777f96115cce   \n",
       "3          1655564209780  98ec1419-44b7-4016-a584-777f96115cce   \n",
       "4          1655564202248  98ec1419-44b7-4016-a584-777f96115cce   \n",
       "...                  ...                                   ...   \n",
       "12314      1655564417351  de5eb3c3-0c41-41f4-b2d3-1ced6c233327   \n",
       "12315      1655564485244  de5eb3c3-0c41-41f4-b2d3-1ced6c233327   \n",
       "12316      1655564436749  de5eb3c3-0c41-41f4-b2d3-1ced6c233327   \n",
       "12317      1655564475545  de5eb3c3-0c41-41f4-b2d3-1ced6c233327   \n",
       "12318      1655564462613  de5eb3c3-0c41-41f4-b2d3-1ced6c233327   \n",
       "\n",
       "       distanceFromObject                  user               timestamp  x  y  \\\n",
       "0                     246    Ben.Davis@test.com 2022-06-18 14:56:12.120  1  0   \n",
       "1                     230    Ben.Davis@test.com 2022-06-18 14:55:57.056  1 -1   \n",
       "2                     237    Ben.Davis@test.com 2022-06-18 14:55:15.630  0  0   \n",
       "3                     273    Ben.Davis@test.com 2022-06-18 14:56:49.780  1 -1   \n",
       "4                     255    Ben.Davis@test.com 2022-06-18 14:56:42.248  1  0   \n",
       "...                   ...                   ...                     ... .. ..   \n",
       "12314                 219  Jacob.Davis@test.com 2022-06-18 15:00:17.351  0  1   \n",
       "12315                 282  Jacob.Davis@test.com 2022-06-18 15:01:25.244 -1 -1   \n",
       "12316                 266  Jacob.Davis@test.com 2022-06-18 15:00:36.749  1  1   \n",
       "12317                 219  Jacob.Davis@test.com 2022-06-18 15:01:15.545  1  1   \n",
       "12318                 223  Jacob.Davis@test.com 2022-06-18 15:01:02.613  0  1   \n",
       "\n",
       "       z     timestamp1  \n",
       "0     -1  1655564172120  \n",
       "1     -1  1655564157056  \n",
       "2      0  1655564115630  \n",
       "3     -1  1655564209780  \n",
       "4     -1  1655564202248  \n",
       "...   ..            ...  \n",
       "12314 -1  1655564417351  \n",
       "12315 -1  1655564485244  \n",
       "12316  0  1655564436749  \n",
       "12317  0  1655564475545  \n",
       "12318  0  1655564462613  \n",
       "\n",
       "[12319 rows x 9 columns]"
      ]
     },
     "execution_count": 30,
     "metadata": {},
     "output_type": "execute_result"
    }
   ],
   "source": [
    "sdf_t.drop_duplicates('sensorReadingTime') \\\n",
    "    .merge(adf_t.drop_duplicates('timestamp'), \n",
    "           how='inner', left_on='sensorReadingTime', \n",
    "           right_on='timestamp1')"
   ]
  },
  {
   "cell_type": "code",
   "execution_count": 20,
   "id": "f7ba13c2-2561-4dd6-b946-3488c202fda8",
   "metadata": {},
   "outputs": [
    {
     "data": {
      "text/html": [
       "<div>\n",
       "<style scoped>\n",
       "    .dataframe tbody tr th:only-of-type {\n",
       "        vertical-align: middle;\n",
       "    }\n",
       "\n",
       "    .dataframe tbody tr th {\n",
       "        vertical-align: top;\n",
       "    }\n",
       "\n",
       "    .dataframe thead th {\n",
       "        text-align: right;\n",
       "    }\n",
       "</style>\n",
       "<table border=\"1\" class=\"dataframe\">\n",
       "  <thead>\n",
       "    <tr style=\"text-align: right;\">\n",
       "      <th></th>\n",
       "      <th>user</th>\n",
       "      <th>timestamp</th>\n",
       "      <th>x</th>\n",
       "      <th>y</th>\n",
       "      <th>z</th>\n",
       "    </tr>\n",
       "  </thead>\n",
       "  <tbody>\n",
       "    <tr>\n",
       "      <th>17854</th>\n",
       "      <td>Angie.Abram@test.com</td>\n",
       "      <td>1655564379262</td>\n",
       "      <td>-1</td>\n",
       "      <td>-1</td>\n",
       "      <td>0</td>\n",
       "    </tr>\n",
       "    <tr>\n",
       "      <th>17863</th>\n",
       "      <td>Angie.Abram@test.com</td>\n",
       "      <td>1655564379262</td>\n",
       "      <td>-1</td>\n",
       "      <td>-1</td>\n",
       "      <td>-1</td>\n",
       "    </tr>\n",
       "    <tr>\n",
       "      <th>17877</th>\n",
       "      <td>Angie.Abram@test.com</td>\n",
       "      <td>1655564379262</td>\n",
       "      <td>0</td>\n",
       "      <td>1</td>\n",
       "      <td>-1</td>\n",
       "    </tr>\n",
       "    <tr>\n",
       "      <th>17799</th>\n",
       "      <td>Angie.Abram@test.com</td>\n",
       "      <td>1655564382595</td>\n",
       "      <td>0</td>\n",
       "      <td>1</td>\n",
       "      <td>0</td>\n",
       "    </tr>\n",
       "    <tr>\n",
       "      <th>17875</th>\n",
       "      <td>Angie.Abram@test.com</td>\n",
       "      <td>1655564382595</td>\n",
       "      <td>0</td>\n",
       "      <td>-1</td>\n",
       "      <td>-1</td>\n",
       "    </tr>\n",
       "  </tbody>\n",
       "</table>\n",
       "</div>"
      ],
      "text/plain": [
       "                       user      timestamp  x  y  z\n",
       "17854  Angie.Abram@test.com  1655564379262 -1 -1  0\n",
       "17863  Angie.Abram@test.com  1655564379262 -1 -1 -1\n",
       "17877  Angie.Abram@test.com  1655564379262  0  1 -1\n",
       "17799  Angie.Abram@test.com  1655564382595  0  1  0\n",
       "17875  Angie.Abram@test.com  1655564382595  0 -1 -1"
      ]
     },
     "execution_count": 20,
     "metadata": {},
     "output_type": "execute_result"
    }
   ],
   "source": [
    "adf_t.sort_values(['user', 'timestamp']).head()"
   ]
  },
  {
   "cell_type": "code",
   "execution_count": 17,
   "id": "0b076cf0-fb79-44c6-98a9-fe57b3980321",
   "metadata": {},
   "outputs": [
    {
     "data": {
      "text/html": [
       "<div>\n",
       "<style scoped>\n",
       "    .dataframe tbody tr th:only-of-type {\n",
       "        vertical-align: middle;\n",
       "    }\n",
       "\n",
       "    .dataframe tbody tr th {\n",
       "        vertical-align: top;\n",
       "    }\n",
       "\n",
       "    .dataframe thead th {\n",
       "        text-align: right;\n",
       "    }\n",
       "</style>\n",
       "<table border=\"1\" class=\"dataframe\">\n",
       "  <thead>\n",
       "    <tr style=\"text-align: right;\">\n",
       "      <th></th>\n",
       "      <th>sensorReadingTime</th>\n",
       "      <th>serialNumber</th>\n",
       "      <th>distanceFromObject</th>\n",
       "    </tr>\n",
       "  </thead>\n",
       "  <tbody>\n",
       "    <tr>\n",
       "      <th>0</th>\n",
       "      <td>1655564172120</td>\n",
       "      <td>98ec1419-44b7-4016-a584-777f96115cce</td>\n",
       "      <td>246</td>\n",
       "    </tr>\n",
       "    <tr>\n",
       "      <th>1</th>\n",
       "      <td>1655564157056</td>\n",
       "      <td>98ec1419-44b7-4016-a584-777f96115cce</td>\n",
       "      <td>230</td>\n",
       "    </tr>\n",
       "    <tr>\n",
       "      <th>2</th>\n",
       "      <td>1655564115630</td>\n",
       "      <td>98ec1419-44b7-4016-a584-777f96115cce</td>\n",
       "      <td>237</td>\n",
       "    </tr>\n",
       "    <tr>\n",
       "      <th>3</th>\n",
       "      <td>1655564213546</td>\n",
       "      <td>98ec1419-44b7-4016-a584-777f96115cce</td>\n",
       "      <td>216</td>\n",
       "    </tr>\n",
       "    <tr>\n",
       "      <th>4</th>\n",
       "      <td>1655564209780</td>\n",
       "      <td>98ec1419-44b7-4016-a584-777f96115cce</td>\n",
       "      <td>273</td>\n",
       "    </tr>\n",
       "  </tbody>\n",
       "</table>\n",
       "</div>"
      ],
      "text/plain": [
       "   sensorReadingTime                          serialNumber  distanceFromObject\n",
       "0      1655564172120  98ec1419-44b7-4016-a584-777f96115cce                 246\n",
       "1      1655564157056  98ec1419-44b7-4016-a584-777f96115cce                 230\n",
       "2      1655564115630  98ec1419-44b7-4016-a584-777f96115cce                 237\n",
       "3      1655564213546  98ec1419-44b7-4016-a584-777f96115cce                 216\n",
       "4      1655564209780  98ec1419-44b7-4016-a584-777f96115cce                 273"
      ]
     },
     "execution_count": 17,
     "metadata": {},
     "output_type": "execute_result"
    }
   ],
   "source": [
    "sdf_t.head()"
   ]
  },
  {
   "cell_type": "code",
   "execution_count": 18,
   "id": "af4f4e00-0080-43d3-8a3f-ca5be9316fdf",
   "metadata": {},
   "outputs": [
    {
     "data": {
      "text/plain": [
       "serialNumber\n",
       "98ec1419-44b7-4016-a584-777f96115cce    30\n",
       "03d010f1-20dd-45dd-b406-357b1ba0564a    30\n",
       "466bb1b9-5dc3-4607-8f76-e0bcdcf6b9c7    30\n",
       "b5f6b144-0260-4c4f-83e1-469150f9055b    30\n",
       "dbfde3b7-69bf-4c56-a9e8-dfd48af6df89    30\n",
       "                                        ..\n",
       "facde9be-1073-4959-bbb9-72040129a29b    30\n",
       "358dea74-8e8a-43be-b48c-f4e799802888    30\n",
       "abe1cdc7-94f5-4e17-aa55-1342bd7de357    30\n",
       "23fcbd51-9a56-48d1-8d4a-46a7426f4eb5    30\n",
       "de5eb3c3-0c41-41f4-b2d3-1ced6c233327    30\n",
       "Name: count, Length: 482, dtype: int64"
      ]
     },
     "execution_count": 18,
     "metadata": {},
     "output_type": "execute_result"
    }
   ],
   "source": [
    "sdf_t."
   ]
  }
 ],
 "metadata": {
  "kernelspec": {
   "display_name": "Python 3 (ipykernel)",
   "language": "python",
   "name": "python3"
  },
  "language_info": {
   "codemirror_mode": {
    "name": "ipython",
    "version": 3
   },
   "file_extension": ".py",
   "mimetype": "text/x-python",
   "name": "python",
   "nbconvert_exporter": "python",
   "pygments_lexer": "ipython3",
   "version": "3.11.5"
  }
 },
 "nbformat": 4,
 "nbformat_minor": 5
}
