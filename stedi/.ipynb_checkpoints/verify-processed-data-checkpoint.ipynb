{
 "cells": [
  {
   "cell_type": "markdown",
   "id": "4780f5a7-3fd8-45a8-905d-71211404da41",
   "metadata": {},
   "source": [
    "# Verify Processed Data\n",
    "\n",
    "Now that we have the data processed in Glue Job, let's verify it.\n",
    "\n",
    "For example, the curated customer data produced by Glue Job, when read in AWS Athena it has the correct number of rows, but when processed in another Glue Job, only a part of the data got carried over."
   ]
  },
  {
   "cell_type": "code",
   "execution_count": 2,
   "id": "caae5150-82fc-4f99-ae93-3235eb20d542",
   "metadata": {},
   "outputs": [],
   "source": [
    "import os\n",
    "import pandas as pd"
   ]
  },
  {
   "cell_type": "code",
   "execution_count": 4,
   "id": "2ccf295c-db8d-47b1-9c1b-29aaa3fbfe8a",
   "metadata": {},
   "outputs": [
    {
     "ename": "FileNotFoundError",
     "evalue": "[Errno 2] No such file or directory: 'processed_data/customer/curated'",
     "output_type": "error",
     "traceback": [
      "\u001b[0;31m---------------------------------------------------------------------------\u001b[0m",
      "\u001b[0;31mFileNotFoundError\u001b[0m                         Traceback (most recent call last)",
      "Cell \u001b[0;32mIn[4], line 2\u001b[0m\n\u001b[1;32m      1\u001b[0m directory_path \u001b[38;5;241m=\u001b[39m \u001b[38;5;124m'\u001b[39m\u001b[38;5;124mprocessed_data/customer/curated\u001b[39m\u001b[38;5;124m'\u001b[39m\n\u001b[0;32m----> 2\u001b[0m all_files \u001b[38;5;241m=\u001b[39m [f \u001b[38;5;28;01mfor\u001b[39;00m f \u001b[38;5;129;01min\u001b[39;00m \u001b[43mos\u001b[49m\u001b[38;5;241;43m.\u001b[39;49m\u001b[43mlistdir\u001b[49m\u001b[43m(\u001b[49m\u001b[43mdirectory_path\u001b[49m\u001b[43m)\u001b[49m]\n\u001b[1;32m      4\u001b[0m dataframes_list \u001b[38;5;241m=\u001b[39m [pd\u001b[38;5;241m.\u001b[39mread_csv(os\u001b[38;5;241m.\u001b[39mpath\u001b[38;5;241m.\u001b[39mjoin(directory_path, file)) \u001b[38;5;28;01mfor\u001b[39;00m file \u001b[38;5;129;01min\u001b[39;00m all_files]\n\u001b[1;32m      6\u001b[0m df \u001b[38;5;241m=\u001b[39m pd\u001b[38;5;241m.\u001b[39mconcat(dataframes_list, ignore_index\u001b[38;5;241m=\u001b[39m\u001b[38;5;28;01mTrue\u001b[39;00m)\n",
      "\u001b[0;31mFileNotFoundError\u001b[0m: [Errno 2] No such file or directory: 'processed_data/customer/curated'"
     ]
    }
   ],
   "source": [
    "directory_path = './processed_data/customer/curated'\n",
    "all_files = [f for f in os.listdir(directory_path)]\n",
    "\n",
    "dataframes_list = [pd.read_csv(os.path.join(directory_path, file)) for file in all_files]\n",
    "\n",
    "df = pd.concat(dataframes_list, ignore_index=True)\n",
    "df"
   ]
  }
 ],
 "metadata": {
  "kernelspec": {
   "display_name": "Python 3 (ipykernel)",
   "language": "python",
   "name": "python3"
  },
  "language_info": {
   "codemirror_mode": {
    "name": "ipython",
    "version": 3
   },
   "file_extension": ".py",
   "mimetype": "text/x-python",
   "name": "python",
   "nbconvert_exporter": "python",
   "pygments_lexer": "ipython3",
   "version": "3.10.12"
  }
 },
 "nbformat": 4,
 "nbformat_minor": 5
}
