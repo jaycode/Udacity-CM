{
 "cells": [
  {
   "cell_type": "code",
   "execution_count": 1,
   "id": "752c70fa",
   "metadata": {},
   "outputs": [
    {
     "data": {
      "text/html": [
       "<div>\n",
       "<style scoped>\n",
       "    .dataframe tbody tr th:only-of-type {\n",
       "        vertical-align: middle;\n",
       "    }\n",
       "\n",
       "    .dataframe tbody tr th {\n",
       "        vertical-align: top;\n",
       "    }\n",
       "\n",
       "    .dataframe thead th {\n",
       "        text-align: right;\n",
       "    }\n",
       "</style>\n",
       "<table border=\"1\" class=\"dataframe\">\n",
       "  <thead>\n",
       "    <tr style=\"text-align: right;\">\n",
       "      <th></th>\n",
       "      <th>bikes</th>\n",
       "      <th>pants</th>\n",
       "      <th>watches</th>\n",
       "      <th>shirts</th>\n",
       "      <th>shoes</th>\n",
       "      <th>suits</th>\n",
       "      <th>glasses</th>\n",
       "    </tr>\n",
       "  </thead>\n",
       "  <tbody>\n",
       "    <tr>\n",
       "      <th>store 1</th>\n",
       "      <td>20</td>\n",
       "      <td>30</td>\n",
       "      <td>35</td>\n",
       "      <td>15.0</td>\n",
       "      <td>8</td>\n",
       "      <td>45.0</td>\n",
       "      <td>NaN</td>\n",
       "    </tr>\n",
       "    <tr>\n",
       "      <th>store 2</th>\n",
       "      <td>15</td>\n",
       "      <td>5</td>\n",
       "      <td>10</td>\n",
       "      <td>2.0</td>\n",
       "      <td>5</td>\n",
       "      <td>7.0</td>\n",
       "      <td>50.0</td>\n",
       "    </tr>\n",
       "    <tr>\n",
       "      <th>store 3</th>\n",
       "      <td>20</td>\n",
       "      <td>30</td>\n",
       "      <td>35</td>\n",
       "      <td>NaN</td>\n",
       "      <td>10</td>\n",
       "      <td>NaN</td>\n",
       "      <td>4.0</td>\n",
       "    </tr>\n",
       "  </tbody>\n",
       "</table>\n",
       "</div>"
      ],
      "text/plain": [
       "         bikes  pants  watches  shirts  shoes  suits  glasses\n",
       "store 1     20     30       35    15.0      8   45.0      NaN\n",
       "store 2     15      5       10     2.0      5    7.0     50.0\n",
       "store 3     20     30       35     NaN     10    NaN      4.0"
      ]
     },
     "execution_count": 1,
     "metadata": {},
     "output_type": "execute_result"
    }
   ],
   "source": [
    "import pandas as pd\n",
    "from scipy import stats\n",
    "import matplotlib.pyplot as plt\n",
    "import seaborn as sns\n",
    "\n",
    "# We create a list of Python dictionaries\n",
    "items2 = [{'bikes': 20, 'pants': 30, 'watches': 35, 'shirts': 15, 'shoes':8, 'suits':45},\n",
    "{'watches': 10, 'glasses': 50, 'bikes': 15, 'pants':5, 'shirts': 2, 'shoes':5, 'suits':7},\n",
    "{'bikes': 20, 'pants': 30, 'watches': 35, 'glasses': 4, 'shoes':10}]\n",
    "\n",
    "# We create a DataFrame  and provide the row index\n",
    "store_items = pd.DataFrame(items2, index = ['store 1', 'store 2', 'store 3'])\n",
    "\n",
    "# We display the DataFrame\n",
    "store_items"
   ]
  },
  {
   "cell_type": "code",
   "execution_count": 2,
   "id": "1846136a",
   "metadata": {},
   "outputs": [
    {
     "data": {
      "text/html": [
       "<div>\n",
       "<style scoped>\n",
       "    .dataframe tbody tr th:only-of-type {\n",
       "        vertical-align: middle;\n",
       "    }\n",
       "\n",
       "    .dataframe tbody tr th {\n",
       "        vertical-align: top;\n",
       "    }\n",
       "\n",
       "    .dataframe thead th {\n",
       "        text-align: right;\n",
       "    }\n",
       "</style>\n",
       "<table border=\"1\" class=\"dataframe\">\n",
       "  <thead>\n",
       "    <tr style=\"text-align: right;\">\n",
       "      <th></th>\n",
       "      <th>bikes</th>\n",
       "      <th>pants</th>\n",
       "      <th>watches</th>\n",
       "      <th>shirts</th>\n",
       "      <th>shoes</th>\n",
       "      <th>suits</th>\n",
       "      <th>glasses</th>\n",
       "    </tr>\n",
       "  </thead>\n",
       "  <tbody>\n",
       "    <tr>\n",
       "      <th>store 1</th>\n",
       "      <td>20</td>\n",
       "      <td>30</td>\n",
       "      <td>35</td>\n",
       "      <td>15.0</td>\n",
       "      <td>8</td>\n",
       "      <td>45.0</td>\n",
       "      <td>NaN</td>\n",
       "    </tr>\n",
       "    <tr>\n",
       "      <th>store 2</th>\n",
       "      <td>15</td>\n",
       "      <td>5</td>\n",
       "      <td>10</td>\n",
       "      <td>2.0</td>\n",
       "      <td>5</td>\n",
       "      <td>7.0</td>\n",
       "      <td>50.0</td>\n",
       "    </tr>\n",
       "    <tr>\n",
       "      <th>store 3</th>\n",
       "      <td>20</td>\n",
       "      <td>30</td>\n",
       "      <td>35</td>\n",
       "      <td>2.0</td>\n",
       "      <td>10</td>\n",
       "      <td>7.0</td>\n",
       "      <td>4.0</td>\n",
       "    </tr>\n",
       "  </tbody>\n",
       "</table>\n",
       "</div>"
      ],
      "text/plain": [
       "         bikes  pants  watches  shirts  shoes  suits  glasses\n",
       "store 1     20     30       35    15.0      8   45.0      NaN\n",
       "store 2     15      5       10     2.0      5    7.0     50.0\n",
       "store 3     20     30       35     2.0     10    7.0      4.0"
      ]
     },
     "execution_count": 2,
     "metadata": {},
     "output_type": "execute_result"
    }
   ],
   "source": [
    "store_items.interpolate(method = 'linear', axis = 0)"
   ]
  },
  {
   "cell_type": "code",
   "execution_count": 3,
   "id": "2694f150",
   "metadata": {},
   "outputs": [],
   "source": [
    "def interpolate_illust(data, interpolated_data, row, column, axis=0):\n",
    "    # Get valid data\n",
    "    num_valid = 0\n",
    "    if axis == 0:\n",
    "        x = [i for i in [row-1, row, row+1] if 0 <= i < len(data)]\n",
    "        num_valid = len(x)\n",
    "        y = data.iloc[x, column]\n",
    "    else:\n",
    "        x = [i for i in [column-1, column, column+1] if 0 <= i < len(data.columns)]\n",
    "        num_valid = len(x)\n",
    "        y = data.iloc[row, x]\n",
    "\n",
    "    # Display tables\n",
    "    highlight = lambda v, color: f'background-color: {color}'\n",
    "    colorize = lambda v, color: f'color: {color}'\n",
    "\n",
    "    def style_table(df):\n",
    "        styled_df = df.style.map(highlight, color='yellow', \n",
    "                                 subset=(df.index[row], df.columns[column]))\n",
    "        if axis == 0:\n",
    "            for i in x:\n",
    "                if i != row:\n",
    "                    styled_df = styled_df.map(colorize, color='blue',\n",
    "                                              subset=(df.index[i], df.columns[column]))\n",
    "                else:\n",
    "                    styled_df = styled_df.map(colorize, color='red',\n",
    "                                              subset=(df.index[i], df.columns[column]))\n",
    "        else:\n",
    "            for i in x:\n",
    "                if i != column:\n",
    "                    styled_df = styled_df.map(colorize, color='blue',\n",
    "                                              subset=(df.index[row], df.columns[i]))\n",
    "                else:\n",
    "                    styled_df = styled_df.map(colorize, color='red',\n",
    "                                              subset=(df.index[row], df.columns[i]))\n",
    "        return styled_df.format(\"{:.2f}\")\n",
    "\n",
    "    print(\"Before interpolation:\")\n",
    "    display(style_table(data))\n",
    "    print(\"After interpolation:\")\n",
    "    display(style_table(interpolated_data))\n",
    "\n",
    "    # Draw plot\n",
    "    plt.figure(figsize=(6, 4))\n",
    "    if axis == 0:\n",
    "        title = f\"Illustrating interpolation on column '{data.columns[column]}'\"\n",
    "    else:\n",
    "        title = f\"Illustrating interpolation on row '{data.index[row]}'\"\n",
    "        \n",
    "    # Original data points\n",
    "    plt.scatter(x, y, label='Original Data', color='blue')\n",
    "\n",
    "    # Interpolated data points\n",
    "    if axis == 0:\n",
    "        plt.scatter(row, interpolated_data.iloc[row, column], color='red', label='Interpolated Data', zorder=5)        \n",
    "    else:\n",
    "        plt.scatter(column, interpolated_data.iloc[row, column], color='red', label='Interpolated Data', zorder=5)        \n",
    "\n",
    "    # Draw slope only if points > 2\n",
    "    if num_valid > 2:\n",
    "        slope, intercept, _, _, _ = stats.linregress([0, 2], y.dropna().values)\n",
    "        reg_line = [slope * j + intercept for j in range(len(y))]\n",
    "        plt.plot(x, reg_line, linestyle='--', color='grey', alpha=0.7)\n",
    "    if axis == 0:\n",
    "        plt.xticks(x, data.index[x])\n",
    "    elif axis == 1:\n",
    "        plt.xticks(x, data.columns[x])\n",
    "\n",
    "    plt.ylabel('Value')\n",
    "    plt.title(title)\n",
    "    plt.legend()\n",
    "    plt.show()"
   ]
  },
  {
   "cell_type": "code",
   "execution_count": 4,
   "id": "99e10abe",
   "metadata": {},
   "outputs": [
    {
     "name": "stdout",
     "output_type": "stream",
     "text": [
      "Before interpolation:\n"
     ]
    },
    {
     "data": {
      "text/html": [
       "<style type=\"text/css\">\n",
       "#T_fc585_row1_col3 {\n",
       "  color: blue;\n",
       "}\n",
       "#T_fc585_row2_col3 {\n",
       "  background-color: yellow;\n",
       "}\n",
       "</style>\n",
       "<table id=\"T_fc585\">\n",
       "  <thead>\n",
       "    <tr>\n",
       "      <th class=\"blank level0\" >&nbsp;</th>\n",
       "      <th id=\"T_fc585_level0_col0\" class=\"col_heading level0 col0\" >bikes</th>\n",
       "      <th id=\"T_fc585_level0_col1\" class=\"col_heading level0 col1\" >pants</th>\n",
       "      <th id=\"T_fc585_level0_col2\" class=\"col_heading level0 col2\" >watches</th>\n",
       "      <th id=\"T_fc585_level0_col3\" class=\"col_heading level0 col3\" >shirts</th>\n",
       "      <th id=\"T_fc585_level0_col4\" class=\"col_heading level0 col4\" >shoes</th>\n",
       "      <th id=\"T_fc585_level0_col5\" class=\"col_heading level0 col5\" >suits</th>\n",
       "      <th id=\"T_fc585_level0_col6\" class=\"col_heading level0 col6\" >glasses</th>\n",
       "    </tr>\n",
       "  </thead>\n",
       "  <tbody>\n",
       "    <tr>\n",
       "      <th id=\"T_fc585_level0_row0\" class=\"row_heading level0 row0\" >store 1</th>\n",
       "      <td id=\"T_fc585_row0_col0\" class=\"data row0 col0\" >20.00</td>\n",
       "      <td id=\"T_fc585_row0_col1\" class=\"data row0 col1\" >30.00</td>\n",
       "      <td id=\"T_fc585_row0_col2\" class=\"data row0 col2\" >35.00</td>\n",
       "      <td id=\"T_fc585_row0_col3\" class=\"data row0 col3\" >15.00</td>\n",
       "      <td id=\"T_fc585_row0_col4\" class=\"data row0 col4\" >8.00</td>\n",
       "      <td id=\"T_fc585_row0_col5\" class=\"data row0 col5\" >45.00</td>\n",
       "      <td id=\"T_fc585_row0_col6\" class=\"data row0 col6\" >nan</td>\n",
       "    </tr>\n",
       "    <tr>\n",
       "      <th id=\"T_fc585_level0_row1\" class=\"row_heading level0 row1\" >store 2</th>\n",
       "      <td id=\"T_fc585_row1_col0\" class=\"data row1 col0\" >15.00</td>\n",
       "      <td id=\"T_fc585_row1_col1\" class=\"data row1 col1\" >5.00</td>\n",
       "      <td id=\"T_fc585_row1_col2\" class=\"data row1 col2\" >10.00</td>\n",
       "      <td id=\"T_fc585_row1_col3\" class=\"data row1 col3\" >2.00</td>\n",
       "      <td id=\"T_fc585_row1_col4\" class=\"data row1 col4\" >5.00</td>\n",
       "      <td id=\"T_fc585_row1_col5\" class=\"data row1 col5\" >7.00</td>\n",
       "      <td id=\"T_fc585_row1_col6\" class=\"data row1 col6\" >50.00</td>\n",
       "    </tr>\n",
       "    <tr>\n",
       "      <th id=\"T_fc585_level0_row2\" class=\"row_heading level0 row2\" >store 3</th>\n",
       "      <td id=\"T_fc585_row2_col0\" class=\"data row2 col0\" >20.00</td>\n",
       "      <td id=\"T_fc585_row2_col1\" class=\"data row2 col1\" >30.00</td>\n",
       "      <td id=\"T_fc585_row2_col2\" class=\"data row2 col2\" >35.00</td>\n",
       "      <td id=\"T_fc585_row2_col3\" class=\"data row2 col3\" >nan</td>\n",
       "      <td id=\"T_fc585_row2_col4\" class=\"data row2 col4\" >10.00</td>\n",
       "      <td id=\"T_fc585_row2_col5\" class=\"data row2 col5\" >nan</td>\n",
       "      <td id=\"T_fc585_row2_col6\" class=\"data row2 col6\" >4.00</td>\n",
       "    </tr>\n",
       "  </tbody>\n",
       "</table>\n"
      ],
      "text/plain": [
       "<pandas.io.formats.style.Styler at 0x7fac541f8280>"
      ]
     },
     "metadata": {},
     "output_type": "display_data"
    },
    {
     "name": "stdout",
     "output_type": "stream",
     "text": [
      "After interpolation:\n"
     ]
    },
    {
     "data": {
      "text/html": [
       "<style type=\"text/css\">\n",
       "#T_b2000_row1_col3 {\n",
       "  color: blue;\n",
       "}\n",
       "#T_b2000_row2_col3 {\n",
       "  background-color: yellow;\n",
       "}\n",
       "</style>\n",
       "<table id=\"T_b2000\">\n",
       "  <thead>\n",
       "    <tr>\n",
       "      <th class=\"blank level0\" >&nbsp;</th>\n",
       "      <th id=\"T_b2000_level0_col0\" class=\"col_heading level0 col0\" >bikes</th>\n",
       "      <th id=\"T_b2000_level0_col1\" class=\"col_heading level0 col1\" >pants</th>\n",
       "      <th id=\"T_b2000_level0_col2\" class=\"col_heading level0 col2\" >watches</th>\n",
       "      <th id=\"T_b2000_level0_col3\" class=\"col_heading level0 col3\" >shirts</th>\n",
       "      <th id=\"T_b2000_level0_col4\" class=\"col_heading level0 col4\" >shoes</th>\n",
       "      <th id=\"T_b2000_level0_col5\" class=\"col_heading level0 col5\" >suits</th>\n",
       "      <th id=\"T_b2000_level0_col6\" class=\"col_heading level0 col6\" >glasses</th>\n",
       "    </tr>\n",
       "  </thead>\n",
       "  <tbody>\n",
       "    <tr>\n",
       "      <th id=\"T_b2000_level0_row0\" class=\"row_heading level0 row0\" >store 1</th>\n",
       "      <td id=\"T_b2000_row0_col0\" class=\"data row0 col0\" >20.00</td>\n",
       "      <td id=\"T_b2000_row0_col1\" class=\"data row0 col1\" >30.00</td>\n",
       "      <td id=\"T_b2000_row0_col2\" class=\"data row0 col2\" >35.00</td>\n",
       "      <td id=\"T_b2000_row0_col3\" class=\"data row0 col3\" >15.00</td>\n",
       "      <td id=\"T_b2000_row0_col4\" class=\"data row0 col4\" >8.00</td>\n",
       "      <td id=\"T_b2000_row0_col5\" class=\"data row0 col5\" >45.00</td>\n",
       "      <td id=\"T_b2000_row0_col6\" class=\"data row0 col6\" >nan</td>\n",
       "    </tr>\n",
       "    <tr>\n",
       "      <th id=\"T_b2000_level0_row1\" class=\"row_heading level0 row1\" >store 2</th>\n",
       "      <td id=\"T_b2000_row1_col0\" class=\"data row1 col0\" >15.00</td>\n",
       "      <td id=\"T_b2000_row1_col1\" class=\"data row1 col1\" >5.00</td>\n",
       "      <td id=\"T_b2000_row1_col2\" class=\"data row1 col2\" >10.00</td>\n",
       "      <td id=\"T_b2000_row1_col3\" class=\"data row1 col3\" >2.00</td>\n",
       "      <td id=\"T_b2000_row1_col4\" class=\"data row1 col4\" >5.00</td>\n",
       "      <td id=\"T_b2000_row1_col5\" class=\"data row1 col5\" >7.00</td>\n",
       "      <td id=\"T_b2000_row1_col6\" class=\"data row1 col6\" >50.00</td>\n",
       "    </tr>\n",
       "    <tr>\n",
       "      <th id=\"T_b2000_level0_row2\" class=\"row_heading level0 row2\" >store 3</th>\n",
       "      <td id=\"T_b2000_row2_col0\" class=\"data row2 col0\" >20.00</td>\n",
       "      <td id=\"T_b2000_row2_col1\" class=\"data row2 col1\" >30.00</td>\n",
       "      <td id=\"T_b2000_row2_col2\" class=\"data row2 col2\" >35.00</td>\n",
       "      <td id=\"T_b2000_row2_col3\" class=\"data row2 col3\" >2.00</td>\n",
       "      <td id=\"T_b2000_row2_col4\" class=\"data row2 col4\" >10.00</td>\n",
       "      <td id=\"T_b2000_row2_col5\" class=\"data row2 col5\" >7.00</td>\n",
       "      <td id=\"T_b2000_row2_col6\" class=\"data row2 col6\" >4.00</td>\n",
       "    </tr>\n",
       "  </tbody>\n",
       "</table>\n"
      ],
      "text/plain": [
       "<pandas.io.formats.style.Styler at 0x7fac5423f700>"
      ]
     },
     "metadata": {},
     "output_type": "display_data"
    },
    {
     "data": {
      "image/png": "[encoded data removed]",
      "text/plain": [
       "<Figure size 432x288 with 1 Axes>"
      ]
     },
     "metadata": {
      "needs_background": "light"
     },
     "output_type": "display_data"
    }
   ],
   "source": [
    "interpolated_data = store_items.interpolate(method = 'linear', axis = 0)\n",
    "interpolate_illust(store_items, interpolated_data, 2, 3, axis=0)"
   ]
  },
  {
   "cell_type": "code",
   "execution_count": 5,
   "id": "6dae194b",
   "metadata": {},
   "outputs": [
    {
     "name": "stdout",
     "output_type": "stream",
     "text": [
      "Before interpolation:\n"
     ]
    },
    {
     "data": {
      "text/html": [
       "<style type=\"text/css\">\n",
       "#T_e4c6d_row2_col2, #T_e4c6d_row2_col4 {\n",
       "  color: blue;\n",
       "}\n",
       "#T_e4c6d_row2_col3 {\n",
       "  background-color: yellow;\n",
       "}\n",
       "</style>\n",
       "<table id=\"T_e4c6d\">\n",
       "  <thead>\n",
       "    <tr>\n",
       "      <th class=\"blank level0\" >&nbsp;</th>\n",
       "      <th id=\"T_e4c6d_level0_col0\" class=\"col_heading level0 col0\" >bikes</th>\n",
       "      <th id=\"T_e4c6d_level0_col1\" class=\"col_heading level0 col1\" >pants</th>\n",
       "      <th id=\"T_e4c6d_level0_col2\" class=\"col_heading level0 col2\" >watches</th>\n",
       "      <th id=\"T_e4c6d_level0_col3\" class=\"col_heading level0 col3\" >shirts</th>\n",
       "      <th id=\"T_e4c6d_level0_col4\" class=\"col_heading level0 col4\" >shoes</th>\n",
       "      <th id=\"T_e4c6d_level0_col5\" class=\"col_heading level0 col5\" >suits</th>\n",
       "      <th id=\"T_e4c6d_level0_col6\" class=\"col_heading level0 col6\" >glasses</th>\n",
       "    </tr>\n",
       "  </thead>\n",
       "  <tbody>\n",
       "    <tr>\n",
       "      <th id=\"T_e4c6d_level0_row0\" class=\"row_heading level0 row0\" >store 1</th>\n",
       "      <td id=\"T_e4c6d_row0_col0\" class=\"data row0 col0\" >20.00</td>\n",
       "      <td id=\"T_e4c6d_row0_col1\" class=\"data row0 col1\" >30.00</td>\n",
       "      <td id=\"T_e4c6d_row0_col2\" class=\"data row0 col2\" >35.00</td>\n",
       "      <td id=\"T_e4c6d_row0_col3\" class=\"data row0 col3\" >15.00</td>\n",
       "      <td id=\"T_e4c6d_row0_col4\" class=\"data row0 col4\" >8.00</td>\n",
       "      <td id=\"T_e4c6d_row0_col5\" class=\"data row0 col5\" >45.00</td>\n",
       "      <td id=\"T_e4c6d_row0_col6\" class=\"data row0 col6\" >nan</td>\n",
       "    </tr>\n",
       "    <tr>\n",
       "      <th id=\"T_e4c6d_level0_row1\" class=\"row_heading level0 row1\" >store 2</th>\n",
       "      <td id=\"T_e4c6d_row1_col0\" class=\"data row1 col0\" >15.00</td>\n",
       "      <td id=\"T_e4c6d_row1_col1\" class=\"data row1 col1\" >5.00</td>\n",
       "      <td id=\"T_e4c6d_row1_col2\" class=\"data row1 col2\" >10.00</td>\n",
       "      <td id=\"T_e4c6d_row1_col3\" class=\"data row1 col3\" >2.00</td>\n",
       "      <td id=\"T_e4c6d_row1_col4\" class=\"data row1 col4\" >5.00</td>\n",
       "      <td id=\"T_e4c6d_row1_col5\" class=\"data row1 col5\" >7.00</td>\n",
       "      <td id=\"T_e4c6d_row1_col6\" class=\"data row1 col6\" >50.00</td>\n",
       "    </tr>\n",
       "    <tr>\n",
       "      <th id=\"T_e4c6d_level0_row2\" class=\"row_heading level0 row2\" >store 3</th>\n",
       "      <td id=\"T_e4c6d_row2_col0\" class=\"data row2 col0\" >20.00</td>\n",
       "      <td id=\"T_e4c6d_row2_col1\" class=\"data row2 col1\" >30.00</td>\n",
       "      <td id=\"T_e4c6d_row2_col2\" class=\"data row2 col2\" >35.00</td>\n",
       "      <td id=\"T_e4c6d_row2_col3\" class=\"data row2 col3\" >nan</td>\n",
       "      <td id=\"T_e4c6d_row2_col4\" class=\"data row2 col4\" >10.00</td>\n",
       "      <td id=\"T_e4c6d_row2_col5\" class=\"data row2 col5\" >nan</td>\n",
       "      <td id=\"T_e4c6d_row2_col6\" class=\"data row2 col6\" >4.00</td>\n",
       "    </tr>\n",
       "  </tbody>\n",
       "</table>\n"
      ],
      "text/plain": [
       "<pandas.io.formats.style.Styler at 0x7fac541f8ee0>"
      ]
     },
     "metadata": {},
     "output_type": "display_data"
    },
    {
     "name": "stdout",
     "output_type": "stream",
     "text": [
      "After interpolation:\n"
     ]
    },
    {
     "data": {
      "text/html": [
       "<style type=\"text/css\">\n",
       "#T_eaaa9_row2_col2, #T_eaaa9_row2_col4 {\n",
       "  color: blue;\n",
       "}\n",
       "#T_eaaa9_row2_col3 {\n",
       "  background-color: yellow;\n",
       "}\n",
       "</style>\n",
       "<table id=\"T_eaaa9\">\n",
       "  <thead>\n",
       "    <tr>\n",
       "      <th class=\"blank level0\" >&nbsp;</th>\n",
       "      <th id=\"T_eaaa9_level0_col0\" class=\"col_heading level0 col0\" >bikes</th>\n",
       "      <th id=\"T_eaaa9_level0_col1\" class=\"col_heading level0 col1\" >pants</th>\n",
       "      <th id=\"T_eaaa9_level0_col2\" class=\"col_heading level0 col2\" >watches</th>\n",
       "      <th id=\"T_eaaa9_level0_col3\" class=\"col_heading level0 col3\" >shirts</th>\n",
       "      <th id=\"T_eaaa9_level0_col4\" class=\"col_heading level0 col4\" >shoes</th>\n",
       "      <th id=\"T_eaaa9_level0_col5\" class=\"col_heading level0 col5\" >suits</th>\n",
       "      <th id=\"T_eaaa9_level0_col6\" class=\"col_heading level0 col6\" >glasses</th>\n",
       "    </tr>\n",
       "  </thead>\n",
       "  <tbody>\n",
       "    <tr>\n",
       "      <th id=\"T_eaaa9_level0_row0\" class=\"row_heading level0 row0\" >store 1</th>\n",
       "      <td id=\"T_eaaa9_row0_col0\" class=\"data row0 col0\" >20.00</td>\n",
       "      <td id=\"T_eaaa9_row0_col1\" class=\"data row0 col1\" >30.00</td>\n",
       "      <td id=\"T_eaaa9_row0_col2\" class=\"data row0 col2\" >35.00</td>\n",
       "      <td id=\"T_eaaa9_row0_col3\" class=\"data row0 col3\" >15.00</td>\n",
       "      <td id=\"T_eaaa9_row0_col4\" class=\"data row0 col4\" >8.00</td>\n",
       "      <td id=\"T_eaaa9_row0_col5\" class=\"data row0 col5\" >45.00</td>\n",
       "      <td id=\"T_eaaa9_row0_col6\" class=\"data row0 col6\" >45.00</td>\n",
       "    </tr>\n",
       "    <tr>\n",
       "      <th id=\"T_eaaa9_level0_row1\" class=\"row_heading level0 row1\" >store 2</th>\n",
       "      <td id=\"T_eaaa9_row1_col0\" class=\"data row1 col0\" >15.00</td>\n",
       "      <td id=\"T_eaaa9_row1_col1\" class=\"data row1 col1\" >5.00</td>\n",
       "      <td id=\"T_eaaa9_row1_col2\" class=\"data row1 col2\" >10.00</td>\n",
       "      <td id=\"T_eaaa9_row1_col3\" class=\"data row1 col3\" >2.00</td>\n",
       "      <td id=\"T_eaaa9_row1_col4\" class=\"data row1 col4\" >5.00</td>\n",
       "      <td id=\"T_eaaa9_row1_col5\" class=\"data row1 col5\" >7.00</td>\n",
       "      <td id=\"T_eaaa9_row1_col6\" class=\"data row1 col6\" >50.00</td>\n",
       "    </tr>\n",
       "    <tr>\n",
       "      <th id=\"T_eaaa9_level0_row2\" class=\"row_heading level0 row2\" >store 3</th>\n",
       "      <td id=\"T_eaaa9_row2_col0\" class=\"data row2 col0\" >20.00</td>\n",
       "      <td id=\"T_eaaa9_row2_col1\" class=\"data row2 col1\" >30.00</td>\n",
       "      <td id=\"T_eaaa9_row2_col2\" class=\"data row2 col2\" >35.00</td>\n",
       "      <td id=\"T_eaaa9_row2_col3\" class=\"data row2 col3\" >22.50</td>\n",
       "      <td id=\"T_eaaa9_row2_col4\" class=\"data row2 col4\" >10.00</td>\n",
       "      <td id=\"T_eaaa9_row2_col5\" class=\"data row2 col5\" >7.00</td>\n",
       "      <td id=\"T_eaaa9_row2_col6\" class=\"data row2 col6\" >4.00</td>\n",
       "    </tr>\n",
       "  </tbody>\n",
       "</table>\n"
      ],
      "text/plain": [
       "<pandas.io.formats.style.Styler at 0x7fac54078e80>"
      ]
     },
     "metadata": {},
     "output_type": "display_data"
    },
    {
     "data": {
      "image/png": "[encoded data removed]",
      "text/plain": [
       "<Figure size 432x288 with 1 Axes>"
      ]
     },
     "metadata": {
      "needs_background": "light"
     },
     "output_type": "display_data"
    }
   ],
   "source": [
    "interpolated_data = store_items.interpolate(method = 'linear', axis = 1)\n",
    "interpolate_illust(store_items, interpolated_data, 2, 3, axis=1)"
   ]
  },
  {
   "cell_type": "code",
   "execution_count": 6,
   "id": "e5da19a3",
   "metadata": {},
   "outputs": [
    {
     "name": "stdout",
     "output_type": "stream",
     "text": [
      "Before interpolation:\n"
     ]
    },
    {
     "data": {
      "text/html": [
       "<style type=\"text/css\">\n",
       "#T_fa93c_row0_col5 {\n",
       "  color: blue;\n",
       "}\n",
       "#T_fa93c_row0_col6 {\n",
       "  background-color: yellow;\n",
       "}\n",
       "</style>\n",
       "<table id=\"T_fa93c\">\n",
       "  <thead>\n",
       "    <tr>\n",
       "      <th class=\"blank level0\" >&nbsp;</th>\n",
       "      <th id=\"T_fa93c_level0_col0\" class=\"col_heading level0 col0\" >bikes</th>\n",
       "      <th id=\"T_fa93c_level0_col1\" class=\"col_heading level0 col1\" >pants</th>\n",
       "      <th id=\"T_fa93c_level0_col2\" class=\"col_heading level0 col2\" >watches</th>\n",
       "      <th id=\"T_fa93c_level0_col3\" class=\"col_heading level0 col3\" >shirts</th>\n",
       "      <th id=\"T_fa93c_level0_col4\" class=\"col_heading level0 col4\" >shoes</th>\n",
       "      <th id=\"T_fa93c_level0_col5\" class=\"col_heading level0 col5\" >suits</th>\n",
       "      <th id=\"T_fa93c_level0_col6\" class=\"col_heading level0 col6\" >glasses</th>\n",
       "    </tr>\n",
       "  </thead>\n",
       "  <tbody>\n",
       "    <tr>\n",
       "      <th id=\"T_fa93c_level0_row0\" class=\"row_heading level0 row0\" >store 1</th>\n",
       "      <td id=\"T_fa93c_row0_col0\" class=\"data row0 col0\" >20.00</td>\n",
       "      <td id=\"T_fa93c_row0_col1\" class=\"data row0 col1\" >30.00</td>\n",
       "      <td id=\"T_fa93c_row0_col2\" class=\"data row0 col2\" >35.00</td>\n",
       "      <td id=\"T_fa93c_row0_col3\" class=\"data row0 col3\" >15.00</td>\n",
       "      <td id=\"T_fa93c_row0_col4\" class=\"data row0 col4\" >8.00</td>\n",
       "      <td id=\"T_fa93c_row0_col5\" class=\"data row0 col5\" >45.00</td>\n",
       "      <td id=\"T_fa93c_row0_col6\" class=\"data row0 col6\" >nan</td>\n",
       "    </tr>\n",
       "    <tr>\n",
       "      <th id=\"T_fa93c_level0_row1\" class=\"row_heading level0 row1\" >store 2</th>\n",
       "      <td id=\"T_fa93c_row1_col0\" class=\"data row1 col0\" >15.00</td>\n",
       "      <td id=\"T_fa93c_row1_col1\" class=\"data row1 col1\" >5.00</td>\n",
       "      <td id=\"T_fa93c_row1_col2\" class=\"data row1 col2\" >10.00</td>\n",
       "      <td id=\"T_fa93c_row1_col3\" class=\"data row1 col3\" >2.00</td>\n",
       "      <td id=\"T_fa93c_row1_col4\" class=\"data row1 col4\" >5.00</td>\n",
       "      <td id=\"T_fa93c_row1_col5\" class=\"data row1 col5\" >7.00</td>\n",
       "      <td id=\"T_fa93c_row1_col6\" class=\"data row1 col6\" >50.00</td>\n",
       "    </tr>\n",
       "    <tr>\n",
       "      <th id=\"T_fa93c_level0_row2\" class=\"row_heading level0 row2\" >store 3</th>\n",
       "      <td id=\"T_fa93c_row2_col0\" class=\"data row2 col0\" >20.00</td>\n",
       "      <td id=\"T_fa93c_row2_col1\" class=\"data row2 col1\" >30.00</td>\n",
       "      <td id=\"T_fa93c_row2_col2\" class=\"data row2 col2\" >35.00</td>\n",
       "      <td id=\"T_fa93c_row2_col3\" class=\"data row2 col3\" >nan</td>\n",
       "      <td id=\"T_fa93c_row2_col4\" class=\"data row2 col4\" >10.00</td>\n",
       "      <td id=\"T_fa93c_row2_col5\" class=\"data row2 col5\" >nan</td>\n",
       "      <td id=\"T_fa93c_row2_col6\" class=\"data row2 col6\" >4.00</td>\n",
       "    </tr>\n",
       "  </tbody>\n",
       "</table>\n"
      ],
      "text/plain": [
       "<pandas.io.formats.style.Styler at 0x7fac53f5d2e0>"
      ]
     },
     "metadata": {},
     "output_type": "display_data"
    },
    {
     "name": "stdout",
     "output_type": "stream",
     "text": [
      "After interpolation:\n"
     ]
    },
    {
     "data": {
      "text/html": [
       "<style type=\"text/css\">\n",
       "#T_5ed3c_row0_col5 {\n",
       "  color: blue;\n",
       "}\n",
       "#T_5ed3c_row0_col6 {\n",
       "  background-color: yellow;\n",
       "}\n",
       "</style>\n",
       "<table id=\"T_5ed3c\">\n",
       "  <thead>\n",
       "    <tr>\n",
       "      <th class=\"blank level0\" >&nbsp;</th>\n",
       "      <th id=\"T_5ed3c_level0_col0\" class=\"col_heading level0 col0\" >bikes</th>\n",
       "      <th id=\"T_5ed3c_level0_col1\" class=\"col_heading level0 col1\" >pants</th>\n",
       "      <th id=\"T_5ed3c_level0_col2\" class=\"col_heading level0 col2\" >watches</th>\n",
       "      <th id=\"T_5ed3c_level0_col3\" class=\"col_heading level0 col3\" >shirts</th>\n",
       "      <th id=\"T_5ed3c_level0_col4\" class=\"col_heading level0 col4\" >shoes</th>\n",
       "      <th id=\"T_5ed3c_level0_col5\" class=\"col_heading level0 col5\" >suits</th>\n",
       "      <th id=\"T_5ed3c_level0_col6\" class=\"col_heading level0 col6\" >glasses</th>\n",
       "    </tr>\n",
       "  </thead>\n",
       "  <tbody>\n",
       "    <tr>\n",
       "      <th id=\"T_5ed3c_level0_row0\" class=\"row_heading level0 row0\" >store 1</th>\n",
       "      <td id=\"T_5ed3c_row0_col0\" class=\"data row0 col0\" >20.00</td>\n",
       "      <td id=\"T_5ed3c_row0_col1\" class=\"data row0 col1\" >30.00</td>\n",
       "      <td id=\"T_5ed3c_row0_col2\" class=\"data row0 col2\" >35.00</td>\n",
       "      <td id=\"T_5ed3c_row0_col3\" class=\"data row0 col3\" >15.00</td>\n",
       "      <td id=\"T_5ed3c_row0_col4\" class=\"data row0 col4\" >8.00</td>\n",
       "      <td id=\"T_5ed3c_row0_col5\" class=\"data row0 col5\" >45.00</td>\n",
       "      <td id=\"T_5ed3c_row0_col6\" class=\"data row0 col6\" >45.00</td>\n",
       "    </tr>\n",
       "    <tr>\n",
       "      <th id=\"T_5ed3c_level0_row1\" class=\"row_heading level0 row1\" >store 2</th>\n",
       "      <td id=\"T_5ed3c_row1_col0\" class=\"data row1 col0\" >15.00</td>\n",
       "      <td id=\"T_5ed3c_row1_col1\" class=\"data row1 col1\" >5.00</td>\n",
       "      <td id=\"T_5ed3c_row1_col2\" class=\"data row1 col2\" >10.00</td>\n",
       "      <td id=\"T_5ed3c_row1_col3\" class=\"data row1 col3\" >2.00</td>\n",
       "      <td id=\"T_5ed3c_row1_col4\" class=\"data row1 col4\" >5.00</td>\n",
       "      <td id=\"T_5ed3c_row1_col5\" class=\"data row1 col5\" >7.00</td>\n",
       "      <td id=\"T_5ed3c_row1_col6\" class=\"data row1 col6\" >50.00</td>\n",
       "    </tr>\n",
       "    <tr>\n",
       "      <th id=\"T_5ed3c_level0_row2\" class=\"row_heading level0 row2\" >store 3</th>\n",
       "      <td id=\"T_5ed3c_row2_col0\" class=\"data row2 col0\" >20.00</td>\n",
       "      <td id=\"T_5ed3c_row2_col1\" class=\"data row2 col1\" >30.00</td>\n",
       "      <td id=\"T_5ed3c_row2_col2\" class=\"data row2 col2\" >35.00</td>\n",
       "      <td id=\"T_5ed3c_row2_col3\" class=\"data row2 col3\" >22.50</td>\n",
       "      <td id=\"T_5ed3c_row2_col4\" class=\"data row2 col4\" >10.00</td>\n",
       "      <td id=\"T_5ed3c_row2_col5\" class=\"data row2 col5\" >7.00</td>\n",
       "      <td id=\"T_5ed3c_row2_col6\" class=\"data row2 col6\" >4.00</td>\n",
       "    </tr>\n",
       "  </tbody>\n",
       "</table>\n"
      ],
      "text/plain": [
       "<pandas.io.formats.style.Styler at 0x7fac53f5d6a0>"
      ]
     },
     "metadata": {},
     "output_type": "display_data"
    },
    {
     "data": {
      "image/png": "[encoded data removed]",
      "text/plain": [
       "<Figure size 432x288 with 1 Axes>"
      ]
     },
     "metadata": {
      "needs_background": "light"
     },
     "output_type": "display_data"
    }
   ],
   "source": [
    "interpolated_data = store_items.interpolate(method = 'linear', axis = 1)\n",
    "interpolate_illust(store_items, interpolated_data, 0, 6, axis=1)"
   ]
  }
 ],
 "metadata": {
  "kernelspec": {
   "display_name": "Python 3 (ipykernel)",
   "language": "python",
   "name": "python3"
  },
  "language_info": {
   "codemirror_mode": {
    "name": "ipython",
    "version": 3
   },
   "file_extension": ".py",
   "mimetype": "text/x-python",
   "name": "python",
   "nbconvert_exporter": "python",
   "pygments_lexer": "ipython3",
   "version": "3.9.18"
  }
 },
 "nbformat": 4,
 "nbformat_minor": 5
}
