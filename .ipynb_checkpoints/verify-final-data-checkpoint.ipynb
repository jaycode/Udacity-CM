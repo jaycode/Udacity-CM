{
 "cells": [
  {
   "cell_type": "markdown",
   "id": "1c2ddef4-7d55-41a6-96a5-c75e32bf6ab3",
   "metadata": {},
   "source": [
    "# Verify Tables in the STEDI Human Balance Analytics Project\n",
    "\n",
    "In this notebook, we are going to verify the number of rows in all stages of the tables in this project.\n",
    "\n",
    "The rubric requires you to have the tables at various stages to have the following number of rows:\n",
    "\n",
    "- Landing\n",
    "  - Customer: 956\n",
    "  - Accelerometer: 81273\n",
    "  - Step Trainer: 28680\n",
    "- Trusted\n",
    "  - Customer: 482\n",
    "  - Accelerometer: 40981\n",
    "  - Step Trainer: 14460\n",
    "- Curated\n",
    "  - Customer: 482\n",
    "  - Machine Learning: 38403\n",
    " \n",
    "Let's now see if the numbers of rows are correct when combined via pandas."
   ]
  },
  {
   "cell_type": "code",
   "execution_count": 48,
   "id": "af27d81c-b73b-4036-b4d2-f3f17b4e6ab0",
   "metadata": {},
   "outputs": [],
   "source": [
    "import os\n",
    "import pandas as pd\n",
    "\n",
    "cust_dir = \"../final_data/customer/landing\"\n",
    "acc_dir = \"../final_data/accelerometer/landing\"\n",
    "st_dir = \"../final_data/step_trainer/landing\"\n",
    "\n",
    "def load(path):\n",
    "    df = pd.DataFrame()\n",
    "    for filename in os.listdir(path):\n",
    "        if filename.endswith('.json'):\n",
    "            file_path = os.path.join(path, filename)\n",
    "            df_ = pd.read_json(file_path, lines=True)\n",
    "            df = pd.concat([df, df_], ignore_index=True)\n",
    "    return df\n",
    "cdf = load(cust_dir)\n",
    "adf = load(acc_dir)\n",
    "sdf = load(st_dir)"
   ]
  },
  {
   "cell_type": "code",
   "execution_count": 49,
   "id": "887125e6-5088-49c5-aa9c-5957c112a7a3",
   "metadata": {},
   "outputs": [
    {
     "name": "stdout",
     "output_type": "stream",
     "text": [
      "<class 'pandas.core.frame.DataFrame'>\n",
      "RangeIndex: 956 entries, 0 to 955\n",
      "Data columns (total 10 columns):\n",
      " #   Column                     Non-Null Count  Dtype  \n",
      "---  ------                     --------------  -----  \n",
      " 0   customerName               956 non-null    object \n",
      " 1   email                      956 non-null    object \n",
      " 2   phone                      956 non-null    int64  \n",
      " 3   birthDay                   956 non-null    object \n",
      " 4   serialNumber               956 non-null    object \n",
      " 5   registrationDate           956 non-null    int64  \n",
      " 6   lastUpdateDate             956 non-null    int64  \n",
      " 7   shareWithResearchAsOfDate  482 non-null    float64\n",
      " 8   shareWithPublicAsOfDate    491 non-null    float64\n",
      " 9   shareWithFriendsAsOfDate   508 non-null    float64\n",
      "dtypes: float64(3), int64(3), object(4)\n",
      "memory usage: 74.8+ KB\n"
     ]
    },
    {
     "data": {
      "text/plain": [
       "None"
      ]
     },
     "metadata": {},
     "output_type": "display_data"
    },
    {
     "name": "stdout",
     "output_type": "stream",
     "text": [
      "<class 'pandas.core.frame.DataFrame'>\n",
      "RangeIndex: 81273 entries, 0 to 81272\n",
      "Data columns (total 5 columns):\n",
      " #   Column     Non-Null Count  Dtype         \n",
      "---  ------     --------------  -----         \n",
      " 0   user       81273 non-null  object        \n",
      " 1   timestamp  81273 non-null  datetime64[ns]\n",
      " 2   x          81273 non-null  int64         \n",
      " 3   y          81273 non-null  int64         \n",
      " 4   z          81273 non-null  int64         \n",
      "dtypes: datetime64[ns](1), int64(3), object(1)\n",
      "memory usage: 3.1+ MB\n"
     ]
    },
    {
     "data": {
      "text/plain": [
       "None"
      ]
     },
     "metadata": {},
     "output_type": "display_data"
    },
    {
     "name": "stdout",
     "output_type": "stream",
     "text": [
      "<class 'pandas.core.frame.DataFrame'>\n",
      "RangeIndex: 28680 entries, 0 to 28679\n",
      "Data columns (total 3 columns):\n",
      " #   Column              Non-Null Count  Dtype \n",
      "---  ------              --------------  ----- \n",
      " 0   sensorReadingTime   28680 non-null  int64 \n",
      " 1   serialNumber        28680 non-null  object\n",
      " 2   distanceFromObject  28680 non-null  int64 \n",
      "dtypes: int64(2), object(1)\n",
      "memory usage: 672.3+ KB\n"
     ]
    },
    {
     "data": {
      "text/plain": [
       "None"
      ]
     },
     "metadata": {},
     "output_type": "display_data"
    }
   ],
   "source": [
    "display(cdf.info())\n",
    "display(adf.info())\n",
    "display(sdf.info())"
   ]
  },
  {
   "cell_type": "code",
   "execution_count": 50,
   "id": "ec0b1ae9-edfd-40a9-9865-eaff851103af",
   "metadata": {},
   "outputs": [
    {
     "name": "stdout",
     "output_type": "stream",
     "text": [
      "<class 'pandas.core.frame.DataFrame'>\n",
      "Index: 482 entries, 0 to 954\n",
      "Data columns (total 10 columns):\n",
      " #   Column                     Non-Null Count  Dtype  \n",
      "---  ------                     --------------  -----  \n",
      " 0   customerName               482 non-null    object \n",
      " 1   email                      482 non-null    object \n",
      " 2   phone                      482 non-null    int64  \n",
      " 3   birthDay                   482 non-null    object \n",
      " 4   serialNumber               482 non-null    object \n",
      " 5   registrationDate           482 non-null    int64  \n",
      " 6   lastUpdateDate             482 non-null    int64  \n",
      " 7   shareWithResearchAsOfDate  482 non-null    float64\n",
      " 8   shareWithPublicAsOfDate    240 non-null    float64\n",
      " 9   shareWithFriendsAsOfDate   270 non-null    float64\n",
      "dtypes: float64(3), int64(3), object(4)\n",
      "memory usage: 41.4+ KB\n"
     ]
    }
   ],
   "source": [
    "# customer trusted\n",
    "cdf_t = cdf[~cdf['shareWithResearchAsOfDate'].isna()]\n",
    "cdf_t.info()"
   ]
  },
  {
   "cell_type": "code",
   "execution_count": 51,
   "id": "236e3a3d-85b5-4129-b217-86e66395e160",
   "metadata": {},
   "outputs": [
    {
     "name": "stdout",
     "output_type": "stream",
     "text": [
      "<class 'pandas.core.frame.DataFrame'>\n",
      "RangeIndex: 40981 entries, 0 to 40980\n",
      "Data columns (total 5 columns):\n",
      " #   Column     Non-Null Count  Dtype         \n",
      "---  ------     --------------  -----         \n",
      " 0   user       40981 non-null  object        \n",
      " 1   timestamp  40981 non-null  datetime64[ns]\n",
      " 2   x          40981 non-null  int64         \n",
      " 3   y          40981 non-null  int64         \n",
      " 4   z          40981 non-null  int64         \n",
      "dtypes: datetime64[ns](1), int64(3), object(1)\n",
      "memory usage: 1.6+ MB\n"
     ]
    }
   ],
   "source": [
    "# accelerometer trusted\n",
    "adf_t = adf.merge(cdf_t, how='inner', left_on='user', right_on='email')\n",
    "adf_t = adf_t[adf.columns]\n",
    "adf_t.info()"
   ]
  },
  {
   "cell_type": "code",
   "execution_count": 52,
   "id": "f45a93c1-4393-4d67-aac1-dfadf55fd679",
   "metadata": {},
   "outputs": [
    {
     "name": "stdout",
     "output_type": "stream",
     "text": [
      "<class 'pandas.core.frame.DataFrame'>\n",
      "RangeIndex: 40981 entries, 0 to 40980\n",
      "Data columns (total 10 columns):\n",
      " #   Column                     Non-Null Count  Dtype  \n",
      "---  ------                     --------------  -----  \n",
      " 0   customerName               40981 non-null  object \n",
      " 1   email                      40981 non-null  object \n",
      " 2   phone                      40981 non-null  int64  \n",
      " 3   birthDay                   40981 non-null  object \n",
      " 4   serialNumber               40981 non-null  object \n",
      " 5   registrationDate           40981 non-null  int64  \n",
      " 6   lastUpdateDate             40981 non-null  int64  \n",
      " 7   shareWithResearchAsOfDate  40981 non-null  float64\n",
      " 8   shareWithPublicAsOfDate    20404 non-null  float64\n",
      " 9   shareWithFriendsAsOfDate   22979 non-null  float64\n",
      "dtypes: float64(3), int64(3), object(4)\n",
      "memory usage: 3.1+ MB\n"
     ]
    }
   ],
   "source": [
    "# customer curated\n",
    "cdf_c = cdf_t.merge(adf_t, how='inner', left_on='email', right_on='user')\n",
    "cdf_c = cdf_c[cdf.columns]\n",
    "cdf_c.info()"
   ]
  },
  {
   "cell_type": "code",
   "execution_count": 53,
   "id": "1e9e004e-64cc-4731-bf6c-1e9ba42fa388",
   "metadata": {},
   "outputs": [
    {
     "name": "stdout",
     "output_type": "stream",
     "text": [
      "<class 'pandas.core.frame.DataFrame'>\n",
      "Index: 14460 entries, 0 to 1229343\n",
      "Data columns (total 3 columns):\n",
      " #   Column              Non-Null Count  Dtype \n",
      "---  ------              --------------  ----- \n",
      " 0   sensorReadingTime   14460 non-null  int64 \n",
      " 1   serialNumber        14460 non-null  object\n",
      " 2   distanceFromObject  14460 non-null  int64 \n",
      "dtypes: int64(2), object(1)\n",
      "memory usage: 451.9+ KB\n"
     ]
    }
   ],
   "source": [
    "# step trainer trusted\n",
    "sdf_t = sdf.merge(cdf_c, how='inner', left_on='serialNumber', right_on='serialNumber')\n",
    "sdf_t = sdf_t[sdf.columns]\n",
    "sdf_t = sdf_t.drop_duplicates()\n",
    "sdf_t.info()"
   ]
  },
  {
   "cell_type": "code",
   "execution_count": 54,
   "id": "5377167e-c3ca-457c-8d10-f3c70c82e5bb",
   "metadata": {},
   "outputs": [
    {
     "name": "stdout",
     "output_type": "stream",
     "text": [
      "<class 'pandas.core.frame.DataFrame'>\n",
      "RangeIndex: 38403 entries, 0 to 38402\n",
      "Data columns (total 8 columns):\n",
      " #   Column              Non-Null Count  Dtype \n",
      "---  ------              --------------  ----- \n",
      " 0   sensorReadingTime   38403 non-null  int64 \n",
      " 1   serialNumber        38403 non-null  object\n",
      " 2   distanceFromObject  38403 non-null  int64 \n",
      " 3   user                38403 non-null  object\n",
      " 4   timestamp           38403 non-null  int64 \n",
      " 5   x                   38403 non-null  int64 \n",
      " 6   y                   38403 non-null  int64 \n",
      " 7   z                   38403 non-null  int64 \n",
      "dtypes: int64(6), object(2)\n",
      "memory usage: 2.3+ MB\n"
     ]
    }
   ],
   "source": [
    "# machine learning curated\n",
    "adf_t['timestamp'] = (adf_t['timestamp'].astype('int64')/1000000).astype('int64')\n",
    "mdf = sdf_t.merge(adf_t, how='inner', left_on='sensorReadingTime', right_on='timestamp')\n",
    "mdf.info()"
   ]
  }
 ],
 "metadata": {
  "kernelspec": {
   "display_name": "Python 3 (ipykernel)",
   "language": "python",
   "name": "python3"
  },
  "language_info": {
   "codemirror_mode": {
    "name": "ipython",
    "version": 3
   },
   "file_extension": ".py",
   "mimetype": "text/x-python",
   "name": "python",
   "nbconvert_exporter": "python",
   "pygments_lexer": "ipython3",
   "version": "3.11.5"
  }
 },
 "nbformat": 4,
 "nbformat_minor": 5
}
